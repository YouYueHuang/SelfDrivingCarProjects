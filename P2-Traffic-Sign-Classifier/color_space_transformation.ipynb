{
 "cells": [
  {
   "cell_type": "code",
   "execution_count": 2,
   "metadata": {},
   "outputs": [],
   "source": [
    "import numpy as np\n",
    "import cv2\n",
    "from tqdm import tqdm\n",
    "%matplotlib inline"
   ]
  },
  {
   "cell_type": "markdown",
   "metadata": {},
   "source": [
    "## Changing Color-space"
   ]
  },
  {
   "cell_type": "markdown",
   "metadata": {},
   "source": [
    "> For HSV, Hue range is [0,179], Saturation range is [0,255] and Value range is [0,255]."
   ]
  },
  {
   "cell_type": "markdown",
   "metadata": {},
   "source": [
    "> `mpimg.imread()` will read in an **RGB** image: convert to grayscale using `cv2.COLOR_RGB2GRAY`\n",
    "\n",
    "> `cv2.imread()` or the **glob API** will read in a **BGR** image: convert to grayscale using `cv2.COLOR_BGR2GRAY`."
   ]
  },
  {
   "cell_type": "markdown",
   "metadata": {},
   "source": [
    "> dtype=uint8  pixel range is [0,255]"
   ]
  },
  {
   "cell_type": "code",
   "execution_count": 3,
   "metadata": {},
   "outputs": [],
   "source": [
    "def HSV_space(img):\n",
    "    \"\"\"\n",
    "    input is an uint8 type image\n",
    "    \"\"\"\n",
    "    return cv2.cvtColor(img, cv2.COLOR_RGB2HSV)\n",
    "\n",
    "def image_Normalization_1(img_batches):\n",
    "    return ((np.float32(img_batches)-128.0) / 128.0)\n",
    "\n",
    "def image_Normalization_2(image):\n",
    "    _min=image.min()\n",
    "    _max=image.max()\n",
    "    return (image-_min) /(_max-_min)\n",
    "\n",
    "def grayscale(img_batches):\n",
    "    return np.expand_dims(0.21 * img_batches[:,:,:,0] + 0.72 * img_batches[:,:,:,1] + 0.07 * img_batches[:,:,:,2], axis=-1)\n",
    "\n",
    "def grayscale_cv2(img):\n",
    "    \"\"\"\n",
    "    input is an uint8 type image\n",
    "    \"\"\"\n",
    "    return cv2.cvtColor(img, cv2.COLOR_RGB2GRAY)"
   ]
  },
  {
   "cell_type": "code",
   "execution_count": null,
   "metadata": {},
   "outputs": [],
   "source": []
  }
 ],
 "metadata": {
  "kernelspec": {
   "display_name": "Python 3",
   "language": "python",
   "name": "python3"
  },
  "language_info": {
   "codemirror_mode": {
    "name": "ipython",
    "version": 3
   },
   "file_extension": ".py",
   "mimetype": "text/x-python",
   "name": "python",
   "nbconvert_exporter": "python",
   "pygments_lexer": "ipython3",
   "version": "3.6.3"
  },
  "nav_menu": {},
  "toc": {
   "navigate_menu": true,
   "number_sections": true,
   "sideBar": true,
   "threshold": 6,
   "toc_cell": false,
   "toc_section_display": "block",
   "toc_window_display": false
  }
 },
 "nbformat": 4,
 "nbformat_minor": 2
}
