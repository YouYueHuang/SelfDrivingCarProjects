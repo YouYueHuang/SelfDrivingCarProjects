{
 "cells": [
  {
   "cell_type": "markdown",
   "metadata": {
    "toc": "true"
   },
   "source": [
    "# Table of Contents\n",
    " <p><div class=\"lev1 toc-item\"><a href=\"#Project:-Build-a-Traffic-Sign-Recognition-Classifier\" data-toc-modified-id=\"Project:-Build-a-Traffic-Sign-Recognition-Classifier-1\"><span class=\"toc-item-num\">1&nbsp;&nbsp;</span>Project: Build a Traffic Sign Recognition Classifier</a></div><div class=\"lev2 toc-item\"><a href=\"#Import-packages\" data-toc-modified-id=\"Import-packages-1.1\"><span class=\"toc-item-num\">1.1&nbsp;&nbsp;</span>Import packages</a></div><div class=\"lev2 toc-item\"><a href=\"#Load-The-Data\" data-toc-modified-id=\"Load-The-Data-1.2\"><span class=\"toc-item-num\">1.2&nbsp;&nbsp;</span>Load The Data</a></div><div class=\"lev2 toc-item\"><a href=\"#Data-exploration\" data-toc-modified-id=\"Data-exploration-1.3\"><span class=\"toc-item-num\">1.3&nbsp;&nbsp;</span>Data exploration</a></div><div class=\"lev3 toc-item\"><a href=\"#normalized-class-distribution\" data-toc-modified-id=\"normalized-class-distribution-1.3.1\"><span class=\"toc-item-num\">1.3.1&nbsp;&nbsp;</span>normalized class distribution</a></div><div class=\"lev2 toc-item\"><a href=\"#Stratified-Sampling\" data-toc-modified-id=\"Stratified-Sampling-1.4\"><span class=\"toc-item-num\">1.4&nbsp;&nbsp;</span>Stratified Sampling</a></div><div class=\"lev2 toc-item\"><a href=\"#Model\" data-toc-modified-id=\"Model-1.5\"><span class=\"toc-item-num\">1.5&nbsp;&nbsp;</span>Model</a></div><div class=\"lev3 toc-item\"><a href=\"#parameters\" data-toc-modified-id=\"parameters-1.5.1\"><span class=\"toc-item-num\">1.5.1&nbsp;&nbsp;</span>parameters</a></div><div class=\"lev3 toc-item\"><a href=\"#Architecture\" data-toc-modified-id=\"Architecture-1.5.2\"><span class=\"toc-item-num\">1.5.2&nbsp;&nbsp;</span>Architecture</a></div><div class=\"lev3 toc-item\"><a href=\"#Data-preprocessing\" data-toc-modified-id=\"Data-preprocessing-1.5.3\"><span class=\"toc-item-num\">1.5.3&nbsp;&nbsp;</span>Data preprocessing</a></div><div class=\"lev3 toc-item\"><a href=\"#train,-evaluation-and-test\" data-toc-modified-id=\"train,-evaluation-and-test-1.5.4\"><span class=\"toc-item-num\">1.5.4&nbsp;&nbsp;</span>train, evaluation and test</a></div><div class=\"lev3 toc-item\"><a href=\"#Histogram-of-Oriented-Gradient-(HOG)-features\" data-toc-modified-id=\"Histogram-of-Oriented-Gradient-(HOG)-features-1.5.5\"><span class=\"toc-item-num\">1.5.5&nbsp;&nbsp;</span>Histogram of Oriented Gradient (HOG) features</a></div><div class=\"lev3 toc-item\"><a href=\"#Train,-Validate-and-Test-the-Model\" data-toc-modified-id=\"Train,-Validate-and-Test-the-Model-1.5.6\"><span class=\"toc-item-num\">1.5.6&nbsp;&nbsp;</span>Train, Validate and Test the Model</a></div><div class=\"lev2 toc-item\"><a href=\"#Step-3:-Test-a-Model-on-New-Images\" data-toc-modified-id=\"Step-3:-Test-a-Model-on-New-Images-1.6\"><span class=\"toc-item-num\">1.6&nbsp;&nbsp;</span>Step 3: Test a Model on New Images</a></div><div class=\"lev3 toc-item\"><a href=\"#Load-and-Output-the-Images\" data-toc-modified-id=\"Load-and-Output-the-Images-1.6.1\"><span class=\"toc-item-num\">1.6.1&nbsp;&nbsp;</span>Load and Output the Images</a></div><div class=\"lev3 toc-item\"><a href=\"#Predict-the-Sign-Type-for-Each-Image\" data-toc-modified-id=\"Predict-the-Sign-Type-for-Each-Image-1.6.2\"><span class=\"toc-item-num\">1.6.2&nbsp;&nbsp;</span>Predict the Sign Type for Each Image</a></div><div class=\"lev3 toc-item\"><a href=\"#Analyze-Performance\" data-toc-modified-id=\"Analyze-Performance-1.6.3\"><span class=\"toc-item-num\">1.6.3&nbsp;&nbsp;</span>Analyze Performance</a></div><div class=\"lev3 toc-item\"><a href=\"#Output-Top-5-Softmax-Probabilities-For-Each-Image-Found-on-the-Web\" data-toc-modified-id=\"Output-Top-5-Softmax-Probabilities-For-Each-Image-Found-on-the-Web-1.6.4\"><span class=\"toc-item-num\">1.6.4&nbsp;&nbsp;</span>Output Top 5 Softmax Probabilities For Each Image Found on the Web</a></div><div class=\"lev3 toc-item\"><a href=\"#Project-Writeup\" data-toc-modified-id=\"Project-Writeup-1.6.5\"><span class=\"toc-item-num\">1.6.5&nbsp;&nbsp;</span>Project Writeup</a></div><div class=\"lev2 toc-item\"><a href=\"#Step-4-(Optional):-Visualize-the-Neural-Network's-State-with-Test-Images\" data-toc-modified-id=\"Step-4-(Optional):-Visualize-the-Neural-Network's-State-with-Test-Images-1.7\"><span class=\"toc-item-num\">1.7&nbsp;&nbsp;</span>Step 4 (Optional): Visualize the Neural Network's State with Test Images</a></div><div class=\"lev3 toc-item\"><a href=\"#Test-accuracy-over-steps\" data-toc-modified-id=\"Test-accuracy-over-steps-1.7.1\"><span class=\"toc-item-num\">1.7.1&nbsp;&nbsp;</span>Test accuracy over steps</a></div><div class=\"lev3 toc-item\"><a href=\"#cost-over-steps\" data-toc-modified-id=\"cost-over-steps-1.7.2\"><span class=\"toc-item-num\">1.7.2&nbsp;&nbsp;</span>cost over steps</a></div><div class=\"lev3 toc-item\"><a href=\"#feature-visualization\" data-toc-modified-id=\"feature-visualization-1.7.3\"><span class=\"toc-item-num\">1.7.3&nbsp;&nbsp;</span>feature visualization</a></div><div class=\"lev3 toc-item\"><a href=\"#Archetecture-comparison\" data-toc-modified-id=\"Archetecture-comparison-1.7.4\"><span class=\"toc-item-num\">1.7.4&nbsp;&nbsp;</span>Archetecture comparison</a></div><div class=\"lev3 toc-item\"><a href=\"#Confusion-table-for-misclassified-images\" data-toc-modified-id=\"Confusion-table-for-misclassified-images-1.7.5\"><span class=\"toc-item-num\">1.7.5&nbsp;&nbsp;</span>Confusion table for misclassified images</a></div><div class=\"lev3 toc-item\"><a href=\"#GAN\" data-toc-modified-id=\"GAN-1.7.6\"><span class=\"toc-item-num\">1.7.6&nbsp;&nbsp;</span>GAN</a></div>"
   ]
  },
  {
   "cell_type": "markdown",
   "metadata": {},
   "source": [
    "# Project: Build a Traffic Sign Recognition Classifier"
   ]
  },
  {
   "cell_type": "markdown",
   "metadata": {},
   "source": [
    "---"
   ]
  },
  {
   "cell_type": "markdown",
   "metadata": {},
   "source": [
    "## Import packages"
   ]
  },
  {
   "cell_type": "code",
   "execution_count": 175,
   "metadata": {},
   "outputs": [
    {
     "data": {
      "text/html": [
       "<script>requirejs.config({paths: { 'plotly': ['https://cdn.plot.ly/plotly-latest.min']},});if(!window.Plotly) {{require(['plotly'],function(plotly) {window.Plotly=plotly;});}}</script>"
      ],
      "text/vnd.plotly.v1+html": [
       "<script>requirejs.config({paths: { 'plotly': ['https://cdn.plot.ly/plotly-latest.min']},});if(!window.Plotly) {{require(['plotly'],function(plotly) {window.Plotly=plotly;});}}</script>"
      ]
     },
     "metadata": {},
     "output_type": "display_data"
    }
   ],
   "source": [
    "import pickle\n",
    "import cv2 \n",
    "import tensorflow as tf\n",
    "import numpy as np\n",
    "\n",
    "import matplotlib.gridspec as gridspec\n",
    "import pandas as pd\n",
    "from collections import Counter\n",
    "from pandas import DataFrame\n",
    "import os\n",
    "from os.path import join, basename\n",
    "import plotly\n",
    "import plotly.figure_factory as ff\n",
    "import plotly.graph_objs as go\n",
    "from IPython.display import clear_output, Image, display, HTML\n",
    "from graphviz import Digraph\n",
    "from sklearn import preprocessing\n",
    "from sklearn.model_selection import StratifiedShuffleSplit\n",
    "import matplotlib.image as mpimg\n",
    "import math\n",
    "from tqdm import tqdm\n",
    "\n",
    "\n",
    "os.environ['TF_CPP_MIN_LOG_LEVEL'] = '2' \n",
    "plotly.offline.init_notebook_mode(connected=True)\n",
    "import warnings\n",
    "warnings.filterwarnings('ignore')\n",
    "import matplotlib.pyplot as plt\n",
    "%matplotlib inline"
   ]
  },
  {
   "cell_type": "markdown",
   "metadata": {},
   "source": [
    "## Load The Data"
   ]
  },
  {
   "cell_type": "code",
   "execution_count": 181,
   "metadata": {},
   "outputs": [],
   "source": [
    "# Load pickled data\n",
    "def read_data_sets(file): \n",
    "    with open(file, mode='rb') as f:\n",
    "        return pickle.load(f)\n",
    "    \n",
    "data_rel_path = \"..\\\\..\\\\datasets_collection\\\\Traffic_Sign_Classifier\"\n",
    "\n",
    "train = read_data_sets(os.path.join(data_rel_path, \"aug_train.p\"))\n",
    "# train = read_data_sets(os.path.join(data_rel_path, \"train.p\"))\n",
    "valid= read_data_sets(os.path.join(data_rel_path, \"valid.p\")) \n",
    "test = read_data_sets(os.path.join(data_rel_path, \"test.p\")) \n",
    "    \n",
    "X_train, y_train = train['features'], train['labels']\n",
    "X_valid, y_valid = valid['features'], valid['labels']\n",
    "X_test, y_test = test['features'], test['labels']"
   ]
  },
  {
   "cell_type": "code",
   "execution_count": 151,
   "metadata": {},
   "outputs": [],
   "source": [
    "import scipy.misc as sm"
   ]
  },
  {
   "cell_type": "code",
   "execution_count": 172,
   "metadata": {},
   "outputs": [],
   "source": [
    "def plot_label_image(file):\n",
    "    image_every_class=dict()\n",
    "    for im,cl in zip(train['features'],train['labels']):\n",
    "        image_every_class[cl]=im\n",
    "\n",
    "    image_every_class=list(image_every_class.values()) # each images represent a image of the class \n",
    "\n",
    "    cols=15\n",
    "    rows=1+len(image_every_class)//cols\n",
    "    n_classes = len(image_every_class) # 43\n",
    "    image_padding = n_classes%cols\n",
    "    \n",
    "    for y in range(rows):\n",
    "        if y==rows-1: #last row\n",
    "            img_last=np.concatenate(image_every_class[-image_padding:],axis=1)\n",
    "            img_empty=np.zeros((32, 32*(cols - image_padding), 3))\n",
    "            img_row=np.concatenate((img_last, img_empty),axis=1)\n",
    "        else:\n",
    "            img_row=np.concatenate(image_every_class[y*cols:(y+1)*cols],axis=1)        \n",
    "        if y==0:\n",
    "            image=img_row\n",
    "        else:\n",
    "            image=np.concatenate((image,img_row),axis=0) \n",
    "\n",
    "    # add class number\n",
    "    for y in range(0,1+int(len(image_every_class)/cols)):\n",
    "        for x in range(cols):\n",
    "            if(x+y*cols<n_classes):\n",
    "                cv2.putText(image,str(x+y*cols),(11+x*32,11+y*32), cv2.FONT_HERSHEY_SIMPLEX, 0.4,(255,0,0),1,cv2.LINE_AA)\n",
    "    # resize image\n",
    "    fig, ax = plt.subplots(figsize=(18, 4))\n",
    "    c =sm.imresize(a,(a.shape[0],a.shape[1]))\n",
    "    ax.imshow(c, aspect='auto')\n",
    "    plt.tight_layout()                "
   ]
  },
  {
   "cell_type": "code",
   "execution_count": 173,
   "metadata": {},
   "outputs": [
    {
     "data": {
      "image/png": "[encoded data removed]",
      "text/plain": [
       "<matplotlib.figure.Figure at 0x9aa119df60>"
      ]
     },
     "metadata": {},
     "output_type": "display_data"
    }
   ],
   "source": [
    "plot_label_image(train)"
   ]
  },
  {
   "cell_type": "code",
   "execution_count": 21,
   "metadata": {},
   "outputs": [],
   "source": [
    "signNames_pd = pd.read_csv(data_rel_path + '//signnames.csv')"
   ]
  },
  {
   "cell_type": "code",
   "execution_count": 174,
   "metadata": {},
   "outputs": [
    {
     "data": {
      "text/html": [
       "<style  type=\"text/css\" >\n",
       "</style>  \n",
       "<table id=\"T_32e5e42e_0da6_11e8_9377_a0a8cd26ab37\" > \n",
       "<thead>    <tr> \n",
       "        <th class=\"blank level0\" ></th> \n",
       "        <th class=\"col_heading level0 col0\" >ClassId</th> \n",
       "        <th class=\"col_heading level0 col1\" >SignName</th> \n",
       "    </tr></thead> \n",
       "<tbody>    <tr> \n",
       "        <th id=\"T_32e5e42e_0da6_11e8_9377_a0a8cd26ab37level0_row0\" class=\"row_heading level0 row0\" >0</th> \n",
       "        <td id=\"T_32e5e42e_0da6_11e8_9377_a0a8cd26ab37row0_col0\" class=\"data row0 col0\" >0</td> \n",
       "        <td id=\"T_32e5e42e_0da6_11e8_9377_a0a8cd26ab37row0_col1\" class=\"data row0 col1\" >Speed limit (20km/h)</td> \n",
       "    </tr>    <tr> \n",
       "        <th id=\"T_32e5e42e_0da6_11e8_9377_a0a8cd26ab37level0_row1\" class=\"row_heading level0 row1\" >1</th> \n",
       "        <td id=\"T_32e5e42e_0da6_11e8_9377_a0a8cd26ab37row1_col0\" class=\"data row1 col0\" >1</td> \n",
       "        <td id=\"T_32e5e42e_0da6_11e8_9377_a0a8cd26ab37row1_col1\" class=\"data row1 col1\" >Speed limit (30km/h)</td> \n",
       "    </tr>    <tr> \n",
       "        <th id=\"T_32e5e42e_0da6_11e8_9377_a0a8cd26ab37level0_row2\" class=\"row_heading level0 row2\" >2</th> \n",
       "        <td id=\"T_32e5e42e_0da6_11e8_9377_a0a8cd26ab37row2_col0\" class=\"data row2 col0\" >2</td> \n",
       "        <td id=\"T_32e5e42e_0da6_11e8_9377_a0a8cd26ab37row2_col1\" class=\"data row2 col1\" >Speed limit (50km/h)</td> \n",
       "    </tr>    <tr> \n",
       "        <th id=\"T_32e5e42e_0da6_11e8_9377_a0a8cd26ab37level0_row3\" class=\"row_heading level0 row3\" >3</th> \n",
       "        <td id=\"T_32e5e42e_0da6_11e8_9377_a0a8cd26ab37row3_col0\" class=\"data row3 col0\" >3</td> \n",
       "        <td id=\"T_32e5e42e_0da6_11e8_9377_a0a8cd26ab37row3_col1\" class=\"data row3 col1\" >Speed limit (60km/h)</td> \n",
       "    </tr>    <tr> \n",
       "        <th id=\"T_32e5e42e_0da6_11e8_9377_a0a8cd26ab37level0_row4\" class=\"row_heading level0 row4\" >4</th> \n",
       "        <td id=\"T_32e5e42e_0da6_11e8_9377_a0a8cd26ab37row4_col0\" class=\"data row4 col0\" >4</td> \n",
       "        <td id=\"T_32e5e42e_0da6_11e8_9377_a0a8cd26ab37row4_col1\" class=\"data row4 col1\" >Speed limit (70km/h)</td> \n",
       "    </tr>    <tr> \n",
       "        <th id=\"T_32e5e42e_0da6_11e8_9377_a0a8cd26ab37level0_row5\" class=\"row_heading level0 row5\" >5</th> \n",
       "        <td id=\"T_32e5e42e_0da6_11e8_9377_a0a8cd26ab37row5_col0\" class=\"data row5 col0\" >5</td> \n",
       "        <td id=\"T_32e5e42e_0da6_11e8_9377_a0a8cd26ab37row5_col1\" class=\"data row5 col1\" >Speed limit (80km/h)</td> \n",
       "    </tr>    <tr> \n",
       "        <th id=\"T_32e5e42e_0da6_11e8_9377_a0a8cd26ab37level0_row6\" class=\"row_heading level0 row6\" >6</th> \n",
       "        <td id=\"T_32e5e42e_0da6_11e8_9377_a0a8cd26ab37row6_col0\" class=\"data row6 col0\" >6</td> \n",
       "        <td id=\"T_32e5e42e_0da6_11e8_9377_a0a8cd26ab37row6_col1\" class=\"data row6 col1\" >End of speed limit (80km/h)</td> \n",
       "    </tr>    <tr> \n",
       "        <th id=\"T_32e5e42e_0da6_11e8_9377_a0a8cd26ab37level0_row7\" class=\"row_heading level0 row7\" >7</th> \n",
       "        <td id=\"T_32e5e42e_0da6_11e8_9377_a0a8cd26ab37row7_col0\" class=\"data row7 col0\" >7</td> \n",
       "        <td id=\"T_32e5e42e_0da6_11e8_9377_a0a8cd26ab37row7_col1\" class=\"data row7 col1\" >Speed limit (100km/h)</td> \n",
       "    </tr>    <tr> \n",
       "        <th id=\"T_32e5e42e_0da6_11e8_9377_a0a8cd26ab37level0_row8\" class=\"row_heading level0 row8\" >8</th> \n",
       "        <td id=\"T_32e5e42e_0da6_11e8_9377_a0a8cd26ab37row8_col0\" class=\"data row8 col0\" >8</td> \n",
       "        <td id=\"T_32e5e42e_0da6_11e8_9377_a0a8cd26ab37row8_col1\" class=\"data row8 col1\" >Speed limit (120km/h)</td> \n",
       "    </tr>    <tr> \n",
       "        <th id=\"T_32e5e42e_0da6_11e8_9377_a0a8cd26ab37level0_row9\" class=\"row_heading level0 row9\" >9</th> \n",
       "        <td id=\"T_32e5e42e_0da6_11e8_9377_a0a8cd26ab37row9_col0\" class=\"data row9 col0\" >9</td> \n",
       "        <td id=\"T_32e5e42e_0da6_11e8_9377_a0a8cd26ab37row9_col1\" class=\"data row9 col1\" >No passing</td> \n",
       "    </tr>    <tr> \n",
       "        <th id=\"T_32e5e42e_0da6_11e8_9377_a0a8cd26ab37level0_row10\" class=\"row_heading level0 row10\" >10</th> \n",
       "        <td id=\"T_32e5e42e_0da6_11e8_9377_a0a8cd26ab37row10_col0\" class=\"data row10 col0\" >10</td> \n",
       "        <td id=\"T_32e5e42e_0da6_11e8_9377_a0a8cd26ab37row10_col1\" class=\"data row10 col1\" >No passing for vehicles over 3.5 metric tons</td> \n",
       "    </tr>    <tr> \n",
       "        <th id=\"T_32e5e42e_0da6_11e8_9377_a0a8cd26ab37level0_row11\" class=\"row_heading level0 row11\" >11</th> \n",
       "        <td id=\"T_32e5e42e_0da6_11e8_9377_a0a8cd26ab37row11_col0\" class=\"data row11 col0\" >11</td> \n",
       "        <td id=\"T_32e5e42e_0da6_11e8_9377_a0a8cd26ab37row11_col1\" class=\"data row11 col1\" >Right-of-way at the next intersection</td> \n",
       "    </tr>    <tr> \n",
       "        <th id=\"T_32e5e42e_0da6_11e8_9377_a0a8cd26ab37level0_row12\" class=\"row_heading level0 row12\" >12</th> \n",
       "        <td id=\"T_32e5e42e_0da6_11e8_9377_a0a8cd26ab37row12_col0\" class=\"data row12 col0\" >12</td> \n",
       "        <td id=\"T_32e5e42e_0da6_11e8_9377_a0a8cd26ab37row12_col1\" class=\"data row12 col1\" >Priority road</td> \n",
       "    </tr>    <tr> \n",
       "        <th id=\"T_32e5e42e_0da6_11e8_9377_a0a8cd26ab37level0_row13\" class=\"row_heading level0 row13\" >13</th> \n",
       "        <td id=\"T_32e5e42e_0da6_11e8_9377_a0a8cd26ab37row13_col0\" class=\"data row13 col0\" >13</td> \n",
       "        <td id=\"T_32e5e42e_0da6_11e8_9377_a0a8cd26ab37row13_col1\" class=\"data row13 col1\" >Yield</td> \n",
       "    </tr>    <tr> \n",
       "        <th id=\"T_32e5e42e_0da6_11e8_9377_a0a8cd26ab37level0_row14\" class=\"row_heading level0 row14\" >14</th> \n",
       "        <td id=\"T_32e5e42e_0da6_11e8_9377_a0a8cd26ab37row14_col0\" class=\"data row14 col0\" >14</td> \n",
       "        <td id=\"T_32e5e42e_0da6_11e8_9377_a0a8cd26ab37row14_col1\" class=\"data row14 col1\" >Stop</td> \n",
       "    </tr>    <tr> \n",
       "        <th id=\"T_32e5e42e_0da6_11e8_9377_a0a8cd26ab37level0_row15\" class=\"row_heading level0 row15\" >15</th> \n",
       "        <td id=\"T_32e5e42e_0da6_11e8_9377_a0a8cd26ab37row15_col0\" class=\"data row15 col0\" >15</td> \n",
       "        <td id=\"T_32e5e42e_0da6_11e8_9377_a0a8cd26ab37row15_col1\" class=\"data row15 col1\" >No vehicles</td> \n",
       "    </tr>    <tr> \n",
       "        <th id=\"T_32e5e42e_0da6_11e8_9377_a0a8cd26ab37level0_row16\" class=\"row_heading level0 row16\" >16</th> \n",
       "        <td id=\"T_32e5e42e_0da6_11e8_9377_a0a8cd26ab37row16_col0\" class=\"data row16 col0\" >16</td> \n",
       "        <td id=\"T_32e5e42e_0da6_11e8_9377_a0a8cd26ab37row16_col1\" class=\"data row16 col1\" >Vehicles over 3.5 metric tons prohibited</td> \n",
       "    </tr>    <tr> \n",
       "        <th id=\"T_32e5e42e_0da6_11e8_9377_a0a8cd26ab37level0_row17\" class=\"row_heading level0 row17\" >17</th> \n",
       "        <td id=\"T_32e5e42e_0da6_11e8_9377_a0a8cd26ab37row17_col0\" class=\"data row17 col0\" >17</td> \n",
       "        <td id=\"T_32e5e42e_0da6_11e8_9377_a0a8cd26ab37row17_col1\" class=\"data row17 col1\" >No entry</td> \n",
       "    </tr>    <tr> \n",
       "        <th id=\"T_32e5e42e_0da6_11e8_9377_a0a8cd26ab37level0_row18\" class=\"row_heading level0 row18\" >18</th> \n",
       "        <td id=\"T_32e5e42e_0da6_11e8_9377_a0a8cd26ab37row18_col0\" class=\"data row18 col0\" >18</td> \n",
       "        <td id=\"T_32e5e42e_0da6_11e8_9377_a0a8cd26ab37row18_col1\" class=\"data row18 col1\" >General caution</td> \n",
       "    </tr>    <tr> \n",
       "        <th id=\"T_32e5e42e_0da6_11e8_9377_a0a8cd26ab37level0_row19\" class=\"row_heading level0 row19\" >19</th> \n",
       "        <td id=\"T_32e5e42e_0da6_11e8_9377_a0a8cd26ab37row19_col0\" class=\"data row19 col0\" >19</td> \n",
       "        <td id=\"T_32e5e42e_0da6_11e8_9377_a0a8cd26ab37row19_col1\" class=\"data row19 col1\" >Dangerous curve to the left</td> \n",
       "    </tr>    <tr> \n",
       "        <th id=\"T_32e5e42e_0da6_11e8_9377_a0a8cd26ab37level0_row20\" class=\"row_heading level0 row20\" >20</th> \n",
       "        <td id=\"T_32e5e42e_0da6_11e8_9377_a0a8cd26ab37row20_col0\" class=\"data row20 col0\" >20</td> \n",
       "        <td id=\"T_32e5e42e_0da6_11e8_9377_a0a8cd26ab37row20_col1\" class=\"data row20 col1\" >Dangerous curve to the right</td> \n",
       "    </tr>    <tr> \n",
       "        <th id=\"T_32e5e42e_0da6_11e8_9377_a0a8cd26ab37level0_row21\" class=\"row_heading level0 row21\" >21</th> \n",
       "        <td id=\"T_32e5e42e_0da6_11e8_9377_a0a8cd26ab37row21_col0\" class=\"data row21 col0\" >21</td> \n",
       "        <td id=\"T_32e5e42e_0da6_11e8_9377_a0a8cd26ab37row21_col1\" class=\"data row21 col1\" >Double curve</td> \n",
       "    </tr>    <tr> \n",
       "        <th id=\"T_32e5e42e_0da6_11e8_9377_a0a8cd26ab37level0_row22\" class=\"row_heading level0 row22\" >22</th> \n",
       "        <td id=\"T_32e5e42e_0da6_11e8_9377_a0a8cd26ab37row22_col0\" class=\"data row22 col0\" >22</td> \n",
       "        <td id=\"T_32e5e42e_0da6_11e8_9377_a0a8cd26ab37row22_col1\" class=\"data row22 col1\" >Bumpy road</td> \n",
       "    </tr>    <tr> \n",
       "        <th id=\"T_32e5e42e_0da6_11e8_9377_a0a8cd26ab37level0_row23\" class=\"row_heading level0 row23\" >23</th> \n",
       "        <td id=\"T_32e5e42e_0da6_11e8_9377_a0a8cd26ab37row23_col0\" class=\"data row23 col0\" >23</td> \n",
       "        <td id=\"T_32e5e42e_0da6_11e8_9377_a0a8cd26ab37row23_col1\" class=\"data row23 col1\" >Slippery road</td> \n",
       "    </tr>    <tr> \n",
       "        <th id=\"T_32e5e42e_0da6_11e8_9377_a0a8cd26ab37level0_row24\" class=\"row_heading level0 row24\" >24</th> \n",
       "        <td id=\"T_32e5e42e_0da6_11e8_9377_a0a8cd26ab37row24_col0\" class=\"data row24 col0\" >24</td> \n",
       "        <td id=\"T_32e5e42e_0da6_11e8_9377_a0a8cd26ab37row24_col1\" class=\"data row24 col1\" >Road narrows on the right</td> \n",
       "    </tr>    <tr> \n",
       "        <th id=\"T_32e5e42e_0da6_11e8_9377_a0a8cd26ab37level0_row25\" class=\"row_heading level0 row25\" >25</th> \n",
       "        <td id=\"T_32e5e42e_0da6_11e8_9377_a0a8cd26ab37row25_col0\" class=\"data row25 col0\" >25</td> \n",
       "        <td id=\"T_32e5e42e_0da6_11e8_9377_a0a8cd26ab37row25_col1\" class=\"data row25 col1\" >Road work</td> \n",
       "    </tr>    <tr> \n",
       "        <th id=\"T_32e5e42e_0da6_11e8_9377_a0a8cd26ab37level0_row26\" class=\"row_heading level0 row26\" >26</th> \n",
       "        <td id=\"T_32e5e42e_0da6_11e8_9377_a0a8cd26ab37row26_col0\" class=\"data row26 col0\" >26</td> \n",
       "        <td id=\"T_32e5e42e_0da6_11e8_9377_a0a8cd26ab37row26_col1\" class=\"data row26 col1\" >Traffic signals</td> \n",
       "    </tr>    <tr> \n",
       "        <th id=\"T_32e5e42e_0da6_11e8_9377_a0a8cd26ab37level0_row27\" class=\"row_heading level0 row27\" >27</th> \n",
       "        <td id=\"T_32e5e42e_0da6_11e8_9377_a0a8cd26ab37row27_col0\" class=\"data row27 col0\" >27</td> \n",
       "        <td id=\"T_32e5e42e_0da6_11e8_9377_a0a8cd26ab37row27_col1\" class=\"data row27 col1\" >Pedestrians</td> \n",
       "    </tr>    <tr> \n",
       "        <th id=\"T_32e5e42e_0da6_11e8_9377_a0a8cd26ab37level0_row28\" class=\"row_heading level0 row28\" >28</th> \n",
       "        <td id=\"T_32e5e42e_0da6_11e8_9377_a0a8cd26ab37row28_col0\" class=\"data row28 col0\" >28</td> \n",
       "        <td id=\"T_32e5e42e_0da6_11e8_9377_a0a8cd26ab37row28_col1\" class=\"data row28 col1\" >Children crossing</td> \n",
       "    </tr>    <tr> \n",
       "        <th id=\"T_32e5e42e_0da6_11e8_9377_a0a8cd26ab37level0_row29\" class=\"row_heading level0 row29\" >29</th> \n",
       "        <td id=\"T_32e5e42e_0da6_11e8_9377_a0a8cd26ab37row29_col0\" class=\"data row29 col0\" >29</td> \n",
       "        <td id=\"T_32e5e42e_0da6_11e8_9377_a0a8cd26ab37row29_col1\" class=\"data row29 col1\" >Bicycles crossing</td> \n",
       "    </tr>    <tr> \n",
       "        <th id=\"T_32e5e42e_0da6_11e8_9377_a0a8cd26ab37level0_row30\" class=\"row_heading level0 row30\" >30</th> \n",
       "        <td id=\"T_32e5e42e_0da6_11e8_9377_a0a8cd26ab37row30_col0\" class=\"data row30 col0\" >30</td> \n",
       "        <td id=\"T_32e5e42e_0da6_11e8_9377_a0a8cd26ab37row30_col1\" class=\"data row30 col1\" >Beware of ice/snow</td> \n",
       "    </tr>    <tr> \n",
       "        <th id=\"T_32e5e42e_0da6_11e8_9377_a0a8cd26ab37level0_row31\" class=\"row_heading level0 row31\" >31</th> \n",
       "        <td id=\"T_32e5e42e_0da6_11e8_9377_a0a8cd26ab37row31_col0\" class=\"data row31 col0\" >31</td> \n",
       "        <td id=\"T_32e5e42e_0da6_11e8_9377_a0a8cd26ab37row31_col1\" class=\"data row31 col1\" >Wild animals crossing</td> \n",
       "    </tr>    <tr> \n",
       "        <th id=\"T_32e5e42e_0da6_11e8_9377_a0a8cd26ab37level0_row32\" class=\"row_heading level0 row32\" >32</th> \n",
       "        <td id=\"T_32e5e42e_0da6_11e8_9377_a0a8cd26ab37row32_col0\" class=\"data row32 col0\" >32</td> \n",
       "        <td id=\"T_32e5e42e_0da6_11e8_9377_a0a8cd26ab37row32_col1\" class=\"data row32 col1\" >End of all speed and passing limits</td> \n",
       "    </tr>    <tr> \n",
       "        <th id=\"T_32e5e42e_0da6_11e8_9377_a0a8cd26ab37level0_row33\" class=\"row_heading level0 row33\" >33</th> \n",
       "        <td id=\"T_32e5e42e_0da6_11e8_9377_a0a8cd26ab37row33_col0\" class=\"data row33 col0\" >33</td> \n",
       "        <td id=\"T_32e5e42e_0da6_11e8_9377_a0a8cd26ab37row33_col1\" class=\"data row33 col1\" >Turn right ahead</td> \n",
       "    </tr>    <tr> \n",
       "        <th id=\"T_32e5e42e_0da6_11e8_9377_a0a8cd26ab37level0_row34\" class=\"row_heading level0 row34\" >34</th> \n",
       "        <td id=\"T_32e5e42e_0da6_11e8_9377_a0a8cd26ab37row34_col0\" class=\"data row34 col0\" >34</td> \n",
       "        <td id=\"T_32e5e42e_0da6_11e8_9377_a0a8cd26ab37row34_col1\" class=\"data row34 col1\" >Turn left ahead</td> \n",
       "    </tr>    <tr> \n",
       "        <th id=\"T_32e5e42e_0da6_11e8_9377_a0a8cd26ab37level0_row35\" class=\"row_heading level0 row35\" >35</th> \n",
       "        <td id=\"T_32e5e42e_0da6_11e8_9377_a0a8cd26ab37row35_col0\" class=\"data row35 col0\" >35</td> \n",
       "        <td id=\"T_32e5e42e_0da6_11e8_9377_a0a8cd26ab37row35_col1\" class=\"data row35 col1\" >Ahead only</td> \n",
       "    </tr>    <tr> \n",
       "        <th id=\"T_32e5e42e_0da6_11e8_9377_a0a8cd26ab37level0_row36\" class=\"row_heading level0 row36\" >36</th> \n",
       "        <td id=\"T_32e5e42e_0da6_11e8_9377_a0a8cd26ab37row36_col0\" class=\"data row36 col0\" >36</td> \n",
       "        <td id=\"T_32e5e42e_0da6_11e8_9377_a0a8cd26ab37row36_col1\" class=\"data row36 col1\" >Go straight or right</td> \n",
       "    </tr>    <tr> \n",
       "        <th id=\"T_32e5e42e_0da6_11e8_9377_a0a8cd26ab37level0_row37\" class=\"row_heading level0 row37\" >37</th> \n",
       "        <td id=\"T_32e5e42e_0da6_11e8_9377_a0a8cd26ab37row37_col0\" class=\"data row37 col0\" >37</td> \n",
       "        <td id=\"T_32e5e42e_0da6_11e8_9377_a0a8cd26ab37row37_col1\" class=\"data row37 col1\" >Go straight or left</td> \n",
       "    </tr>    <tr> \n",
       "        <th id=\"T_32e5e42e_0da6_11e8_9377_a0a8cd26ab37level0_row38\" class=\"row_heading level0 row38\" >38</th> \n",
       "        <td id=\"T_32e5e42e_0da6_11e8_9377_a0a8cd26ab37row38_col0\" class=\"data row38 col0\" >38</td> \n",
       "        <td id=\"T_32e5e42e_0da6_11e8_9377_a0a8cd26ab37row38_col1\" class=\"data row38 col1\" >Keep right</td> \n",
       "    </tr>    <tr> \n",
       "        <th id=\"T_32e5e42e_0da6_11e8_9377_a0a8cd26ab37level0_row39\" class=\"row_heading level0 row39\" >39</th> \n",
       "        <td id=\"T_32e5e42e_0da6_11e8_9377_a0a8cd26ab37row39_col0\" class=\"data row39 col0\" >39</td> \n",
       "        <td id=\"T_32e5e42e_0da6_11e8_9377_a0a8cd26ab37row39_col1\" class=\"data row39 col1\" >Keep left</td> \n",
       "    </tr>    <tr> \n",
       "        <th id=\"T_32e5e42e_0da6_11e8_9377_a0a8cd26ab37level0_row40\" class=\"row_heading level0 row40\" >40</th> \n",
       "        <td id=\"T_32e5e42e_0da6_11e8_9377_a0a8cd26ab37row40_col0\" class=\"data row40 col0\" >40</td> \n",
       "        <td id=\"T_32e5e42e_0da6_11e8_9377_a0a8cd26ab37row40_col1\" class=\"data row40 col1\" >Roundabout mandatory</td> \n",
       "    </tr>    <tr> \n",
       "        <th id=\"T_32e5e42e_0da6_11e8_9377_a0a8cd26ab37level0_row41\" class=\"row_heading level0 row41\" >41</th> \n",
       "        <td id=\"T_32e5e42e_0da6_11e8_9377_a0a8cd26ab37row41_col0\" class=\"data row41 col0\" >41</td> \n",
       "        <td id=\"T_32e5e42e_0da6_11e8_9377_a0a8cd26ab37row41_col1\" class=\"data row41 col1\" >End of no passing</td> \n",
       "    </tr>    <tr> \n",
       "        <th id=\"T_32e5e42e_0da6_11e8_9377_a0a8cd26ab37level0_row42\" class=\"row_heading level0 row42\" >42</th> \n",
       "        <td id=\"T_32e5e42e_0da6_11e8_9377_a0a8cd26ab37row42_col0\" class=\"data row42 col0\" >42</td> \n",
       "        <td id=\"T_32e5e42e_0da6_11e8_9377_a0a8cd26ab37row42_col1\" class=\"data row42 col1\" >End of no passing by vehicles over 3.5 metric tons</td> \n",
       "    </tr></tbody> \n",
       "</table> "
      ],
      "text/plain": [
       "<pandas.io.formats.style.Styler at 0x9aa2c827b8>"
      ]
     },
     "execution_count": 174,
     "metadata": {},
     "output_type": "execute_result"
    }
   ],
   "source": [
    "signNames_pd.style"
   ]
  },
  {
   "cell_type": "markdown",
   "metadata": {},
   "source": [
    "## Data exploration"
   ]
  },
  {
   "cell_type": "code",
   "execution_count": 182,
   "metadata": {},
   "outputs": [
    {
     "name": "stdout",
     "output_type": "stream",
     "text": [
      "Number of training examples = 41469\n",
      "Number of testing examples = 12630\n",
      "Image data shape = (32, 32, 3)\n",
      "Number of classes in sign file = 43\n"
     ]
    }
   ],
   "source": [
    "# Number of training examples\n",
    "n_train = X_train.shape[0]\n",
    "\n",
    "# Number of validation examples\n",
    "n_validation = X_valid.shape[0]\n",
    "\n",
    "# Number of testing examples.\n",
    "n_test = X_test.shape[0]\n",
    "\n",
    "# the shape of an traffic sign image?\n",
    "image_shape = X_train[0].shape\n",
    "\n",
    "n_signClasses = len(signNames_pd[\"ClassId\"])\n",
    "n_classes = n_signClasses\n",
    "print(\"Number of training examples =\", n_train)\n",
    "print(\"Number of testing examples =\", n_test)\n",
    "print(\"Image data shape =\", image_shape)\n",
    "print(\"Number of classes in sign file =\", n_signClasses)"
   ]
  },
  {
   "cell_type": "markdown",
   "metadata": {},
   "source": [
    "### normalized class distribution "
   ]
  },
  {
   "cell_type": "code",
   "execution_count": 178,
   "metadata": {},
   "outputs": [],
   "source": [
    "# calculate the count of each class in train, test, valid sets\n",
    "y_train_elements, y_train_dist = np.unique(y_train, return_counts=True)\n",
    "y_valid_elements, y_valid_dist = np.unique(y_valid, return_counts=True)\n",
    "y_test_elements, y_test_dist = np.unique(y_test, return_counts=True)"
   ]
  },
  {
   "cell_type": "code",
   "execution_count": 179,
   "metadata": {},
   "outputs": [],
   "source": [
    "def normalied_prob(data):\n",
    "    return data/np.sum(data)"
   ]
  },
  {
   "cell_type": "code",
   "execution_count": 183,
   "metadata": {},
   "outputs": [
    {
     "data": {
      "application/vnd.plotly.v1+json": {
       "data": [
        {
         "marker": {
          "color": "rgb(55, 83, 109)"
         },
         "name": "train",
         "type": "bar",
         "x": [
          0,
          1,
          2,
          3,
          4,
          5,
          6,
          7,
          8,
          9,
          10,
          11,
          12,
          13,
          14,
          15,
          16,
          17,
          18,
          19,
          20,
          21,
          22,
          23,
          24,
          25,
          26,
          27,
          28,
          29,
          30,
          31,
          32,
          33,
          34,
          35,
          36,
          37,
          38,
          39,
          40,
          41,
          42
         ],
         "y": [
          180,
          1980,
          2010,
          1260,
          1770,
          1650,
          360,
          1290,
          1260,
          1320,
          1800,
          1170,
          1890,
          1920,
          690,
          540,
          360,
          990,
          1080,
          180,
          300,
          270,
          330,
          450,
          240,
          1350,
          540,
          210,
          480,
          240,
          390,
          690,
          210,
          599,
          360,
          1080,
          330,
          180,
          1860,
          270,
          300,
          210,
          210
         ]
        },
        {
         "marker": {
          "color": "rgb(26, 118, 255)"
         },
         "name": "valid",
         "type": "bar",
         "x": [
          0,
          1,
          2,
          3,
          4,
          5,
          6,
          7,
          8,
          9,
          10,
          11,
          12,
          13,
          14,
          15,
          16,
          17,
          18,
          19,
          20,
          21,
          22,
          23,
          24,
          25,
          26,
          27,
          28,
          29,
          30,
          31,
          32,
          33,
          34,
          35,
          36,
          37,
          38,
          39,
          40,
          41,
          42
         ],
         "y": [
          30,
          240,
          240,
          150,
          210,
          210,
          60,
          150,
          150,
          150,
          210,
          150,
          210,
          240,
          90,
          90,
          60,
          120,
          120,
          30,
          60,
          60,
          60,
          60,
          30,
          150,
          60,
          30,
          60,
          30,
          60,
          90,
          30,
          90,
          60,
          120,
          60,
          30,
          210,
          30,
          60,
          30,
          30
         ]
        },
        {
         "marker": {
          "color": "rgb(250, 118, 0)"
         },
         "name": "test",
         "type": "bar",
         "x": [
          0,
          1,
          2,
          3,
          4,
          5,
          6,
          7,
          8,
          9,
          10,
          11,
          12,
          13,
          14,
          15,
          16,
          17,
          18,
          19,
          20,
          21,
          22,
          23,
          24,
          25,
          26,
          27,
          28,
          29,
          30,
          31,
          32,
          33,
          34,
          35,
          36,
          37,
          38,
          39,
          40,
          41,
          42
         ],
         "y": [
          60,
          720,
          750,
          450,
          660,
          630,
          150,
          450,
          450,
          480,
          660,
          420,
          690,
          720,
          270,
          210,
          150,
          360,
          390,
          60,
          90,
          90,
          120,
          150,
          90,
          480,
          180,
          60,
          150,
          90,
          150,
          270,
          60,
          210,
          120,
          390,
          120,
          60,
          690,
          90,
          90,
          60,
          90
         ]
        }
       ],
       "layout": {
        "bargap": 0.15,
        "bargroupgap": 0.1,
        "barmode": "group",
        "legend": {
         "bgcolor": "rgba(255, 255, 255, 0)",
         "bordercolor": "rgba(255, 255, 255, 0)",
         "x": 1,
         "y": 1
        },
        "title": "Sign Class Distribution of Train, Test and Validation Sets",
        "xaxis": {
         "tickfont": {
          "color": "rgb(107, 107, 107)",
          "size": 14
         },
         "title": "sign class"
        },
        "yaxis": {
         "tickfont": {
          "color": "rgb(107, 107, 107)",
          "size": 14
         },
         "title": "probability",
         "titlefont": {
          "color": "rgb(107, 107, 107)",
          "size": 16
         }
        }
       }
      },
      "text/html": [
       "<div id=\"81aa15a8-eab9-4bd7-8900-ebe50ff0269a\" style=\"height: 525px; width: 100%;\" class=\"plotly-graph-div\"></div><script type=\"text/javascript\">require([\"plotly\"], function(Plotly) { window.PLOTLYENV=window.PLOTLYENV || {};window.PLOTLYENV.BASE_URL=\"https://plot.ly\";Plotly.newPlot(\"81aa15a8-eab9-4bd7-8900-ebe50ff0269a\", [{\"type\": \"bar\", \"x\": [0, 1, 2, 3, 4, 5, 6, 7, 8, 9, 10, 11, 12, 13, 14, 15, 16, 17, 18, 19, 20, 21, 22, 23, 24, 25, 26, 27, 28, 29, 30, 31, 32, 33, 34, 35, 36, 37, 38, 39, 40, 41, 42], \"y\": [180, 1980, 2010, 1260, 1770, 1650, 360, 1290, 1260, 1320, 1800, 1170, 1890, 1920, 690, 540, 360, 990, 1080, 180, 300, 270, 330, 450, 240, 1350, 540, 210, 480, 240, 390, 690, 210, 599, 360, 1080, 330, 180, 1860, 270, 300, 210, 210], \"name\": \"train\", \"marker\": {\"color\": \"rgb(55, 83, 109)\"}}, {\"type\": \"bar\", \"x\": [0, 1, 2, 3, 4, 5, 6, 7, 8, 9, 10, 11, 12, 13, 14, 15, 16, 17, 18, 19, 20, 21, 22, 23, 24, 25, 26, 27, 28, 29, 30, 31, 32, 33, 34, 35, 36, 37, 38, 39, 40, 41, 42], \"y\": [30, 240, 240, 150, 210, 210, 60, 150, 150, 150, 210, 150, 210, 240, 90, 90, 60, 120, 120, 30, 60, 60, 60, 60, 30, 150, 60, 30, 60, 30, 60, 90, 30, 90, 60, 120, 60, 30, 210, 30, 60, 30, 30], \"name\": \"valid\", \"marker\": {\"color\": \"rgb(26, 118, 255)\"}}, {\"type\": \"bar\", \"x\": [0, 1, 2, 3, 4, 5, 6, 7, 8, 9, 10, 11, 12, 13, 14, 15, 16, 17, 18, 19, 20, 21, 22, 23, 24, 25, 26, 27, 28, 29, 30, 31, 32, 33, 34, 35, 36, 37, 38, 39, 40, 41, 42], \"y\": [60, 720, 750, 450, 660, 630, 150, 450, 450, 480, 660, 420, 690, 720, 270, 210, 150, 360, 390, 60, 90, 90, 120, 150, 90, 480, 180, 60, 150, 90, 150, 270, 60, 210, 120, 390, 120, 60, 690, 90, 90, 60, 90], \"name\": \"test\", \"marker\": {\"color\": \"rgb(250, 118, 0)\"}}], {\"title\": \"Sign Class Distribution of Train, Test and Validation Sets\", \"xaxis\": {\"title\": \"sign class\", \"tickfont\": {\"size\": 14, \"color\": \"rgb(107, 107, 107)\"}}, \"yaxis\": {\"title\": \"probability\", \"titlefont\": {\"size\": 16, \"color\": \"rgb(107, 107, 107)\"}, \"tickfont\": {\"size\": 14, \"color\": \"rgb(107, 107, 107)\"}}, \"legend\": {\"x\": 1.0, \"y\": 1.0, \"bgcolor\": \"rgba(255, 255, 255, 0)\", \"bordercolor\": \"rgba(255, 255, 255, 0)\"}, \"barmode\": \"group\", \"bargap\": 0.15, \"bargroupgap\": 0.1}, {\"showLink\": true, \"linkText\": \"Export to plot.ly\"})});</script>"
      ],
      "text/vnd.plotly.v1+html": [
       "<div id=\"81aa15a8-eab9-4bd7-8900-ebe50ff0269a\" style=\"height: 525px; width: 100%;\" class=\"plotly-graph-div\"></div><script type=\"text/javascript\">require([\"plotly\"], function(Plotly) { window.PLOTLYENV=window.PLOTLYENV || {};window.PLOTLYENV.BASE_URL=\"https://plot.ly\";Plotly.newPlot(\"81aa15a8-eab9-4bd7-8900-ebe50ff0269a\", [{\"type\": \"bar\", \"x\": [0, 1, 2, 3, 4, 5, 6, 7, 8, 9, 10, 11, 12, 13, 14, 15, 16, 17, 18, 19, 20, 21, 22, 23, 24, 25, 26, 27, 28, 29, 30, 31, 32, 33, 34, 35, 36, 37, 38, 39, 40, 41, 42], \"y\": [180, 1980, 2010, 1260, 1770, 1650, 360, 1290, 1260, 1320, 1800, 1170, 1890, 1920, 690, 540, 360, 990, 1080, 180, 300, 270, 330, 450, 240, 1350, 540, 210, 480, 240, 390, 690, 210, 599, 360, 1080, 330, 180, 1860, 270, 300, 210, 210], \"name\": \"train\", \"marker\": {\"color\": \"rgb(55, 83, 109)\"}}, {\"type\": \"bar\", \"x\": [0, 1, 2, 3, 4, 5, 6, 7, 8, 9, 10, 11, 12, 13, 14, 15, 16, 17, 18, 19, 20, 21, 22, 23, 24, 25, 26, 27, 28, 29, 30, 31, 32, 33, 34, 35, 36, 37, 38, 39, 40, 41, 42], \"y\": [30, 240, 240, 150, 210, 210, 60, 150, 150, 150, 210, 150, 210, 240, 90, 90, 60, 120, 120, 30, 60, 60, 60, 60, 30, 150, 60, 30, 60, 30, 60, 90, 30, 90, 60, 120, 60, 30, 210, 30, 60, 30, 30], \"name\": \"valid\", \"marker\": {\"color\": \"rgb(26, 118, 255)\"}}, {\"type\": \"bar\", \"x\": [0, 1, 2, 3, 4, 5, 6, 7, 8, 9, 10, 11, 12, 13, 14, 15, 16, 17, 18, 19, 20, 21, 22, 23, 24, 25, 26, 27, 28, 29, 30, 31, 32, 33, 34, 35, 36, 37, 38, 39, 40, 41, 42], \"y\": [60, 720, 750, 450, 660, 630, 150, 450, 450, 480, 660, 420, 690, 720, 270, 210, 150, 360, 390, 60, 90, 90, 120, 150, 90, 480, 180, 60, 150, 90, 150, 270, 60, 210, 120, 390, 120, 60, 690, 90, 90, 60, 90], \"name\": \"test\", \"marker\": {\"color\": \"rgb(250, 118, 0)\"}}], {\"title\": \"Sign Class Distribution of Train, Test and Validation Sets\", \"xaxis\": {\"title\": \"sign class\", \"tickfont\": {\"size\": 14, \"color\": \"rgb(107, 107, 107)\"}}, \"yaxis\": {\"title\": \"probability\", \"titlefont\": {\"size\": 16, \"color\": \"rgb(107, 107, 107)\"}, \"tickfont\": {\"size\": 14, \"color\": \"rgb(107, 107, 107)\"}}, \"legend\": {\"x\": 1.0, \"y\": 1.0, \"bgcolor\": \"rgba(255, 255, 255, 0)\", \"bordercolor\": \"rgba(255, 255, 255, 0)\"}, \"barmode\": \"group\", \"bargap\": 0.15, \"bargroupgap\": 0.1}, {\"showLink\": true, \"linkText\": \"Export to plot.ly\"})});</script>"
      ]
     },
     "metadata": {},
     "output_type": "display_data"
    }
   ],
   "source": [
    "train = go.Bar(\n",
    "    x = y_train_elements,\n",
    "    y = y_train_dist,\n",
    "    name='train',\n",
    "    marker=dict(\n",
    "        color='rgb(55, 83, 109)'\n",
    "    )\n",
    ")\n",
    "valid = go.Bar(\n",
    "    x = y_valid_elements,\n",
    "    y = y_valid_dist,\n",
    "    name='valid',\n",
    "    marker=dict(\n",
    "        color='rgb(26, 118, 255)'\n",
    "    )\n",
    ")\n",
    "test = go.Bar(\n",
    "    x = y_test_elements,\n",
    "    y = y_test_dist,\n",
    "    name='test',\n",
    "    marker=dict(\n",
    "        color='rgb(250, 118, 0)'\n",
    "    )\n",
    ")\n",
    "data = [train, valid, test]\n",
    "layout = go.Layout(\n",
    "    title='Sign Class Distribution of Train, Test and Validation Sets',\n",
    "    xaxis=dict(\n",
    "        title='sign class',\n",
    "        tickfont=dict(\n",
    "            size=14,\n",
    "            color='rgb(107, 107, 107)'\n",
    "        )\n",
    "    ),\n",
    "    yaxis=dict(\n",
    "        title='probability',\n",
    "        titlefont=dict(\n",
    "            size=16,\n",
    "            color='rgb(107, 107, 107)'\n",
    "        ),\n",
    "        tickfont=dict(\n",
    "            size=14,\n",
    "            color='rgb(107, 107, 107)'\n",
    "        )\n",
    "    ),\n",
    "    legend=dict(\n",
    "        x=1.0,\n",
    "        y=1.0,\n",
    "        bgcolor='rgba(255, 255, 255, 0)',\n",
    "        bordercolor='rgba(255, 255, 255, 0)'\n",
    "    ),\n",
    "    barmode='group',\n",
    "    bargap=0.15,\n",
    "    bargroupgap=0.1\n",
    ")\n",
    "\n",
    "fig = go.Figure(data=data, layout=layout)\n",
    "plotly.offline.iplot(fig, filename='style-bar')"
   ]
  },
  {
   "cell_type": "code",
   "execution_count": 180,
   "metadata": {},
   "outputs": [
    {
     "data": {
      "application/vnd.plotly.v1+json": {
       "data": [
        {
         "marker": {
          "color": "rgb(55, 83, 109)"
         },
         "name": "train",
         "type": "bar",
         "x": [
          0,
          1,
          2,
          3,
          4,
          5,
          6,
          7,
          8,
          9,
          10,
          11,
          12,
          13,
          14,
          15,
          16,
          17,
          18,
          19,
          20,
          21,
          22,
          23,
          24,
          25,
          26,
          27,
          28,
          29,
          30,
          31,
          32,
          33,
          34,
          35,
          36,
          37,
          38,
          39,
          40,
          41,
          42
         ],
         "y": [
          0.005172562429954884,
          0.056898186729503725,
          0.057760280467829536,
          0.03620793700968419,
          0.05086353056122302,
          0.04741515560791977,
          0.010345124859909767,
          0.03707003074801,
          0.03620793700968419,
          0.037932124486335816,
          0.051725624299548835,
          0.033621655794706745,
          0.054311905514526276,
          0.055173999252852095,
          0.01982815598149372,
          0.015517687289864652,
          0.010345124859909767,
          0.028449093364751862,
          0.031035374579729304,
          0.005172562429954884,
          0.00862093738325814,
          0.007758843644932326,
          0.009483031121583954,
          0.012931406074887209,
          0.006896749906606512,
          0.03879421822466163,
          0.015517687289864652,
          0.006034656168280698,
          0.013793499813213024,
          0.006896749906606512,
          0.011207218598235582,
          0.01982815598149372,
          0.006034656168280698,
          0.017213138308572084,
          0.010345124859909767,
          0.031035374579729304,
          0.009483031121583954,
          0.005172562429954884,
          0.053449811776200465,
          0.007758843644932326,
          0.00862093738325814,
          0.006034656168280698,
          0.006034656168280698
         ]
        },
        {
         "marker": {
          "color": "rgb(26, 118, 255)"
         },
         "name": "valid",
         "type": "bar",
         "x": [
          0,
          1,
          2,
          3,
          4,
          5,
          6,
          7,
          8,
          9,
          10,
          11,
          12,
          13,
          14,
          15,
          16,
          17,
          18,
          19,
          20,
          21,
          22,
          23,
          24,
          25,
          26,
          27,
          28,
          29,
          30,
          31,
          32,
          33,
          34,
          35,
          36,
          37,
          38,
          39,
          40,
          41,
          42
         ],
         "y": [
          0.006802721088435374,
          0.05442176870748299,
          0.05442176870748299,
          0.034013605442176874,
          0.047619047619047616,
          0.047619047619047616,
          0.013605442176870748,
          0.034013605442176874,
          0.034013605442176874,
          0.034013605442176874,
          0.047619047619047616,
          0.034013605442176874,
          0.047619047619047616,
          0.05442176870748299,
          0.02040816326530612,
          0.02040816326530612,
          0.013605442176870748,
          0.027210884353741496,
          0.027210884353741496,
          0.006802721088435374,
          0.013605442176870748,
          0.013605442176870748,
          0.013605442176870748,
          0.013605442176870748,
          0.006802721088435374,
          0.034013605442176874,
          0.013605442176870748,
          0.006802721088435374,
          0.013605442176870748,
          0.006802721088435374,
          0.013605442176870748,
          0.02040816326530612,
          0.006802721088435374,
          0.02040816326530612,
          0.013605442176870748,
          0.027210884353741496,
          0.013605442176870748,
          0.006802721088435374,
          0.047619047619047616,
          0.006802721088435374,
          0.013605442176870748,
          0.006802721088435374,
          0.006802721088435374
         ]
        },
        {
         "marker": {
          "color": "rgb(250, 118, 0)"
         },
         "name": "test",
         "type": "bar",
         "x": [
          0,
          1,
          2,
          3,
          4,
          5,
          6,
          7,
          8,
          9,
          10,
          11,
          12,
          13,
          14,
          15,
          16,
          17,
          18,
          19,
          20,
          21,
          22,
          23,
          24,
          25,
          26,
          27,
          28,
          29,
          30,
          31,
          32,
          33,
          34,
          35,
          36,
          37,
          38,
          39,
          40,
          41,
          42
         ],
         "y": [
          0.004750593824228029,
          0.057007125890736345,
          0.05938242280285035,
          0.035629453681710214,
          0.052256532066508314,
          0.0498812351543943,
          0.011876484560570071,
          0.035629453681710214,
          0.035629453681710214,
          0.03800475059382423,
          0.052256532066508314,
          0.0332541567695962,
          0.05463182897862233,
          0.057007125890736345,
          0.021377672209026127,
          0.0166270783847981,
          0.011876484560570071,
          0.028503562945368172,
          0.030878859857482184,
          0.004750593824228029,
          0.007125890736342043,
          0.007125890736342043,
          0.009501187648456057,
          0.011876484560570071,
          0.007125890736342043,
          0.03800475059382423,
          0.014251781472684086,
          0.004750593824228029,
          0.011876484560570071,
          0.007125890736342043,
          0.011876484560570071,
          0.021377672209026127,
          0.004750593824228029,
          0.0166270783847981,
          0.009501187648456057,
          0.030878859857482184,
          0.009501187648456057,
          0.004750593824228029,
          0.05463182897862233,
          0.007125890736342043,
          0.007125890736342043,
          0.004750593824228029,
          0.007125890736342043
         ]
        }
       ],
       "layout": {
        "bargap": 0.15,
        "bargroupgap": 0.1,
        "barmode": "group",
        "legend": {
         "bgcolor": "rgba(255, 255, 255, 0)",
         "bordercolor": "rgba(255, 255, 255, 0)",
         "x": 1,
         "y": 1
        },
        "title": "Sign Class Distribution of Train, Test and Validation Sets",
        "xaxis": {
         "tickfont": {
          "color": "rgb(107, 107, 107)",
          "size": 14
         },
         "title": "sign class"
        },
        "yaxis": {
         "tickfont": {
          "color": "rgb(107, 107, 107)",
          "size": 14
         },
         "title": "probability",
         "titlefont": {
          "color": "rgb(107, 107, 107)",
          "size": 16
         }
        }
       }
      },
      "text/html": [
       "<div id=\"907b376a-73b6-41b4-88f2-b03370ee69f2\" style=\"height: 525px; width: 100%;\" class=\"plotly-graph-div\"></div><script type=\"text/javascript\">require([\"plotly\"], function(Plotly) { window.PLOTLYENV=window.PLOTLYENV || {};window.PLOTLYENV.BASE_URL=\"https://plot.ly\";Plotly.newPlot(\"907b376a-73b6-41b4-88f2-b03370ee69f2\", [{\"type\": \"bar\", \"x\": [0, 1, 2, 3, 4, 5, 6, 7, 8, 9, 10, 11, 12, 13, 14, 15, 16, 17, 18, 19, 20, 21, 22, 23, 24, 25, 26, 27, 28, 29, 30, 31, 32, 33, 34, 35, 36, 37, 38, 39, 40, 41, 42], \"y\": [0.005172562429954884, 0.056898186729503725, 0.057760280467829536, 0.03620793700968419, 0.05086353056122302, 0.04741515560791977, 0.010345124859909767, 0.03707003074801, 0.03620793700968419, 0.037932124486335816, 0.051725624299548835, 0.033621655794706745, 0.054311905514526276, 0.055173999252852095, 0.01982815598149372, 0.015517687289864652, 0.010345124859909767, 0.028449093364751862, 0.031035374579729304, 0.005172562429954884, 0.00862093738325814, 0.007758843644932326, 0.009483031121583954, 0.012931406074887209, 0.006896749906606512, 0.03879421822466163, 0.015517687289864652, 0.006034656168280698, 0.013793499813213024, 0.006896749906606512, 0.011207218598235582, 0.01982815598149372, 0.006034656168280698, 0.017213138308572084, 0.010345124859909767, 0.031035374579729304, 0.009483031121583954, 0.005172562429954884, 0.053449811776200465, 0.007758843644932326, 0.00862093738325814, 0.006034656168280698, 0.006034656168280698], \"name\": \"train\", \"marker\": {\"color\": \"rgb(55, 83, 109)\"}}, {\"type\": \"bar\", \"x\": [0, 1, 2, 3, 4, 5, 6, 7, 8, 9, 10, 11, 12, 13, 14, 15, 16, 17, 18, 19, 20, 21, 22, 23, 24, 25, 26, 27, 28, 29, 30, 31, 32, 33, 34, 35, 36, 37, 38, 39, 40, 41, 42], \"y\": [0.006802721088435374, 0.05442176870748299, 0.05442176870748299, 0.034013605442176874, 0.047619047619047616, 0.047619047619047616, 0.013605442176870748, 0.034013605442176874, 0.034013605442176874, 0.034013605442176874, 0.047619047619047616, 0.034013605442176874, 0.047619047619047616, 0.05442176870748299, 0.02040816326530612, 0.02040816326530612, 0.013605442176870748, 0.027210884353741496, 0.027210884353741496, 0.006802721088435374, 0.013605442176870748, 0.013605442176870748, 0.013605442176870748, 0.013605442176870748, 0.006802721088435374, 0.034013605442176874, 0.013605442176870748, 0.006802721088435374, 0.013605442176870748, 0.006802721088435374, 0.013605442176870748, 0.02040816326530612, 0.006802721088435374, 0.02040816326530612, 0.013605442176870748, 0.027210884353741496, 0.013605442176870748, 0.006802721088435374, 0.047619047619047616, 0.006802721088435374, 0.013605442176870748, 0.006802721088435374, 0.006802721088435374], \"name\": \"valid\", \"marker\": {\"color\": \"rgb(26, 118, 255)\"}}, {\"type\": \"bar\", \"x\": [0, 1, 2, 3, 4, 5, 6, 7, 8, 9, 10, 11, 12, 13, 14, 15, 16, 17, 18, 19, 20, 21, 22, 23, 24, 25, 26, 27, 28, 29, 30, 31, 32, 33, 34, 35, 36, 37, 38, 39, 40, 41, 42], \"y\": [0.004750593824228029, 0.057007125890736345, 0.05938242280285035, 0.035629453681710214, 0.052256532066508314, 0.0498812351543943, 0.011876484560570071, 0.035629453681710214, 0.035629453681710214, 0.03800475059382423, 0.052256532066508314, 0.0332541567695962, 0.05463182897862233, 0.057007125890736345, 0.021377672209026127, 0.0166270783847981, 0.011876484560570071, 0.028503562945368172, 0.030878859857482184, 0.004750593824228029, 0.007125890736342043, 0.007125890736342043, 0.009501187648456057, 0.011876484560570071, 0.007125890736342043, 0.03800475059382423, 0.014251781472684086, 0.004750593824228029, 0.011876484560570071, 0.007125890736342043, 0.011876484560570071, 0.021377672209026127, 0.004750593824228029, 0.0166270783847981, 0.009501187648456057, 0.030878859857482184, 0.009501187648456057, 0.004750593824228029, 0.05463182897862233, 0.007125890736342043, 0.007125890736342043, 0.004750593824228029, 0.007125890736342043], \"name\": \"test\", \"marker\": {\"color\": \"rgb(250, 118, 0)\"}}], {\"title\": \"Sign Class Distribution of Train, Test and Validation Sets\", \"xaxis\": {\"title\": \"sign class\", \"tickfont\": {\"size\": 14, \"color\": \"rgb(107, 107, 107)\"}}, \"yaxis\": {\"title\": \"probability\", \"titlefont\": {\"size\": 16, \"color\": \"rgb(107, 107, 107)\"}, \"tickfont\": {\"size\": 14, \"color\": \"rgb(107, 107, 107)\"}}, \"legend\": {\"x\": 1.0, \"y\": 1.0, \"bgcolor\": \"rgba(255, 255, 255, 0)\", \"bordercolor\": \"rgba(255, 255, 255, 0)\"}, \"barmode\": \"group\", \"bargap\": 0.15, \"bargroupgap\": 0.1}, {\"showLink\": true, \"linkText\": \"Export to plot.ly\"})});</script>"
      ],
      "text/vnd.plotly.v1+html": [
       "<div id=\"907b376a-73b6-41b4-88f2-b03370ee69f2\" style=\"height: 525px; width: 100%;\" class=\"plotly-graph-div\"></div><script type=\"text/javascript\">require([\"plotly\"], function(Plotly) { window.PLOTLYENV=window.PLOTLYENV || {};window.PLOTLYENV.BASE_URL=\"https://plot.ly\";Plotly.newPlot(\"907b376a-73b6-41b4-88f2-b03370ee69f2\", [{\"type\": \"bar\", \"x\": [0, 1, 2, 3, 4, 5, 6, 7, 8, 9, 10, 11, 12, 13, 14, 15, 16, 17, 18, 19, 20, 21, 22, 23, 24, 25, 26, 27, 28, 29, 30, 31, 32, 33, 34, 35, 36, 37, 38, 39, 40, 41, 42], \"y\": [0.005172562429954884, 0.056898186729503725, 0.057760280467829536, 0.03620793700968419, 0.05086353056122302, 0.04741515560791977, 0.010345124859909767, 0.03707003074801, 0.03620793700968419, 0.037932124486335816, 0.051725624299548835, 0.033621655794706745, 0.054311905514526276, 0.055173999252852095, 0.01982815598149372, 0.015517687289864652, 0.010345124859909767, 0.028449093364751862, 0.031035374579729304, 0.005172562429954884, 0.00862093738325814, 0.007758843644932326, 0.009483031121583954, 0.012931406074887209, 0.006896749906606512, 0.03879421822466163, 0.015517687289864652, 0.006034656168280698, 0.013793499813213024, 0.006896749906606512, 0.011207218598235582, 0.01982815598149372, 0.006034656168280698, 0.017213138308572084, 0.010345124859909767, 0.031035374579729304, 0.009483031121583954, 0.005172562429954884, 0.053449811776200465, 0.007758843644932326, 0.00862093738325814, 0.006034656168280698, 0.006034656168280698], \"name\": \"train\", \"marker\": {\"color\": \"rgb(55, 83, 109)\"}}, {\"type\": \"bar\", \"x\": [0, 1, 2, 3, 4, 5, 6, 7, 8, 9, 10, 11, 12, 13, 14, 15, 16, 17, 18, 19, 20, 21, 22, 23, 24, 25, 26, 27, 28, 29, 30, 31, 32, 33, 34, 35, 36, 37, 38, 39, 40, 41, 42], \"y\": [0.006802721088435374, 0.05442176870748299, 0.05442176870748299, 0.034013605442176874, 0.047619047619047616, 0.047619047619047616, 0.013605442176870748, 0.034013605442176874, 0.034013605442176874, 0.034013605442176874, 0.047619047619047616, 0.034013605442176874, 0.047619047619047616, 0.05442176870748299, 0.02040816326530612, 0.02040816326530612, 0.013605442176870748, 0.027210884353741496, 0.027210884353741496, 0.006802721088435374, 0.013605442176870748, 0.013605442176870748, 0.013605442176870748, 0.013605442176870748, 0.006802721088435374, 0.034013605442176874, 0.013605442176870748, 0.006802721088435374, 0.013605442176870748, 0.006802721088435374, 0.013605442176870748, 0.02040816326530612, 0.006802721088435374, 0.02040816326530612, 0.013605442176870748, 0.027210884353741496, 0.013605442176870748, 0.006802721088435374, 0.047619047619047616, 0.006802721088435374, 0.013605442176870748, 0.006802721088435374, 0.006802721088435374], \"name\": \"valid\", \"marker\": {\"color\": \"rgb(26, 118, 255)\"}}, {\"type\": \"bar\", \"x\": [0, 1, 2, 3, 4, 5, 6, 7, 8, 9, 10, 11, 12, 13, 14, 15, 16, 17, 18, 19, 20, 21, 22, 23, 24, 25, 26, 27, 28, 29, 30, 31, 32, 33, 34, 35, 36, 37, 38, 39, 40, 41, 42], \"y\": [0.004750593824228029, 0.057007125890736345, 0.05938242280285035, 0.035629453681710214, 0.052256532066508314, 0.0498812351543943, 0.011876484560570071, 0.035629453681710214, 0.035629453681710214, 0.03800475059382423, 0.052256532066508314, 0.0332541567695962, 0.05463182897862233, 0.057007125890736345, 0.021377672209026127, 0.0166270783847981, 0.011876484560570071, 0.028503562945368172, 0.030878859857482184, 0.004750593824228029, 0.007125890736342043, 0.007125890736342043, 0.009501187648456057, 0.011876484560570071, 0.007125890736342043, 0.03800475059382423, 0.014251781472684086, 0.004750593824228029, 0.011876484560570071, 0.007125890736342043, 0.011876484560570071, 0.021377672209026127, 0.004750593824228029, 0.0166270783847981, 0.009501187648456057, 0.030878859857482184, 0.009501187648456057, 0.004750593824228029, 0.05463182897862233, 0.007125890736342043, 0.007125890736342043, 0.004750593824228029, 0.007125890736342043], \"name\": \"test\", \"marker\": {\"color\": \"rgb(250, 118, 0)\"}}], {\"title\": \"Sign Class Distribution of Train, Test and Validation Sets\", \"xaxis\": {\"title\": \"sign class\", \"tickfont\": {\"size\": 14, \"color\": \"rgb(107, 107, 107)\"}}, \"yaxis\": {\"title\": \"probability\", \"titlefont\": {\"size\": 16, \"color\": \"rgb(107, 107, 107)\"}, \"tickfont\": {\"size\": 14, \"color\": \"rgb(107, 107, 107)\"}}, \"legend\": {\"x\": 1.0, \"y\": 1.0, \"bgcolor\": \"rgba(255, 255, 255, 0)\", \"bordercolor\": \"rgba(255, 255, 255, 0)\"}, \"barmode\": \"group\", \"bargap\": 0.15, \"bargroupgap\": 0.1}, {\"showLink\": true, \"linkText\": \"Export to plot.ly\"})});</script>"
      ]
     },
     "metadata": {},
     "output_type": "display_data"
    }
   ],
   "source": [
    "train = go.Bar(\n",
    "    x = y_train_elements,\n",
    "    y = normalied_prob(y_train_dist),\n",
    "    name='train',\n",
    "    marker=dict(\n",
    "        color='rgb(55, 83, 109)'\n",
    "    )\n",
    ")\n",
    "valid = go.Bar(\n",
    "    x = y_valid_elements,\n",
    "    y = normalied_prob(y_valid_dist),\n",
    "    name='valid',\n",
    "    marker=dict(\n",
    "        color='rgb(26, 118, 255)'\n",
    "    )\n",
    ")\n",
    "test = go.Bar(\n",
    "    x = y_test_elements,\n",
    "    y = normalied_prob(y_test_dist),\n",
    "    name='test',\n",
    "    marker=dict(\n",
    "        color='rgb(250, 118, 0)'\n",
    "    )\n",
    ")\n",
    "data = [train, valid, test]\n",
    "layout = go.Layout(\n",
    "    title='Sign Class Distribution of Train, Test and Validation Sets',\n",
    "    xaxis=dict(\n",
    "        title='sign class',\n",
    "        tickfont=dict(\n",
    "            size=14,\n",
    "            color='rgb(107, 107, 107)'\n",
    "        )\n",
    "    ),\n",
    "    yaxis=dict(\n",
    "        title='probability',\n",
    "        titlefont=dict(\n",
    "            size=16,\n",
    "            color='rgb(107, 107, 107)'\n",
    "        ),\n",
    "        tickfont=dict(\n",
    "            size=14,\n",
    "            color='rgb(107, 107, 107)'\n",
    "        )\n",
    "    ),\n",
    "    legend=dict(\n",
    "        x=1.0,\n",
    "        y=1.0,\n",
    "        bgcolor='rgba(255, 255, 255, 0)',\n",
    "        bordercolor='rgba(255, 255, 255, 0)'\n",
    "    ),\n",
    "    barmode='group',\n",
    "    bargap=0.15,\n",
    "    bargroupgap=0.1\n",
    ")\n",
    "\n",
    "fig = go.Figure(data=data, layout=layout)\n",
    "plotly.offline.iplot(fig, filename='style-bar')"
   ]
  },
  {
   "cell_type": "code",
   "execution_count": 8,
   "metadata": {},
   "outputs": [
    {
     "data": {
      "text/plain": [
       "0.27557499523583101"
      ]
     },
     "execution_count": 8,
     "metadata": {},
     "output_type": "execute_result"
    }
   ],
   "source": [
    "np.sum(np.abs(normalied_prob(y_train_dist) - normalied_prob(y_test_dist)))"
   ]
  },
  {
   "cell_type": "markdown",
   "metadata": {},
   "source": [
    "## Stratified Sampling"
   ]
  },
  {
   "cell_type": "code",
   "execution_count": 9,
   "metadata": {},
   "outputs": [],
   "source": [
    "class batch_Generator_StratifiedSampling:\n",
    "    \"\"\"\n",
    "    Generate batches with stratified Sampling\n",
    "    args:\n",
    "        class_dist: the balanced label distribution of all samples (test, valid, train)\n",
    "        tr_X: train features\n",
    "        tr_Y: train labels\n",
    "        \n",
    "    returns:\n",
    "        batch generator pairs: (train_index, test_index), use train_X[test_index], train_Y[test_index] to get batch for model training.\n",
    "    \"\"\"\n",
    "    def __init__(self, class_dist, tr_X, tr_Y, batchsize = None):\n",
    "        self.class_dist = class_dist\n",
    "        self.tr_X = tr_X\n",
    "        self.tr_Y = tr_Y\n",
    "        \n",
    "        # make sure all the classes are in each batch\n",
    "        # The class distribution of the batch match that of mother \n",
    "        self.batchsize = np.sum(np.round(class_dist/min(class_dist))) if (batchsize == None) else batchsize # default is min_batch_size\n",
    "        \n",
    "        self.t_size = self.batchsize / tr_X.shape[0]\n",
    "        self.num_split = math.ceil(tr_X.shape[0]/self.batchsize)\n",
    "    \n",
    "    def batches(self):\n",
    "\n",
    "        # draw sample for 1 epoch\n",
    "        sss = StratifiedShuffleSplit(n_splits=self.num_split, test_size=self.t_size, random_state=0)\n",
    "        sss.get_n_splits(self.tr_X, self.tr_Y)\n",
    "        return sss.split(self.tr_X, self.tr_Y)"
   ]
  },
  {
   "cell_type": "markdown",
   "metadata": {},
   "source": [
    "## Model"
   ]
  },
  {
   "cell_type": "markdown",
   "metadata": {},
   "source": [
    "### parameters"
   ]
  },
  {
   "cell_type": "markdown",
   "metadata": {},
   "source": [
    "![LeNet Architecture](img/LeNet.png)"
   ]
  },
  {
   "cell_type": "code",
   "execution_count": 10,
   "metadata": {},
   "outputs": [],
   "source": [
    "# Training Parameters\n",
    "learning_rate = 0.0001\n",
    "epochs = 20\n",
    "logs_path = 'tensorboard_logs'\n",
    "\n",
    "# Network Parameters\n",
    "n_classes = np.unique(y_train).shape[0] # 43 traffic sign classes/labels there are in the dataset.\n",
    "dropout = 0.8  # Dropout, probability to keep units"
   ]
  },
  {
   "cell_type": "code",
   "execution_count": 11,
   "metadata": {},
   "outputs": [],
   "source": [
    "def conv2fc(input_height, input_width, filter_size, stride, layers):\n",
    "    \n",
    "    con2fc_height = input_height\n",
    "    con2fc_width = input_width\n",
    "    for i in layers:\n",
    "        con2fc_height = np.ceil((con2fc_height - filter_size[i] + 1) / stride[i])\n",
    "        con2fc_width = np.ceil((con2fc_width - filter_size[i] + 1) / stride[i])\n",
    "    return int(con2fc_height) * int(con2fc_width)"
   ]
  },
  {
   "cell_type": "code",
   "execution_count": 12,
   "metadata": {},
   "outputs": [
    {
     "name": "stdout",
     "output_type": "stream",
     "text": [
      "Layer conv_1 depth is 32\n",
      "Layer conv_2 depth is 128\n",
      "Layer  fc_1 depth is 1024\n",
      "Layer  fc_2 depth is 1024\n",
      "Layer   out depth is 43\n"
     ]
    }
   ],
   "source": [
    "layers = ['conv_1', 'maxpool_1', 'conv_2', 'maxpool_2']\n",
    "\n",
    "# (img shape: 32*32)\n",
    "layer_input = {\n",
    "     'depth': 1\n",
    "    ,'height': X_train.shape[1]\n",
    "    ,'width': X_train.shape[2]\n",
    "}\n",
    "\n",
    "layer_depth = {\n",
    "    'conv_1': 32\n",
    "    ,'conv_2': 128\n",
    "    ,'fc_1': 1024\n",
    "    ,'fc_2': 1024\n",
    "    ,'out': n_classes\n",
    "}\n",
    "\n",
    "# a kernel size of 3\n",
    "filter_size={\n",
    "    'conv_1': 5\n",
    "    ,'maxpool_1': 2\n",
    "    ,'conv_2': 5\n",
    "    ,'maxpool_2': 2\n",
    "}\n",
    "\n",
    "stride = {\n",
    "    'conv_1': 1\n",
    "    ,'maxpool_1': 2\n",
    "    ,'conv_2': 1\n",
    "    ,'maxpool_2': 2\n",
    "}\n",
    "\n",
    "# xavier_initializer\n",
    "# ref https://www.tensorflow.org/api_docs/python/tf/contrib/layers/xavier_initializer\n",
    "# tf.truncated_normal(shape=[dims[l-1],dims[l]], mean=mu[l], stddev=std[l], dtype=tf.float64)\n",
    "    \n",
    "for k,v in sorted(layer_depth.items()):\n",
    "    print(\"Layer %5s depth is %s\"%(k,v))"
   ]
  },
  {
   "cell_type": "markdown",
   "metadata": {},
   "source": [
    "### Architecture"
   ]
  },
  {
   "cell_type": "code",
   "execution_count": 13,
   "metadata": {},
   "outputs": [],
   "source": [
    "# Tensorboard graph\n",
    "def conv2d(x, W, b, stride):\n",
    "    x = tf.nn.conv2d(x, W, strides=[1, stride, stride, 1], padding='VALID')\n",
    "    x = tf.nn.bias_add(x, b)\n",
    "    return tf.nn.relu(x)\n",
    "\n",
    "def maxpool2d(x, k, s):\n",
    "    # Tensor input is 4-D: [Batch Size, Height, Width, Feature(Channel)]\n",
    "    return tf.nn.max_pool(x, ksize=[1, k, k, 1], strides=[1, s, s, 1], padding='VALID')\n",
    "\n",
    "def fullycon(x, w, b):\n",
    "    return tf.nn.relu(tf.nn.xw_plus_b(tf.contrib.layers.flatten(x), w, b))\n",
    "\n",
    "def conv_net(x, weights, biases, dropout):\n",
    "    # Input\n",
    "    print (\"input shape is: \" + str(x.shape))\n",
    "    \n",
    "    # Layer 1 \n",
    "    conv1 = conv2d(x, weights['conv1'], biases['conv1'], stride['conv_1'])\n",
    "    print (\"conv1 shape is: \" + str(conv1.shape))\n",
    "\n",
    "    conv1 = maxpool2d(conv1, filter_size['maxpool_1'], stride['maxpool_1'])\n",
    "    print (\"maxpool1 shape is: \" + str(conv1.shape))\n",
    "\n",
    "    # Layer 2 \n",
    "    conv2 = conv2d(conv1, weights['conv2'], biases['conv2'], stride['conv_2'])\n",
    "    print (\"conv2 shape is: \" + str(conv2.shape))\n",
    "    \n",
    "    conv2 = maxpool2d(conv2, filter_size['maxpool_1'], stride['maxpool_2'])\n",
    "    print (\"maxpool2 shape is: \" + str(conv2.shape))\n",
    "    \n",
    "    # Layer 3\n",
    "    fc1 = fullycon(conv2, weights['fc1'], biases['fc1'])\n",
    "    print (\"fully connected layer from conv2 {} to fc1 {}\".format(conv2.shape,fc1.shape))\n",
    "    \n",
    "    fc1 = tf.nn.dropout(fc1, dropout)\n",
    "    print (\"fully connected layer 1 dropout is: {}\".format(fc1.shape))\n",
    "    \n",
    "    # Layer 4\n",
    "    fc2 = fullycon(fc1, weights['fc2'], biases['fc2'])\n",
    "    print (\"fully connected layer from fc1 {} to fc2 {}\".format(fc2.shape,fc1.shape))\n",
    "    \n",
    "    fc2 = tf.nn.dropout(fc2, dropout)\n",
    "    print (\"fully connected layer 2 dropout is: {}\".format(fc2.shape))\n",
    "\n",
    "    # Layer 5: output\n",
    "    out = tf.nn.xw_plus_b(fc2, weights['out'], biases['out'])\n",
    "    print (\"output shape is: {}\".format(out.shape))\n",
    "\n",
    "    return out"
   ]
  },
  {
   "cell_type": "code",
   "execution_count": 14,
   "metadata": {},
   "outputs": [
    {
     "name": "stdout",
     "output_type": "stream",
     "text": [
      "Weights for conv1: (5, 5, 1, 32)\n",
      "Weights for conv2: (5, 5, 32, 128)\n",
      "Weights for   fc1: (3200, 1024)\n",
      "Weights for   fc2: (1024, 1024)\n",
      "Weights for   out: (1024, 43)\n",
      "input shape is: (?, 32, 32, 1)\n",
      "conv1 shape is: (?, 28, 28, 32)\n",
      "maxpool1 shape is: (?, 14, 14, 32)\n",
      "conv2 shape is: (?, 10, 10, 128)\n",
      "maxpool2 shape is: (?, 5, 5, 128)\n",
      "fully connected layer from conv2 (?, 5, 5, 128) to fc1 (?, 1024)\n",
      "fully connected layer 1 dropout is: (?, 1024)\n",
      "fully connected layer from fc1 (?, 1024) to fc2 (?, 1024)\n",
      "fully connected layer 2 dropout is: (?, 1024)\n",
      "output shape is: (?, 43)\n"
     ]
    }
   ],
   "source": [
    "\"\"\"\n",
    "graph computation model\n",
    "\"\"\"\n",
    "\n",
    "# ref: https://github.com/aymericdamien/TensorFlow-Examples/blob/master/examples/4_Utils/tensorboard_basic.py\n",
    "# tf Graph input\n",
    "\n",
    "tf.reset_default_graph() \n",
    "# g = tf.Graph()\n",
    "# with g.as_default():\n",
    "x = tf.placeholder(tf.float32, [None, layer_input[\"height\"], layer_input[\"width\"], 1], name='InputData')\n",
    "y = tf.placeholder(tf.float32, [None, n_classes], name='LabelData')\n",
    "keep_prob = tf.placeholder(tf.float32)\n",
    "\n",
    "conv2fc_num = conv2fc(layer_input[\"height\"], layer_input[\"width\"], filter_size, stride, layers)\n",
    "weights = {\n",
    "    'conv1': tf.get_variable(\"conv1w\", shape=[filter_size['conv_1'], filter_size['conv_1']\n",
    "                                              , layer_input['depth'], layer_depth['conv_1']]\n",
    "                             , initializer=tf.contrib.layers.xavier_initializer()),\n",
    "    'conv2': tf.get_variable(\"conv2w\", shape=[filter_size['conv_2'], filter_size['conv_2']\n",
    "                                              , layer_depth['conv_1'], layer_depth['conv_2']]\n",
    "                             , initializer=tf.contrib.layers.xavier_initializer()),\n",
    "    'fc1':  tf.get_variable(\"fc1w\", shape=[conv2fc_num * layer_depth['conv_2'], layer_depth['fc_1']]\n",
    "                            , initializer=tf.contrib.layers.xavier_initializer()),\n",
    "    'fc2':  tf.get_variable(\"fc2w\", shape=[layer_depth['fc_1'], layer_depth['fc_2']]\n",
    "                            , initializer=tf.contrib.layers.xavier_initializer()),\n",
    "    'out':  tf.get_variable(\"out1w\", shape=[layer_depth['fc_2'], layer_depth['out']]\n",
    "                            , initializer=tf.contrib.layers.xavier_initializer())\n",
    "}\n",
    "\n",
    "# ref https://www.leiphone.com/news/201703/3qMp45aQtbxTdzmK.html\n",
    "biases = {\n",
    "    'conv1': tf.get_variable(\"conv1b\", shape=[layer_depth['conv_1']], initializer=tf.contrib.layers.xavier_initializer()),\n",
    "    'conv2': tf.get_variable(\"conv2b\", shape=[layer_depth['conv_2']], initializer=tf.contrib.layers.xavier_initializer()),\n",
    "    'fc1': tf.get_variable(\"fc1b\", shape=[layer_depth['fc_1']], initializer=tf.contrib.layers.xavier_initializer()),\n",
    "    'fc2': tf.get_variable(\"fc2b\", shape=[layer_depth['fc_2']], initializer=tf.contrib.layers.xavier_initializer()),\n",
    "    'out': tf.get_variable(\"out1b\", shape=[layer_depth['out']], initializer=tf.contrib.layers.xavier_initializer())\n",
    "}\n",
    "\n",
    "for k,v in sorted(weights.items()):\n",
    "    print(\"Weights for %5s: %s\"%(k,v.shape))\n",
    "\n",
    "# with tf.name_scope('Model'):\n",
    "logits = conv_net(x, weights, biases, keep_prob)\n",
    "\n",
    "# with tf.name_scope('Cost'):\n",
    "cost = tf.reduce_mean(tf.nn.softmax_cross_entropy_with_logits(logits=logits, labels=y))\n",
    "optimizer = tf.train.GradientDescentOptimizer(learning_rate=learning_rate).minimize(cost)\n",
    "# optimizer = tf.train.AdamOptimizer(learning_rate=learning_rate).minimize(cost)\n",
    "\n",
    "\n",
    "# with tf.name_scope('Accuracy'):\n",
    "correct_pred = tf.equal(tf.argmax(logits, 1), tf.argmax(y, 1))\n",
    "accuracy = tf.reduce_mean(tf.cast(correct_pred, tf.float32))\n",
    "\n",
    "# Create a summary to monitor cost tensor\n",
    "tf.summary.scalar(\"loss\", cost)\n",
    "# Create a summary to monitor accuracy tensor\n",
    "tf.summary.scalar(\"accuracy\", accuracy)\n",
    "# Merge all summaries into a single op\n",
    "merged_summary_op = tf.summary.merge_all()"
   ]
  },
  {
   "cell_type": "markdown",
   "metadata": {},
   "source": [
    "### Data preprocessing"
   ]
  },
  {
   "cell_type": "code",
   "execution_count": 15,
   "metadata": {},
   "outputs": [],
   "source": [
    "def BatchClaheEqualizer(imgs, method, tileSize = 8, clipLim = 2.0):\n",
    "    sample_num = imgs.shape[0]\n",
    "    final_imgs = np.zeros((imgs.shape[0],imgs.shape[1],imgs.shape[2]), dtype=np.int)\n",
    "    \n",
    "    if method == \"clahe\":    \n",
    "        clahe = cv2.createCLAHE(clipLimit=clipLim, tileGridSize=(tileSize,tileSize))\n",
    "        for i in range(sample_num):\n",
    "            final_imgs[i] = clahe.apply(cv2.cvtColor(imgs[i], cv2.COLOR_RGB2GRAY))\n",
    "        return np.expand_dims(final_imgs, axis=-1)\n",
    "    elif method == \"hist\":\n",
    "        for i in range(sample_num):\n",
    "            final_imgs[i] = cv2.equalizeHist(cv2.cvtColor(imgs[i], cv2.COLOR_RGB2GRAY))\n",
    "        return np.expand_dims(final_imgs, axis=-1)\n",
    "    else:    \n",
    "        for i in range(sample_num):\n",
    "            final_imgs[i] = cv2.cvtColor(imgs[i], cv2.COLOR_RGB2GRAY)\n",
    "        return imgs"
   ]
  },
  {
   "cell_type": "code",
   "execution_count": 16,
   "metadata": {},
   "outputs": [],
   "source": []
  },
  {
   "cell_type": "code",
   "execution_count": 17,
   "metadata": {},
   "outputs": [],
   "source": [
    "X_train_equ = BatchClaheEqualizer(X_train, \"clahe\")\n",
    "X_train_input = image_Normalization(X_train_equ)\n",
    "\n",
    "X_valid_equ = BatchClaheEqualizer(X_valid, \"clahe\")\n",
    "X_valid_input = image_Normalization(X_valid_equ)\n",
    "\n",
    "X_test_equ = BatchClaheEqualizer(X_test, \"clahe\")\n",
    "X_test_input = image_Normalization(X_test_equ)"
   ]
  },
  {
   "cell_type": "code",
   "execution_count": 19,
   "metadata": {},
   "outputs": [],
   "source": [
    "def OneHotEncoding(y_class):\n",
    "    lb = preprocessing.LabelBinarizer()\n",
    "    lb.fit(y_class)\n",
    "    return lb"
   ]
  },
  {
   "cell_type": "code",
   "execution_count": 20,
   "metadata": {},
   "outputs": [],
   "source": [
    "ohe = OneHotEncoding(signNames_pd[\"ClassId\"])"
   ]
  },
  {
   "cell_type": "code",
   "execution_count": 21,
   "metadata": {},
   "outputs": [],
   "source": [
    "y_train_input = ohe.transform(y_train)\n",
    "y_valid_input = ohe.transform(y_valid)\n",
    "y_test_input = ohe.transform(y_test)"
   ]
  },
  {
   "cell_type": "markdown",
   "metadata": {},
   "source": [
    "### train, evaluation and test"
   ]
  },
  {
   "cell_type": "code",
   "execution_count": 22,
   "metadata": {},
   "outputs": [],
   "source": [
    "import time"
   ]
  },
  {
   "cell_type": "code",
   "execution_count": 24,
   "metadata": {},
   "outputs": [],
   "source": [
    "# Initializing the variables\n",
    "init = tf.global_variables_initializer()\n",
    "\n",
    "# tf.summary.FileWriter(\"logs\", g).close()"
   ]
  },
  {
   "cell_type": "code",
   "execution_count": 25,
   "metadata": {},
   "outputs": [
    {
     "name": "stdout",
     "output_type": "stream",
     "text": [
      "Epoch  1/20, Batch 610/610 - Loss:        3.8 Validation Accuracy: 0.036508\n",
      "Testing Accuracy: 0.03958828002214432\n",
      "Epoch  2/20, Batch 610/610 - Loss:        3.8 Validation Accuracy: 0.047619\n",
      "Testing Accuracy: 0.05225653201341629\n",
      "Epoch  3/20, Batch 610/610 - Loss:        3.7 Validation Accuracy: 0.047619\n",
      "Testing Accuracy: 0.05225653201341629\n",
      "Epoch  4/20, Batch 610/610 - Loss:        3.7 Validation Accuracy: 0.047619\n",
      "Testing Accuracy: 0.05225653201341629\n",
      "Epoch  5/20, Batch 610/610 - Loss:        3.7 Validation Accuracy: 0.047619\n",
      "Testing Accuracy: 0.05225653201341629\n",
      "Epoch  6/20, Batch 610/610 - Loss:        3.7 Validation Accuracy: 0.047619\n",
      "Testing Accuracy: 0.05225653201341629\n",
      "Epoch  7/20, Batch 610/610 - Loss:        3.7 Validation Accuracy: 0.047619\n",
      "Testing Accuracy: 0.05225653201341629\n",
      "Epoch  8/20, Batch 610/610 - Loss:        3.7 Validation Accuracy: 0.047619\n",
      "Testing Accuracy: 0.05225653201341629\n",
      "Epoch  9/20, Batch 610/610 - Loss:        3.7 Validation Accuracy: 0.047846\n",
      "Testing Accuracy: 0.05241488665342331\n",
      "Epoch 10/20, Batch 610/610 - Loss:        3.7 Validation Accuracy: 0.056463\n",
      "Testing Accuracy: 0.05787806957960129\n",
      "Epoch 11/20, Batch 610/610 - Loss:        3.6 Validation Accuracy: 0.074603\n",
      "Testing Accuracy: 0.07585114985704422\n",
      "Epoch 12/20, Batch 610/610 - Loss:        3.6 Validation Accuracy: 0.079138\n",
      "Testing Accuracy: 0.08471892029047012\n",
      "Epoch 13/20, Batch 610/610 - Loss:        3.6 Validation Accuracy: 0.075057\n",
      "Testing Accuracy: 0.07505938410758972\n",
      "Epoch 14/20, Batch 610/610 - Loss:        3.6 Validation Accuracy: 0.070748\n",
      "Testing Accuracy: 0.06658749282360077\n",
      "Epoch 15/20, Batch 610/610 - Loss:        3.6 Validation Accuracy: 0.066667\n",
      "Testing Accuracy: 0.06207442656159401\n",
      "Epoch 16/20, Batch 610/610 - Loss:        3.6 Validation Accuracy: 0.065079\n",
      "Testing Accuracy: 0.06096595525741577\n",
      "Epoch 17/20, Batch 610/610 - Loss:        3.6 Validation Accuracy: 0.065306\n",
      "Testing Accuracy: 0.06112430617213249\n",
      "Epoch 18/20, Batch 610/610 - Loss:        3.6 Validation Accuracy: 0.062132\n",
      "Testing Accuracy: 0.06254948675632477\n",
      "Epoch 19/20, Batch 610/610 - Loss:        3.6 Validation Accuracy: 0.059410\n",
      "Testing Accuracy: 0.06579572707414627\n",
      "Epoch 20/20, Batch 610/610 - Loss:        3.6 Validation Accuracy: 0.061905\n",
      "Testing Accuracy: 0.0748218521475792\n",
      "--- 9233.673210382462 seconds ---\n"
     ]
    }
   ],
   "source": [
    "start_time = time.time()\n",
    "\n",
    "# Launch the graph\n",
    "with tf.Session() as sess:\n",
    "    sess.run(init)\n",
    "\n",
    "    for epoch in range(epochs):\n",
    "        \n",
    "        # get batch generator\n",
    "        bgss = batch_Generator_StratifiedSampling(y_train_dist, X_train_input, y_train_input)\n",
    "        get_nextBatch = bgss.batches()\n",
    "        \n",
    "        batch_id = 0\n",
    "        for _, train_index in get_nextBatch:  # for batch_id, batch_x, batch_y in batch_iteration(X_train_input, y_train_input, batch_size):\n",
    "            batch_id += 1\n",
    "            batch_x = X_train_input[train_index]\n",
    "            batch_y = y_train_input[train_index]\n",
    "            sess.run(optimizer, feed_dict={x: batch_x, y: batch_y, keep_prob: dropout})\n",
    "\n",
    "            # Calculate batch loss and accuracy\n",
    "            loss = sess.run(cost, feed_dict={x: batch_x, y: batch_y, keep_prob: 1.})\n",
    "            \n",
    "        valid_acc = sess.run(accuracy, feed_dict={\n",
    "            x: X_valid_input,\n",
    "            y: y_valid_input,\n",
    "            keep_prob: 1.})\n",
    "        print('Epoch {:>2}/{}, Batch {:>3}/{} - Loss: {:>10.1f} Validation Accuracy: {:.6f}'.format(\n",
    "            epoch + 1,\n",
    "            epochs,\n",
    "            batch_id,\n",
    "            bgss.num_split,\n",
    "            loss,\n",
    "            valid_acc))\n",
    "\n",
    "        # Calculate Test Accuracy\n",
    "        test_acc = sess.run(accuracy, feed_dict={\n",
    "            x: X_test_input,\n",
    "            y: y_test_input,\n",
    "            keep_prob: 1.})\n",
    "        print('Testing Accuracy: {}'.format(test_acc))\n",
    "    \n",
    "print(\"--- %s seconds ---\" % (time.time() - start_time))"
   ]
  },
  {
   "cell_type": "code",
   "execution_count": null,
   "metadata": {},
   "outputs": [],
   "source": []
  },
  {
   "cell_type": "code",
   "execution_count": null,
   "metadata": {},
   "outputs": [],
   "source": []
  },
  {
   "cell_type": "code",
   "execution_count": null,
   "metadata": {},
   "outputs": [],
   "source": []
  },
  {
   "cell_type": "markdown",
   "metadata": {},
   "source": [
    "### Histogram of Oriented Gradient (HOG) features \n",
    "ref http://scikit-image.org/docs/dev/auto_examples/features_detection/plot_hog.html"
   ]
  },
  {
   "cell_type": "code",
   "execution_count": 609,
   "metadata": {},
   "outputs": [
    {
     "data": {
      "image/png": "[encoded data removed]",
      "text/plain": [
       "<matplotlib.figure.Figure at 0x9b1dbdc7f0>"
      ]
     },
     "metadata": {},
     "output_type": "display_data"
    }
   ],
   "source": [
    "import matplotlib.pyplot as plt\n",
    "\n",
    "from skimage.feature import hog\n",
    "from skimage import data, exposure\n",
    "\n",
    "\n",
    "image = plt.imread(\"img//mixed5a_9_examples.jpg\")\n",
    "image = image[:,:,0]\n",
    "\n",
    "fd, hog_image = hog(image, orientations=8, pixels_per_cell=(16, 16),\n",
    "                    cells_per_block=(1, 1), visualise=True, block_norm=\"L2-Hys\")\n",
    "\n",
    "fig, (ax1, ax2) = plt.subplots(1, 2, figsize=(8, 4), sharex=True, sharey=True)\n",
    "\n",
    "ax1.axis('off')\n",
    "ax1.imshow(image, cmap=plt.cm.gray)\n",
    "ax1.set_title('Input image')\n",
    "ax1.set_adjustable('box-forced')\n",
    "\n",
    "# Rescale histogram for better display\n",
    "hog_image_rescaled = exposure.rescale_intensity(hog_image, in_range=(0, 10))\n",
    "\n",
    "ax2.axis('off')\n",
    "ax2.imshow(hog_image_rescaled, cmap=plt.cm.gray)\n",
    "ax2.set_title('Histogram of Oriented Gradients')\n",
    "ax1.set_adjustable('box-forced')\n",
    "plt.show()"
   ]
  },
  {
   "cell_type": "markdown",
   "metadata": {},
   "source": [
    "<img src=\"./img/HOG.png\" alt=\"Overview\" width=\"400px\" height=\"267px\">"
   ]
  },
  {
   "cell_type": "markdown",
   "metadata": {},
   "source": []
  },
  {
   "cell_type": "markdown",
   "metadata": {},
   "source": []
  },
  {
   "cell_type": "markdown",
   "metadata": {},
   "source": []
  },
  {
   "cell_type": "code",
   "execution_count": 143,
   "metadata": {},
   "outputs": [],
   "source": []
  },
  {
   "cell_type": "markdown",
   "metadata": {},
   "source": []
  },
  {
   "cell_type": "markdown",
   "metadata": {},
   "source": []
  },
  {
   "cell_type": "markdown",
   "metadata": {},
   "source": [
    "### Train, Validate and Test the Model"
   ]
  },
  {
   "cell_type": "markdown",
   "metadata": {},
   "source": [
    "A validation set can be used to assess how well the model is performing. A low accuracy on the training and validation\n",
    "sets imply underfitting. A high accuracy on the training set but low accuracy on the validation set implies overfitting."
   ]
  },
  {
   "cell_type": "code",
   "execution_count": 1,
   "metadata": {
    "collapsed": true
   },
   "outputs": [],
   "source": [
    "### Train your model here.\n",
    "### Calculate and report the accuracy on the training and validation set.\n",
    "### Once a final model architecture is selected, \n",
    "### the accuracy on the test set should be calculated and reported as well.\n",
    "### Feel free to use as many code cells as needed."
   ]
  },
  {
   "cell_type": "code",
   "execution_count": null,
   "metadata": {},
   "outputs": [],
   "source": []
  },
  {
   "cell_type": "markdown",
   "metadata": {},
   "source": [
    "---\n",
    "\n",
    "## Step 3: Test a Model on New Images\n",
    "\n",
    "To give yourself more insight into how your model is working, download at least five pictures of German traffic signs from the web and use your model to predict the traffic sign type.\n",
    "\n",
    "You may find `signnames.csv` useful as it contains mappings from the class id (integer) to the actual sign name."
   ]
  },
  {
   "cell_type": "markdown",
   "metadata": {},
   "source": [
    "### Load and Output the Images"
   ]
  },
  {
   "cell_type": "code",
   "execution_count": null,
   "metadata": {
    "collapsed": true
   },
   "outputs": [],
   "source": [
    "### Load the images and plot them here.\n",
    "### Feel free to use as many code cells as needed."
   ]
  },
  {
   "cell_type": "markdown",
   "metadata": {},
   "source": [
    "### Predict the Sign Type for Each Image"
   ]
  },
  {
   "cell_type": "code",
   "execution_count": 3,
   "metadata": {
    "collapsed": true
   },
   "outputs": [],
   "source": [
    "### Run the predictions here and use the model to output the prediction for each image.\n",
    "### Make sure to pre-process the images with the same pre-processing pipeline used earlier.\n",
    "### Feel free to use as many code cells as needed."
   ]
  },
  {
   "cell_type": "markdown",
   "metadata": {},
   "source": [
    "### Analyze Performance"
   ]
  },
  {
   "cell_type": "code",
   "execution_count": 4,
   "metadata": {
    "collapsed": true
   },
   "outputs": [],
   "source": [
    "### Calculate the accuracy for these 5 new images. \n",
    "### For example, if the model predicted 1 out of 5 signs correctly, it's 20% accurate on these new images."
   ]
  },
  {
   "cell_type": "markdown",
   "metadata": {},
   "source": [
    "### Output Top 5 Softmax Probabilities For Each Image Found on the Web"
   ]
  },
  {
   "cell_type": "markdown",
   "metadata": {},
   "source": [
    "For each of the new images, print out the model's softmax probabilities to show the **certainty** of the model's predictions (limit the output to the top 5 probabilities for each image). [`tf.nn.top_k`](https://www.tensorflow.org/versions/r0.12/api_docs/python/nn.html#top_k) could prove helpful here. \n",
    "\n",
    "The example below demonstrates how tf.nn.top_k can be used to find the top k predictions for each image.\n",
    "\n",
    "`tf.nn.top_k` will return the values and indices (class ids) of the top k predictions. So if k=3, for each sign, it'll return the 3 largest probabilities (out of a possible 43) and the correspoding class ids.\n",
    "\n",
    "Take this numpy array as an example. The values in the array represent predictions. The array contains softmax probabilities for five candidate images with six possible classes. `tf.nn.top_k` is used to choose the three classes with the highest probability:\n",
    "\n",
    "```\n",
    "# (5, 6) array\n",
    "a = np.array([[ 0.24879643,  0.07032244,  0.12641572,  0.34763842,  0.07893497,\n",
    "         0.12789202],\n",
    "       [ 0.28086119,  0.27569815,  0.08594638,  0.0178669 ,  0.18063401,\n",
    "         0.15899337],\n",
    "       [ 0.26076848,  0.23664738,  0.08020603,  0.07001922,  0.1134371 ,\n",
    "         0.23892179],\n",
    "       [ 0.11943333,  0.29198961,  0.02605103,  0.26234032,  0.1351348 ,\n",
    "         0.16505091],\n",
    "       [ 0.09561176,  0.34396535,  0.0643941 ,  0.16240774,  0.24206137,\n",
    "         0.09155967]])\n",
    "```\n",
    "\n",
    "Running it through `sess.run(tf.nn.top_k(tf.constant(a), k=3))` produces:\n",
    "\n",
    "```\n",
    "TopKV2(values=array([[ 0.34763842,  0.24879643,  0.12789202],\n",
    "       [ 0.28086119,  0.27569815,  0.18063401],\n",
    "       [ 0.26076848,  0.23892179,  0.23664738],\n",
    "       [ 0.29198961,  0.26234032,  0.16505091],\n",
    "       [ 0.34396535,  0.24206137,  0.16240774]]), indices=array([[3, 0, 5],\n",
    "       [0, 1, 4],\n",
    "       [0, 5, 1],\n",
    "       [1, 3, 5],\n",
    "       [1, 4, 3]], dtype=int32))\n",
    "```\n",
    "\n",
    "Looking just at the first row we get `[ 0.34763842,  0.24879643,  0.12789202]`, you can confirm these are the 3 largest probabilities in `a`. You'll also notice `[3, 0, 5]` are the corresponding indices."
   ]
  },
  {
   "cell_type": "code",
   "execution_count": 3,
   "metadata": {
    "collapsed": true
   },
   "outputs": [],
   "source": [
    "### Print out the top five softmax probabilities for the predictions on the German traffic sign images found on the web. \n",
    "### Feel free to use as many code cells as needed."
   ]
  },
  {
   "cell_type": "markdown",
   "metadata": {},
   "source": [
    "### Project Writeup\n",
    "\n",
    "Once you have completed the code implementation, document your results in a project writeup using this [template](https://github.com/udacity/CarND-Traffic-Sign-Classifier-Project/blob/master/writeup_template.md) as a guide. The writeup can be in a markdown or pdf file. "
   ]
  },
  {
   "cell_type": "markdown",
   "metadata": {},
   "source": [
    "> **Note**: Once you have completed all of the code implementations and successfully answered each question above, you may finalize your work by exporting the iPython Notebook as an HTML document. You can do this by using the menu above and navigating to  \\n\",\n",
    "    \"**File -> Download as -> HTML (.html)**. Include the finished document along with this notebook as your submission."
   ]
  },
  {
   "cell_type": "markdown",
   "metadata": {},
   "source": [
    "---\n",
    "\n",
    "## Step 4 (Optional): Visualize the Neural Network's State with Test Images\n",
    "\n",
    " This Section is not required to complete but acts as an additional excersise for understaning the output of a neural network's weights. While neural networks can be a great learning device they are often referred to as a black box. We can understand what the weights of a neural network look like better by plotting their feature maps. After successfully training your neural network you can see what it's feature maps look like by plotting the output of the network's weight layers in response to a test stimuli image. From these plotted feature maps, it's possible to see what characteristics of an image the network finds interesting. For a sign, maybe the inner network feature maps react with high activation to the sign's boundary outline or to the contrast in the sign's painted symbol.\n",
    "\n",
    " Provided for you below is the function code that allows you to get the visualization output of any tensorflow weight layer you want. The inputs to the function should be a stimuli image, one used during training or a new one you provided, and then the tensorflow variable name that represents the layer's state during the training process, for instance if you wanted to see what the [LeNet lab's](https://classroom.udacity.com/nanodegrees/nd013/parts/fbf77062-5703-404e-b60c-95b78b2f3f9e/modules/6df7ae49-c61c-4bb2-a23e-6527e69209ec/lessons/601ae704-1035-4287-8b11-e2c2716217ad/concepts/d4aca031-508f-4e0b-b493-e7b706120f81) feature maps looked like for it's second convolutional layer you could enter conv2 as the tf_activation variable.\n",
    "\n",
    "For an example of what feature map outputs look like, check out NVIDIA's results in their paper [End-to-End Deep Learning for Self-Driving Cars](https://devblogs.nvidia.com/parallelforall/deep-learning-self-driving-cars/) in the section Visualization of internal CNN State. NVIDIA was able to show that their network's inner weights had high activations to road boundary lines by comparing feature maps from an image with a clear path to one without. Try experimenting with a similar test to show that your trained network's weights are looking for interesting features, whether it's looking at differences in feature maps from images with or without a sign, or even what feature maps look like in a trained network vs a completely untrained one on the same sign image.\n",
    "\n",
    "<figure>\n",
    " <img src=\"visualize_cnn.png\" width=\"380\" alt=\"Combined Image\" />\n",
    " <figcaption>\n",
    " <p></p> \n",
    " <p style=\"text-align: center;\"> Your output should look something like this (above)</p> \n",
    " </figcaption>\n",
    "</figure>\n",
    " <p></p> \n"
   ]
  },
  {
   "cell_type": "code",
   "execution_count": null,
   "metadata": {
    "collapsed": true
   },
   "outputs": [],
   "source": [
    "### Visualize your network's feature maps here.\n",
    "### Feel free to use as many code cells as needed.\n",
    "\n",
    "# image_input: the test image being fed into the network to produce the feature maps\n",
    "# tf_activation: should be a tf variable name used during your training procedure that represents the calculated state of a specific weight layer\n",
    "# activation_min/max: can be used to view the activation contrast in more detail, by default matplot sets min and max to the actual min and max values of the output\n",
    "# plt_num: used to plot out multiple different weight feature map sets on the same block, just extend the plt number for each new feature map entry\n",
    "\n",
    "def outputFeatureMap(image_input, tf_activation, activation_min=-1, activation_max=-1 ,plt_num=1):\n",
    "    # Here make sure to preprocess your image_input in a way your network expects\n",
    "    # with size, normalization, ect if needed\n",
    "    # image_input =\n",
    "    # Note: x should be the same name as your network's tensorflow data placeholder variable\n",
    "    # If you get an error tf_activation is not defined it may be having trouble accessing the variable from inside a function\n",
    "    activation = tf_activation.eval(session=sess,feed_dict={x : image_input})\n",
    "    featuremaps = activation.shape[3]\n",
    "    plt.figure(plt_num, figsize=(15,15))\n",
    "    for featuremap in range(featuremaps):\n",
    "        plt.subplot(6,8, featuremap+1) # sets the number of feature maps to show on each row and column\n",
    "        plt.title('FeatureMap ' + str(featuremap)) # displays the feature map number\n",
    "        if activation_min != -1 & activation_max != -1:\n",
    "            plt.imshow(activation[0,:,:, featuremap], interpolation=\"nearest\", vmin =activation_min, vmax=activation_max, cmap=\"gray\")\n",
    "        elif activation_max != -1:\n",
    "            plt.imshow(activation[0,:,:, featuremap], interpolation=\"nearest\", vmax=activation_max, cmap=\"gray\")\n",
    "        elif activation_min !=-1:\n",
    "            plt.imshow(activation[0,:,:, featuremap], interpolation=\"nearest\", vmin=activation_min, cmap=\"gray\")\n",
    "        else:\n",
    "            plt.imshow(activation[0,:,:, featuremap], interpolation=\"nearest\", cmap=\"gray\")"
   ]
  },
  {
   "cell_type": "code",
   "execution_count": null,
   "metadata": {},
   "outputs": [],
   "source": [
    "# To do \n"
   ]
  },
  {
   "cell_type": "markdown",
   "metadata": {},
   "source": [
    "### cost over steps"
   ]
  },
  {
   "cell_type": "markdown",
   "metadata": {},
   "source": [
    "### feature visualization"
   ]
  },
  {
   "cell_type": "code",
   "execution_count": null,
   "metadata": {},
   "outputs": [],
   "source": []
  },
  {
   "cell_type": "markdown",
   "metadata": {},
   "source": [
    "### Archetecture comparison"
   ]
  },
  {
   "cell_type": "markdown",
   "metadata": {},
   "source": [
    "### Confusion table for misclassified images"
   ]
  },
  {
   "cell_type": "code",
   "execution_count": null,
   "metadata": {},
   "outputs": [],
   "source": [
    "import numpy as np"
   ]
  },
  {
   "cell_type": "code",
   "execution_count": 187,
   "metadata": {},
   "outputs": [],
   "source": [
    "BATCH_SIZE = 64"
   ]
  },
  {
   "cell_type": "code",
   "execution_count": 190,
   "metadata": {},
   "outputs": [
    {
     "data": {
      "text/plain": [
       "array([2, 1, 4, 9, 2, 1, 7, 8, 1, 4, 1, 9])"
      ]
     },
     "execution_count": 190,
     "metadata": {},
     "output_type": "execute_result"
    }
   ],
   "source": [
    "idx = np.random.randint(10, size=int(BATCH_SIZE * .2))\n",
    "idx"
   ]
  },
  {
   "cell_type": "markdown",
   "metadata": {},
   "source": [
    "### GAN"
   ]
  }
 ],
 "metadata": {
  "anaconda-cloud": {},
  "kernelspec": {
   "display_name": "Python 3",
   "language": "python",
   "name": "python3"
  },
  "language_info": {
   "codemirror_mode": {
    "name": "ipython",
    "version": 3
   },
   "file_extension": ".py",
   "mimetype": "text/x-python",
   "name": "python",
   "nbconvert_exporter": "python",
   "pygments_lexer": "ipython3",
   "version": "3.6.3"
  },
  "nav_menu": {},
  "toc": {
   "navigate_menu": true,
   "number_sections": true,
   "sideBar": false,
   "threshold": 6,
   "toc_cell": true,
   "toc_section_display": "block",
   "toc_window_display": false
  },
  "toc_position": {
   "height": "544px",
   "left": "3px",
   "right": "20px",
   "top": "134px",
   "width": "118px"
  }
 },
 "nbformat": 4,
 "nbformat_minor": 1
}
