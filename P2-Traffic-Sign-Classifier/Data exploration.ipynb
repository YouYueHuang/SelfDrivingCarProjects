{
 "cells": [
  {
   "cell_type": "code",
   "execution_count": 10,
   "metadata": {},
   "outputs": [],
   "source": [
    "# Training Parameters\n",
    "learning_rate = 0.0001\n",
    "epochs = 20\n",
    "logs_path = 'tensorboard_logs'\n",
    "\n",
    "# Network Parameters\n",
    "n_classes = np.unique(y_train).shape[0] # 43 traffic sign classes/labels there are in the dataset.\n",
    "dropout = 0.8  # Dropout, probability to keep units"
   ]
  },
  {
   "cell_type": "code",
   "execution_count": 11,
   "metadata": {},
   "outputs": [],
   "source": [
    "def conv2fc(input_height, input_width, filter_size, stride, layers):\n",
    "    \n",
    "    con2fc_height = input_height\n",
    "    con2fc_width = input_width\n",
    "    for i in layers:\n",
    "        con2fc_height = np.ceil((con2fc_height - filter_size[i] + 1) / stride[i])\n",
    "        con2fc_width = np.ceil((con2fc_width - filter_size[i] + 1) / stride[i])\n",
    "    return int(con2fc_height) * int(con2fc_width)"
   ]
  },
  {
   "cell_type": "code",
   "execution_count": 12,
   "metadata": {},
   "outputs": [
    {
     "name": "stdout",
     "output_type": "stream",
     "text": [
      "Layer conv_1 depth is 32\n",
      "Layer conv_2 depth is 128\n",
      "Layer  fc_1 depth is 1024\n",
      "Layer  fc_2 depth is 1024\n",
      "Layer   out depth is 43\n"
     ]
    }
   ],
   "source": [
    "layers = ['conv_1', 'maxpool_1', 'conv_2', 'maxpool_2']\n",
    "\n",
    "# (img shape: 32*32)\n",
    "layer_input = {\n",
    "     'depth': 1\n",
    "    ,'height': X_train.shape[1]\n",
    "    ,'width': X_train.shape[2]\n",
    "}\n",
    "\n",
    "layer_depth = {\n",
    "    'conv_1': 32\n",
    "    ,'conv_2': 128\n",
    "    ,'fc_1': 1024\n",
    "    ,'fc_2': 1024\n",
    "    ,'out': n_classes\n",
    "}\n",
    "\n",
    "# a kernel size of 3\n",
    "filter_size={\n",
    "    'conv_1': 5\n",
    "    ,'maxpool_1': 2\n",
    "    ,'conv_2': 5\n",
    "    ,'maxpool_2': 2\n",
    "}\n",
    "\n",
    "stride = {\n",
    "    'conv_1': 1\n",
    "    ,'maxpool_1': 2\n",
    "    ,'conv_2': 1\n",
    "    ,'maxpool_2': 2\n",
    "}\n",
    "\n",
    "# xavier_initializer\n",
    "# ref https://www.tensorflow.org/api_docs/python/tf/contrib/layers/xavier_initializer\n",
    "# tf.truncated_normal(shape=[dims[l-1],dims[l]], mean=mu[l], stddev=std[l], dtype=tf.float64)\n",
    "    \n",
    "for k,v in sorted(layer_depth.items()):\n",
    "    print(\"Layer %5s depth is %s\"%(k,v))"
   ]
  },
  {
   "cell_type": "markdown",
   "metadata": {},
   "source": [
    "### Architecture"
   ]
  },
  {
   "cell_type": "code",
   "execution_count": 13,
   "metadata": {},
   "outputs": [],
   "source": [
    "# Tensorboard graph\n",
    "def conv2d(x, W, b, stride):\n",
    "    x = tf.nn.conv2d(x, W, strides=[1, stride, stride, 1], padding='VALID')\n",
    "    x = tf.nn.bias_add(x, b)\n",
    "    return tf.nn.relu(x)\n",
    "\n",
    "def maxpool2d(x, k, s):\n",
    "    # Tensor input is 4-D: [Batch Size, Height, Width, Feature(Channel)]\n",
    "    return tf.nn.max_pool(x, ksize=[1, k, k, 1], strides=[1, s, s, 1], padding='VALID')\n",
    "\n",
    "def fullycon(x, w, b):\n",
    "    return tf.nn.relu(tf.nn.xw_plus_b(tf.contrib.layers.flatten(x), w, b))\n",
    "\n",
    "def conv_net(x, weights, biases, dropout):\n",
    "    # Input\n",
    "    print (\"input shape is: \" + str(x.shape))\n",
    "    \n",
    "    # Layer 1 \n",
    "    conv1 = conv2d(x, weights['conv1'], biases['conv1'], stride['conv_1'])\n",
    "    print (\"conv1 shape is: \" + str(conv1.shape))\n",
    "\n",
    "    conv1 = maxpool2d(conv1, filter_size['maxpool_1'], stride['maxpool_1'])\n",
    "    print (\"maxpool1 shape is: \" + str(conv1.shape))\n",
    "\n",
    "    # Layer 2 \n",
    "    conv2 = conv2d(conv1, weights['conv2'], biases['conv2'], stride['conv_2'])\n",
    "    print (\"conv2 shape is: \" + str(conv2.shape))\n",
    "    \n",
    "    conv2 = maxpool2d(conv2, filter_size['maxpool_1'], stride['maxpool_2'])\n",
    "    print (\"maxpool2 shape is: \" + str(conv2.shape))\n",
    "    \n",
    "    # Layer 3\n",
    "    fc1 = fullycon(conv2, weights['fc1'], biases['fc1'])\n",
    "    print (\"fully connected layer from conv2 {} to fc1 {}\".format(conv2.shape,fc1.shape))\n",
    "    \n",
    "    fc1 = tf.nn.dropout(fc1, dropout)\n",
    "    print (\"fully connected layer 1 dropout is: {}\".format(fc1.shape))\n",
    "    \n",
    "    # Layer 4\n",
    "    fc2 = fullycon(fc1, weights['fc2'], biases['fc2'])\n",
    "    print (\"fully connected layer from fc1 {} to fc2 {}\".format(fc2.shape,fc1.shape))\n",
    "    \n",
    "    fc2 = tf.nn.dropout(fc2, dropout)\n",
    "    print (\"fully connected layer 2 dropout is: {}\".format(fc2.shape))\n",
    "\n",
    "    # Layer 5: output\n",
    "    out = tf.nn.xw_plus_b(fc2, weights['out'], biases['out'])\n",
    "    print (\"output shape is: {}\".format(out.shape))\n",
    "\n",
    "    return out"
   ]
  },
  {
   "cell_type": "code",
   "execution_count": 14,
   "metadata": {},
   "outputs": [
    {
     "name": "stdout",
     "output_type": "stream",
     "text": [
      "Weights for conv1: (5, 5, 1, 32)\n",
      "Weights for conv2: (5, 5, 32, 128)\n",
      "Weights for   fc1: (3200, 1024)\n",
      "Weights for   fc2: (1024, 1024)\n",
      "Weights for   out: (1024, 43)\n",
      "input shape is: (?, 32, 32, 1)\n",
      "conv1 shape is: (?, 28, 28, 32)\n",
      "maxpool1 shape is: (?, 14, 14, 32)\n",
      "conv2 shape is: (?, 10, 10, 128)\n",
      "maxpool2 shape is: (?, 5, 5, 128)\n",
      "fully connected layer from conv2 (?, 5, 5, 128) to fc1 (?, 1024)\n",
      "fully connected layer 1 dropout is: (?, 1024)\n",
      "fully connected layer from fc1 (?, 1024) to fc2 (?, 1024)\n",
      "fully connected layer 2 dropout is: (?, 1024)\n",
      "output shape is: (?, 43)\n"
     ]
    }
   ],
   "source": [
    "\"\"\"\n",
    "graph computation model\n",
    "\"\"\"\n",
    "\n",
    "# ref: https://github.com/aymericdamien/TensorFlow-Examples/blob/master/examples/4_Utils/tensorboard_basic.py\n",
    "# tf Graph input\n",
    "\n",
    "tf.reset_default_graph() \n",
    "# g = tf.Graph()\n",
    "# with g.as_default():\n",
    "x = tf.placeholder(tf.float32, [None, layer_input[\"height\"], layer_input[\"width\"], 1], name='InputData')\n",
    "y = tf.placeholder(tf.float32, [None, n_classes], name='LabelData')\n",
    "keep_prob = tf.placeholder(tf.float32)\n",
    "\n",
    "conv2fc_num = conv2fc(layer_input[\"height\"], layer_input[\"width\"], filter_size, stride, layers)\n",
    "weights = {\n",
    "    'conv1': tf.get_variable(\"conv1w\", shape=[filter_size['conv_1'], filter_size['conv_1']\n",
    "                                              , layer_input['depth'], layer_depth['conv_1']]\n",
    "                             , initializer=tf.contrib.layers.xavier_initializer()),\n",
    "    'conv2': tf.get_variable(\"conv2w\", shape=[filter_size['conv_2'], filter_size['conv_2']\n",
    "                                              , layer_depth['conv_1'], layer_depth['conv_2']]\n",
    "                             , initializer=tf.contrib.layers.xavier_initializer()),\n",
    "    'fc1':  tf.get_variable(\"fc1w\", shape=[conv2fc_num * layer_depth['conv_2'], layer_depth['fc_1']]\n",
    "                            , initializer=tf.contrib.layers.xavier_initializer()),\n",
    "    'fc2':  tf.get_variable(\"fc2w\", shape=[layer_depth['fc_1'], layer_depth['fc_2']]\n",
    "                            , initializer=tf.contrib.layers.xavier_initializer()),\n",
    "    'out':  tf.get_variable(\"out1w\", shape=[layer_depth['fc_2'], layer_depth['out']]\n",
    "                            , initializer=tf.contrib.layers.xavier_initializer())\n",
    "}\n",
    "\n",
    "# ref https://www.leiphone.com/news/201703/3qMp45aQtbxTdzmK.html\n",
    "biases = {\n",
    "    'conv1': tf.get_variable(\"conv1b\", shape=[layer_depth['conv_1']], initializer=tf.contrib.layers.xavier_initializer()),\n",
    "    'conv2': tf.get_variable(\"conv2b\", shape=[layer_depth['conv_2']], initializer=tf.contrib.layers.xavier_initializer()),\n",
    "    'fc1': tf.get_variable(\"fc1b\", shape=[layer_depth['fc_1']], initializer=tf.contrib.layers.xavier_initializer()),\n",
    "    'fc2': tf.get_variable(\"fc2b\", shape=[layer_depth['fc_2']], initializer=tf.contrib.layers.xavier_initializer()),\n",
    "    'out': tf.get_variable(\"out1b\", shape=[layer_depth['out']], initializer=tf.contrib.layers.xavier_initializer())\n",
    "}\n",
    "\n",
    "for k,v in sorted(weights.items()):\n",
    "    print(\"Weights for %5s: %s\"%(k,v.shape))\n",
    "\n",
    "# with tf.name_scope('Model'):\n",
    "logits = conv_net(x, weights, biases, keep_prob)\n",
    "\n",
    "# with tf.name_scope('Cost'):\n",
    "cost = tf.reduce_mean(tf.nn.softmax_cross_entropy_with_logits(logits=logits, labels=y))\n",
    "optimizer = tf.train.GradientDescentOptimizer(learning_rate=learning_rate).minimize(cost)\n",
    "# optimizer = tf.train.AdamOptimizer(learning_rate=learning_rate).minimize(cost)\n",
    "\n",
    "\n",
    "# with tf.name_scope('Accuracy'):\n",
    "correct_pred = tf.equal(tf.argmax(logits, 1), tf.argmax(y, 1))\n",
    "accuracy = tf.reduce_mean(tf.cast(correct_pred, tf.float32))\n",
    "\n",
    "# Create a summary to monitor cost tensor\n",
    "tf.summary.scalar(\"loss\", cost)\n",
    "# Create a summary to monitor accuracy tensor\n",
    "tf.summary.scalar(\"accuracy\", accuracy)\n",
    "# Merge all summaries into a single op\n",
    "merged_summary_op = tf.summary.merge_all()"
   ]
  },
  {
   "cell_type": "markdown",
   "metadata": {},
   "source": [
    "### Data preprocessing"
   ]
  },
  {
   "cell_type": "code",
   "execution_count": 15,
   "metadata": {},
   "outputs": [],
   "source": [
    "def BatchClaheEqualizer(imgs, method, tileSize = 8, clipLim = 2.0):\n",
    "    sample_num = imgs.shape[0]\n",
    "    final_imgs = np.zeros((imgs.shape[0],imgs.shape[1],imgs.shape[2]), dtype=np.int)\n",
    "    \n",
    "    if method == \"clahe\":    \n",
    "        clahe = cv2.createCLAHE(clipLimit=clipLim, tileGridSize=(tileSize,tileSize))\n",
    "        for i in range(sample_num):\n",
    "            final_imgs[i] = clahe.apply(cv2.cvtColor(imgs[i], cv2.COLOR_RGB2GRAY))\n",
    "        return np.expand_dims(final_imgs, axis=-1)\n",
    "    elif method == \"hist\":\n",
    "        for i in range(sample_num):\n",
    "            final_imgs[i] = cv2.equalizeHist(cv2.cvtColor(imgs[i], cv2.COLOR_RGB2GRAY))\n",
    "        return np.expand_dims(final_imgs, axis=-1)\n",
    "    else:    \n",
    "        for i in range(sample_num):\n",
    "            final_imgs[i] = cv2.cvtColor(imgs[i], cv2.COLOR_RGB2GRAY)\n",
    "        return imgs"
   ]
  },
  {
   "cell_type": "code",
   "execution_count": 16,
   "metadata": {},
   "outputs": [],
   "source": []
  },
  {
   "cell_type": "code",
   "execution_count": 17,
   "metadata": {},
   "outputs": [],
   "source": [
    "X_train_equ = BatchClaheEqualizer(X_train, \"clahe\")\n",
    "X_train_input = image_Normalization(X_train_equ)\n",
    "\n",
    "X_valid_equ = BatchClaheEqualizer(X_valid, \"clahe\")\n",
    "X_valid_input = image_Normalization(X_valid_equ)\n",
    "\n",
    "X_test_equ = BatchClaheEqualizer(X_test, \"clahe\")\n",
    "X_test_input = image_Normalization(X_test_equ)"
   ]
  },
  {
   "cell_type": "code",
   "execution_count": 19,
   "metadata": {},
   "outputs": [],
   "source": [
    "def OneHotEncoding(y_class):\n",
    "    lb = preprocessing.LabelBinarizer()\n",
    "    lb.fit(y_class)\n",
    "    return lb"
   ]
  },
  {
   "cell_type": "code",
   "execution_count": 20,
   "metadata": {},
   "outputs": [],
   "source": [
    "ohe = OneHotEncoding(signNames_pd[\"ClassId\"])"
   ]
  },
  {
   "cell_type": "code",
   "execution_count": 21,
   "metadata": {},
   "outputs": [],
   "source": [
    "y_train_input = ohe.transform(y_train)\n",
    "y_valid_input = ohe.transform(y_valid)\n",
    "y_test_input = ohe.transform(y_test)"
   ]
  },
  {
   "cell_type": "markdown",
   "metadata": {},
   "source": [
    "### train, evaluation and test"
   ]
  },
  {
   "cell_type": "code",
   "execution_count": 22,
   "metadata": {},
   "outputs": [],
   "source": [
    "import time"
   ]
  },
  {
   "cell_type": "code",
   "execution_count": 24,
   "metadata": {},
   "outputs": [],
   "source": [
    "# Initializing the variables\n",
    "init = tf.global_variables_initializer()\n",
    "\n",
    "# tf.summary.FileWriter(\"logs\", g).close()"
   ]
  },
  {
   "cell_type": "code",
   "execution_count": 25,
   "metadata": {},
   "outputs": [
    {
     "name": "stdout",
     "output_type": "stream",
     "text": [
      "Epoch  1/20, Batch 610/610 - Loss:        3.8 Validation Accuracy: 0.036508\n",
      "Testing Accuracy: 0.03958828002214432\n",
      "Epoch  2/20, Batch 610/610 - Loss:        3.8 Validation Accuracy: 0.047619\n",
      "Testing Accuracy: 0.05225653201341629\n",
      "Epoch  3/20, Batch 610/610 - Loss:        3.7 Validation Accuracy: 0.047619\n",
      "Testing Accuracy: 0.05225653201341629\n",
      "Epoch  4/20, Batch 610/610 - Loss:        3.7 Validation Accuracy: 0.047619\n",
      "Testing Accuracy: 0.05225653201341629\n",
      "Epoch  5/20, Batch 610/610 - Loss:        3.7 Validation Accuracy: 0.047619\n",
      "Testing Accuracy: 0.05225653201341629\n",
      "Epoch  6/20, Batch 610/610 - Loss:        3.7 Validation Accuracy: 0.047619\n",
      "Testing Accuracy: 0.05225653201341629\n",
      "Epoch  7/20, Batch 610/610 - Loss:        3.7 Validation Accuracy: 0.047619\n",
      "Testing Accuracy: 0.05225653201341629\n",
      "Epoch  8/20, Batch 610/610 - Loss:        3.7 Validation Accuracy: 0.047619\n",
      "Testing Accuracy: 0.05225653201341629\n",
      "Epoch  9/20, Batch 610/610 - Loss:        3.7 Validation Accuracy: 0.047846\n",
      "Testing Accuracy: 0.05241488665342331\n",
      "Epoch 10/20, Batch 610/610 - Loss:        3.7 Validation Accuracy: 0.056463\n",
      "Testing Accuracy: 0.05787806957960129\n",
      "Epoch 11/20, Batch 610/610 - Loss:        3.6 Validation Accuracy: 0.074603\n",
      "Testing Accuracy: 0.07585114985704422\n",
      "Epoch 12/20, Batch 610/610 - Loss:        3.6 Validation Accuracy: 0.079138\n",
      "Testing Accuracy: 0.08471892029047012\n",
      "Epoch 13/20, Batch 610/610 - Loss:        3.6 Validation Accuracy: 0.075057\n",
      "Testing Accuracy: 0.07505938410758972\n",
      "Epoch 14/20, Batch 610/610 - Loss:        3.6 Validation Accuracy: 0.070748\n",
      "Testing Accuracy: 0.06658749282360077\n",
      "Epoch 15/20, Batch 610/610 - Loss:        3.6 Validation Accuracy: 0.066667\n",
      "Testing Accuracy: 0.06207442656159401\n",
      "Epoch 16/20, Batch 610/610 - Loss:        3.6 Validation Accuracy: 0.065079\n",
      "Testing Accuracy: 0.06096595525741577\n",
      "Epoch 17/20, Batch 610/610 - Loss:        3.6 Validation Accuracy: 0.065306\n",
      "Testing Accuracy: 0.06112430617213249\n",
      "Epoch 18/20, Batch 610/610 - Loss:        3.6 Validation Accuracy: 0.062132\n",
      "Testing Accuracy: 0.06254948675632477\n",
      "Epoch 19/20, Batch 610/610 - Loss:        3.6 Validation Accuracy: 0.059410\n",
      "Testing Accuracy: 0.06579572707414627\n",
      "Epoch 20/20, Batch 610/610 - Loss:        3.6 Validation Accuracy: 0.061905\n",
      "Testing Accuracy: 0.0748218521475792\n",
      "--- 9233.673210382462 seconds ---\n"
     ]
    }
   ],
   "source": [
    "start_time = time.time()\n",
    "\n",
    "# Launch the graph\n",
    "with tf.Session() as sess:\n",
    "    sess.run(init)\n",
    "\n",
    "    for epoch in range(epochs):\n",
    "        \n",
    "        # get batch generator\n",
    "        bgss = batch_Generator_StratifiedSampling(y_train_dist, X_train_input, y_train_input)\n",
    "        get_nextBatch = bgss.batches()\n",
    "        \n",
    "        batch_id = 0\n",
    "        for _, train_index in get_nextBatch:  # for batch_id, batch_x, batch_y in batch_iteration(X_train_input, y_train_input, batch_size):\n",
    "            batch_id += 1\n",
    "            batch_x = X_train_input[train_index]\n",
    "            batch_y = y_train_input[train_index]\n",
    "            sess.run(optimizer, feed_dict={x: batch_x, y: batch_y, keep_prob: dropout})\n",
    "\n",
    "            # Calculate batch loss and accuracy\n",
    "            loss = sess.run(cost, feed_dict={x: batch_x, y: batch_y, keep_prob: 1.})\n",
    "            \n",
    "        valid_acc = sess.run(accuracy, feed_dict={\n",
    "            x: X_valid_input,\n",
    "            y: y_valid_input,\n",
    "            keep_prob: 1.})\n",
    "        print('Epoch {:>2}/{}, Batch {:>3}/{} - Loss: {:>10.1f} Validation Accuracy: {:.6f}'.format(\n",
    "            epoch + 1,\n",
    "            epochs,\n",
    "            batch_id,\n",
    "            bgss.num_split,\n",
    "            loss,\n",
    "            valid_acc))\n",
    "\n",
    "        # Calculate Test Accuracy\n",
    "        test_acc = sess.run(accuracy, feed_dict={\n",
    "            x: X_test_input,\n",
    "            y: y_test_input,\n",
    "            keep_prob: 1.})\n",
    "        print('Testing Accuracy: {}'.format(test_acc))\n",
    "    \n",
    "print(\"--- %s seconds ---\" % (time.time() - start_time))"
   ]
  },
  {
   "cell_type": "markdown",
   "metadata": {},
   "source": [
    "---\n",
    "\n",
    "## Step 3: Test a Model on New Images\n",
    "\n",
    "To give yourself more insight into how your model is working, download at least five pictures of German traffic signs from the web and use your model to predict the traffic sign type.\n",
    "\n",
    "You may find `signnames.csv` useful as it contains mappings from the class id (integer) to the actual sign name."
   ]
  },
  {
   "cell_type": "markdown",
   "metadata": {},
   "source": [
    "### Load and Output the Images"
   ]
  },
  {
   "cell_type": "code",
   "execution_count": null,
   "metadata": {
    "collapsed": true
   },
   "outputs": [],
   "source": [
    "### Load the images and plot them here.\n",
    "### Feel free to use as many code cells as needed."
   ]
  },
  {
   "cell_type": "markdown",
   "metadata": {},
   "source": [
    "### Predict the Sign Type for Each Image"
   ]
  },
  {
   "cell_type": "code",
   "execution_count": 3,
   "metadata": {
    "collapsed": true
   },
   "outputs": [],
   "source": [
    "### Run the predictions here and use the model to output the prediction for each image.\n",
    "### Make sure to pre-process the images with the same pre-processing pipeline used earlier.\n",
    "### Feel free to use as many code cells as needed."
   ]
  },
  {
   "cell_type": "markdown",
   "metadata": {},
   "source": [
    "### Analyze Performance"
   ]
  },
  {
   "cell_type": "code",
   "execution_count": 4,
   "metadata": {
    "collapsed": true
   },
   "outputs": [],
   "source": [
    "### Calculate the accuracy for these 5 new images. \n",
    "### For example, if the model predicted 1 out of 5 signs correctly, it's 20% accurate on these new images."
   ]
  },
  {
   "cell_type": "markdown",
   "metadata": {},
   "source": [
    "### Output Top 5 Softmax Probabilities For Each Image Found on the Web"
   ]
  },
  {
   "cell_type": "markdown",
   "metadata": {},
   "source": [
    "For each of the new images, print out the model's softmax probabilities to show the **certainty** of the model's predictions (limit the output to the top 5 probabilities for each image). [`tf.nn.top_k`](https://www.tensorflow.org/versions/r0.12/api_docs/python/nn.html#top_k) could prove helpful here. \n",
    "\n",
    "The example below demonstrates how tf.nn.top_k can be used to find the top k predictions for each image.\n",
    "\n",
    "`tf.nn.top_k` will return the values and indices (class ids) of the top k predictions. So if k=3, for each sign, it'll return the 3 largest probabilities (out of a possible 43) and the correspoding class ids.\n",
    "\n",
    "Take this numpy array as an example. The values in the array represent predictions. The array contains softmax probabilities for five candidate images with six possible classes. `tf.nn.top_k` is used to choose the three classes with the highest probability:\n",
    "\n",
    "```\n",
    "# (5, 6) array\n",
    "a = np.array([[ 0.24879643,  0.07032244,  0.12641572,  0.34763842,  0.07893497,\n",
    "         0.12789202],\n",
    "       [ 0.28086119,  0.27569815,  0.08594638,  0.0178669 ,  0.18063401,\n",
    "         0.15899337],\n",
    "       [ 0.26076848,  0.23664738,  0.08020603,  0.07001922,  0.1134371 ,\n",
    "         0.23892179],\n",
    "       [ 0.11943333,  0.29198961,  0.02605103,  0.26234032,  0.1351348 ,\n",
    "         0.16505091],\n",
    "       [ 0.09561176,  0.34396535,  0.0643941 ,  0.16240774,  0.24206137,\n",
    "         0.09155967]])\n",
    "```\n",
    "\n",
    "Running it through `sess.run(tf.nn.top_k(tf.constant(a), k=3))` produces:\n",
    "\n",
    "```\n",
    "TopKV2(values=array([[ 0.34763842,  0.24879643,  0.12789202],\n",
    "       [ 0.28086119,  0.27569815,  0.18063401],\n",
    "       [ 0.26076848,  0.23892179,  0.23664738],\n",
    "       [ 0.29198961,  0.26234032,  0.16505091],\n",
    "       [ 0.34396535,  0.24206137,  0.16240774]]), indices=array([[3, 0, 5],\n",
    "       [0, 1, 4],\n",
    "       [0, 5, 1],\n",
    "       [1, 3, 5],\n",
    "       [1, 4, 3]], dtype=int32))\n",
    "```\n",
    "\n",
    "Looking just at the first row we get `[ 0.34763842,  0.24879643,  0.12789202]`, you can confirm these are the 3 largest probabilities in `a`. You'll also notice `[3, 0, 5]` are the corresponding indices."
   ]
  },
  {
   "cell_type": "code",
   "execution_count": 3,
   "metadata": {
    "collapsed": true
   },
   "outputs": [],
   "source": [
    "### Print out the top five softmax probabilities for the predictions on the German traffic sign images found on the web. \n",
    "### Feel free to use as many code cells as needed."
   ]
  },
  {
   "cell_type": "markdown",
   "metadata": {},
   "source": [
    "### Project Writeup\n",
    "\n",
    "Once you have completed the code implementation, document your results in a project writeup using this [template](https://github.com/udacity/CarND-Traffic-Sign-Classifier-Project/blob/master/writeup_template.md) as a guide. The writeup can be in a markdown or pdf file. "
   ]
  },
  {
   "cell_type": "markdown",
   "metadata": {},
   "source": [
    "> **Note**: Once you have completed all of the code implementations and successfully answered each question above, you may finalize your work by exporting the iPython Notebook as an HTML document. You can do this by using the menu above and navigating to  \\n\",\n",
    "    \"**File -> Download as -> HTML (.html)**. Include the finished document along with this notebook as your submission."
   ]
  },
  {
   "cell_type": "markdown",
   "metadata": {},
   "source": [
    "---\n",
    "\n",
    "## Step 4 (Optional): Visualize the Neural Network's State with Test Images\n",
    "\n",
    " This Section is not required to complete but acts as an additional excersise for understaning the output of a neural network's weights. While neural networks can be a great learning device they are often referred to as a black box. We can understand what the weights of a neural network look like better by plotting their feature maps. After successfully training your neural network you can see what it's feature maps look like by plotting the output of the network's weight layers in response to a test stimuli image. From these plotted feature maps, it's possible to see what characteristics of an image the network finds interesting. For a sign, maybe the inner network feature maps react with high activation to the sign's boundary outline or to the contrast in the sign's painted symbol.\n",
    "\n",
    " Provided for you below is the function code that allows you to get the visualization output of any tensorflow weight layer you want. The inputs to the function should be a stimuli image, one used during training or a new one you provided, and then the tensorflow variable name that represents the layer's state during the training process, for instance if you wanted to see what the [LeNet lab's](https://classroom.udacity.com/nanodegrees/nd013/parts/fbf77062-5703-404e-b60c-95b78b2f3f9e/modules/6df7ae49-c61c-4bb2-a23e-6527e69209ec/lessons/601ae704-1035-4287-8b11-e2c2716217ad/concepts/d4aca031-508f-4e0b-b493-e7b706120f81) feature maps looked like for it's second convolutional layer you could enter conv2 as the tf_activation variable.\n",
    "\n",
    "For an example of what feature map outputs look like, check out NVIDIA's results in their paper [End-to-End Deep Learning for Self-Driving Cars](https://devblogs.nvidia.com/parallelforall/deep-learning-self-driving-cars/) in the section Visualization of internal CNN State. NVIDIA was able to show that their network's inner weights had high activations to road boundary lines by comparing feature maps from an image with a clear path to one without. Try experimenting with a similar test to show that your trained network's weights are looking for interesting features, whether it's looking at differences in feature maps from images with or without a sign, or even what feature maps look like in a trained network vs a completely untrained one on the same sign image.\n",
    "\n",
    "<figure>\n",
    " <img src=\"visualize_cnn.png\" width=\"380\" alt=\"Combined Image\" />\n",
    " <figcaption>\n",
    " <p></p> \n",
    " <p style=\"text-align: center;\"> Your output should look something like this (above)</p> \n",
    " </figcaption>\n",
    "</figure>\n",
    " <p></p> \n"
   ]
  },
  {
   "cell_type": "code",
   "execution_count": null,
   "metadata": {
    "collapsed": true
   },
   "outputs": [],
   "source": [
    "### Visualize your network's feature maps here.\n",
    "### Feel free to use as many code cells as needed.\n",
    "\n",
    "# image_input: the test image being fed into the network to produce the feature maps\n",
    "# tf_activation: should be a tf variable name used during your training procedure that represents the calculated state of a specific weight layer\n",
    "# activation_min/max: can be used to view the activation contrast in more detail, by default matplot sets min and max to the actual min and max values of the output\n",
    "# plt_num: used to plot out multiple different weight feature map sets on the same block, just extend the plt number for each new feature map entry\n",
    "\n",
    "def outputFeatureMap(image_input, tf_activation, activation_min=-1, activation_max=-1 ,plt_num=1):\n",
    "    # Here make sure to preprocess your image_input in a way your network expects\n",
    "    # with size, normalization, ect if needed\n",
    "    # image_input =\n",
    "    # Note: x should be the same name as your network's tensorflow data placeholder variable\n",
    "    # If you get an error tf_activation is not defined it may be having trouble accessing the variable from inside a function\n",
    "    activation = tf_activation.eval(session=sess,feed_dict={x : image_input})\n",
    "    featuremaps = activation.shape[3]\n",
    "    plt.figure(plt_num, figsize=(15,15))\n",
    "    for featuremap in range(featuremaps):\n",
    "        plt.subplot(6,8, featuremap+1) # sets the number of feature maps to show on each row and column\n",
    "        plt.title('FeatureMap ' + str(featuremap)) # displays the feature map number\n",
    "        if activation_min != -1 & activation_max != -1:\n",
    "            plt.imshow(activation[0,:,:, featuremap], interpolation=\"nearest\", vmin =activation_min, vmax=activation_max, cmap=\"gray\")\n",
    "        elif activation_max != -1:\n",
    "            plt.imshow(activation[0,:,:, featuremap], interpolation=\"nearest\", vmax=activation_max, cmap=\"gray\")\n",
    "        elif activation_min !=-1:\n",
    "            plt.imshow(activation[0,:,:, featuremap], interpolation=\"nearest\", vmin=activation_min, cmap=\"gray\")\n",
    "        else:\n",
    "            plt.imshow(activation[0,:,:, featuremap], interpolation=\"nearest\", cmap=\"gray\")"
   ]
  }
 ],
 "metadata": {
  "anaconda-cloud": {},
  "kernelspec": {
   "display_name": "Python 3",
   "language": "python",
   "name": "python3"
  },
  "language_info": {
   "codemirror_mode": {
    "name": "ipython",
    "version": 3
   },
   "file_extension": ".py",
   "mimetype": "text/x-python",
   "name": "python",
   "nbconvert_exporter": "python",
   "pygments_lexer": "ipython3",
   "version": "3.6.3"
  },
  "nav_menu": {},
  "toc": {
   "navigate_menu": true,
   "number_sections": true,
   "sideBar": false,
   "threshold": 6,
   "toc_cell": true,
   "toc_section_display": "block",
   "toc_window_display": false
  },
  "toc_position": {
   "height": "544px",
   "left": "3px",
   "right": "20px",
   "top": "134px",
   "width": "118px"
  }
 },
 "nbformat": 4,
 "nbformat_minor": 1
}
