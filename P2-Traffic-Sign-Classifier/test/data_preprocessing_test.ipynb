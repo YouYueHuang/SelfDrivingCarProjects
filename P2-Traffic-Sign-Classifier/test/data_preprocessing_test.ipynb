{
 "cells": [
  {
   "cell_type": "markdown",
   "metadata": {
    "toc": "true"
   },
   "source": [
    "# Table of Contents\n",
    " <p><div class=\"lev2 toc-item\"><a href=\"#Changing-Color-space\" data-toc-modified-id=\"Changing-Color-space-0.1\"><span class=\"toc-item-num\">0.1&nbsp;&nbsp;</span>Changing Color-space</a></div><div class=\"lev2 toc-item\"><a href=\"#Histogram-Equalization\" data-toc-modified-id=\"Histogram-Equalization-0.2\"><span class=\"toc-item-num\">0.2&nbsp;&nbsp;</span>Histogram Equalization</a></div><div class=\"lev1 toc-item\"><a href=\"#Model\" data-toc-modified-id=\"Model-1\"><span class=\"toc-item-num\">1&nbsp;&nbsp;</span>Model</a></div>"
   ]
  },
  {
   "cell_type": "markdown",
   "metadata": {},
   "source": [
    "### Changing Color-space"
   ]
  },
  {
   "cell_type": "markdown",
   "metadata": {},
   "source": [
    "> For HSV, Hue range is [0,179], Saturation range is [0,255] and Value range is [0,255]."
   ]
  },
  {
   "cell_type": "markdown",
   "metadata": {},
   "source": [
    "> `mpimg.imread()` will read in an **RGB** image: convert to grayscale using `cv2.COLOR_RGB2GRAY`\n",
    "\n",
    "> `cv2.imread()` or the **glob API** will read in a **BGR** image: convert to grayscale using `cv2.COLOR_BGR2GRAY`."
   ]
  },
  {
   "cell_type": "markdown",
   "metadata": {},
   "source": [
    "> dtype=uint8  pixel range is [0,255]"
   ]
  },
  {
   "cell_type": "code",
   "execution_count": 11,
   "metadata": {},
   "outputs": [],
   "source": [
    "# ref: https://docs.opencv.org/3.2.0/df/d9d/tutorial_py_colorspaces.html\n",
    "def HSV_space(img):\n",
    "    return cv2.cvtColor(img, cv2.COLOR_RGB2HSV)\n",
    "\n",
    "def image_Normalization(img_batches):\n",
    "    return ((np.float32(img_batches)-128.0) / 128.0)\n",
    "\n",
    "def grayscale(img_batches):\n",
    "    # cv2.cvtColor(img, cv2.COLOR_RGB2GRAY)\n",
    "    return np.expand_dims(0.21 * img_batches[:,:,:,0] + 0.72 * img_batches[:,:,:,1] + 0.07 * img_batches[:,:,:,2], axis=-1)\n",
    "\n",
    "def grayscale_cv2(img):\n",
    "    return cv2.cvtColor(img, cv2.COLOR_RGB2GRAY)"
   ]
  },
  {
   "cell_type": "code",
   "execution_count": 12,
   "metadata": {},
   "outputs": [],
   "source": [
    "## Label Binarizer for classes\n",
    "def OneHotEncoding(y_class):\n",
    "    lb = preprocessing.LabelBinarizer()\n",
    "    lb.fit(y_class)\n",
    "    return lb\n",
    "\n",
    "def batch_iteration(train_x, train_y, batch_size, start=0):\n",
    "    n_sample = train_x.shape[0]\n",
    "    n = start\n",
    "    for i in range(0, n_sample, batch_size):\n",
    "        yield (n, train_x[i:i + batch_size], train_y[i:i + batch_size])\n",
    "        n += 1"
   ]
  },
  {
   "cell_type": "code",
   "execution_count": 13,
   "metadata": {},
   "outputs": [],
   "source": [
    "def HistEqualizer(grayscale_img):\n",
    "    return cv2.equalizeHist(grayscale_img)\n",
    "\n",
    "def ClaheEqualizer(grayscale_img, tileSize = 8, clipLim = 2.0):\n",
    "    clahe = cv2.createCLAHE(clipLimit=clipLim, tileGridSize=(tileSize,tileSize))\n",
    "    return clahe.apply(grayscale_img)"
   ]
  },
  {
   "cell_type": "markdown",
   "metadata": {},
   "source": [
    "### Histogram Equalization\n",
    "\n",
    "* Enhancing the contrast in an image, bringing out details which were hard to see before.\n",
    "* ref: https://docs.opencv.org/3.1.0/d5/daf/tutorial_py_histogram_equalization.html\n",
    "\n",
    "* CLAHE (Contrast Limited Adaptive Histogram Equalization)\n",
    "\n",
    "With **adaptive histogram equalization**, image is divided into small tiles. Then each of these titles are histogram equalized as usual. So in a small area, histogram would confine to a small region (unless there is noise). If *noise* is there, it will be amplified. To avoid this, contrast limiting is applied. If any histogram bin is above the specified contrast limit, those pixels are clipped and distributed uniformly to other bins before applying histogram equalization. After equalization, to remove *artifacts in tile borders*, bilinear interpolation is applied."
   ]
  },
  {
   "cell_type": "code",
   "execution_count": 14,
   "metadata": {},
   "outputs": [],
   "source": [
    "def plot_of_equalizer(img):\n",
    "    # equalizer\n",
    "    equ_img = cv2.equalizeHist(img)\n",
    "    # clahe\n",
    "    clahe = cv2.createCLAHE(clipLimit=2.0, tileGridSize=(8,8))\n",
    "    cl_img = clahe.apply(img)\n",
    "\n",
    "    # stacking images side-by-side\n",
    "    res = np.hstack((img, equ_img, cl_img))\n",
    "    plt.imshow(res);\n",
    "    plt.axis('off');\n",
    "    return (img, equ_img, cl_img)\n",
    "\n",
    "def plot_of_grayscaleHistogram(imgs):\n",
    "    origin_img, equ_img, cl_img = imgs\n",
    "    # Three subplots sharing both x/y axes\n",
    "    f, (ax1, ax2, ax3) = plt.subplots(3, sharex=True, sharey=True)\n",
    "    ax1.hist(origin_img.flatten(),256,[0,256], color = 'r')\n",
    "    ax1.set_title('grayscale histogram of original img, histo equalizer, Clahe')\n",
    "    ax2.hist(equ_img.flatten(),256,[0,256], color = 'r')\n",
    "    ax3.hist(cl_img.flatten(),256,[0,256], color = 'r')\n",
    "    # Fine-tune figure; make subplots close to each other and hide x ticks for\n",
    "    # all but bottom plot.\n",
    "    f.subplots_adjust(hspace=0)\n",
    "    plt.setp([a.get_xticklabels() for a in f.axes[:-1]], visible=False)\n",
    "    plt.show()"
   ]
  },
  {
   "cell_type": "code",
   "execution_count": 15,
   "metadata": {},
   "outputs": [
    {
     "data": {
      "image/png": "[encoded data removed]",
      "text/plain": [
       "<matplotlib.figure.Figure at 0xc42af5f438>"
      ]
     },
     "metadata": {},
     "output_type": "display_data"
    },
    {
     "data": {
      "image/png": "[encoded data removed]",
      "text/plain": [
       "<matplotlib.figure.Figure at 0xc42af5f8d0>"
      ]
     },
     "metadata": {},
     "output_type": "display_data"
    }
   ],
   "source": [
    "img = X_train[50]\n",
    "grayscale_img = grayscale_cv2(img)\n",
    "equalizer_images = plot_of_equalizer(grayscale_img)\n",
    "plot_of_grayscaleHistogram(equalizer_images)"
   ]
  },
  {
   "cell_type": "markdown",
   "metadata": {},
   "source": [
    "## Model"
   ]
  },
  {
   "cell_type": "markdown",
   "metadata": {},
   "source": [
    "* Example\n",
    "  - Input width = 13\n",
    "  - Filter width = 6\n",
    "  - Stride = 5\n",
    "\n",
    "* \"VALID\" = without padding:"
   ]
  },
  {
   "cell_type": "code",
   "execution_count": 633,
   "metadata": {},
   "outputs": [],
   "source": [
    "\"\"\"\n",
    "inputs:     1  2  3  4  5  6  7  8  9  10  11  (12  13)\n",
    "            |______________|                 dropped\n",
    "                           |________________|\n",
    "\"\"\";"
   ]
  },
  {
   "cell_type": "markdown",
   "metadata": {},
   "source": [
    "* \"SAME\" = with zero padding:"
   ]
  },
  {
   "cell_type": "code",
   "execution_count": 634,
   "metadata": {},
   "outputs": [],
   "source": [
    "\"\"\"\n",
    "         pad|                                           |pad\n",
    "  inputs: 0-|-1--2--3--4--5--6--7--8--9--10--11--12--13-|-0--0\n",
    "          |_______________|\n",
    "                          |_______________|\n",
    "                                          |__________________|\n",
    "\"\"\";"
   ]
  },
  {
   "cell_type": "markdown",
   "metadata": {},
   "source": [
    "> **VALID** only ever drops the right-most columns (or bottom-most rows).\n",
    "\n",
    "> **SAME** tries to pad evenly left and right, but if the amount of columns to be added is odd, it will add the extra column to the right, as is the case in this example (the same logic applies vertically: there may be an extra row of zeros at the bottom)."
   ]
  }
 ],
 "metadata": {
  "anaconda-cloud": {},
  "kernelspec": {
   "display_name": "Python 3",
   "language": "python",
   "name": "python3"
  },
  "language_info": {
   "codemirror_mode": {
    "name": "ipython",
    "version": 3
   },
   "file_extension": ".py",
   "mimetype": "text/x-python",
   "name": "python",
   "nbconvert_exporter": "python",
   "pygments_lexer": "ipython3",
   "version": "3.6.3"
  },
  "nav_menu": {},
  "toc": {
   "navigate_menu": true,
   "number_sections": true,
   "sideBar": false,
   "threshold": 6,
   "toc_cell": true,
   "toc_section_display": "block",
   "toc_window_display": false
  },
  "toc_position": {
   "height": "544px",
   "left": "3px",
   "right": "20px",
   "top": "134px",
   "width": "118px"
  }
 },
 "nbformat": 4,
 "nbformat_minor": 1
}
