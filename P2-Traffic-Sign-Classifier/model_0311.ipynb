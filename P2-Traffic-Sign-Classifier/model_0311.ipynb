{
 "cells": [
  {
   "cell_type": "markdown",
   "metadata": {},
   "source": [
    "# download data for cloud"
   ]
  },
  {
   "cell_type": "code",
   "execution_count": 88,
   "metadata": {},
   "outputs": [],
   "source": [
    "from download_file import *"
   ]
  },
  {
   "cell_type": "code",
   "execution_count": 2,
   "metadata": {},
   "outputs": [
    {
     "name": "stdout",
     "output_type": "stream",
     "text": [
      "- Download progress: 100.0%\n",
      "Download finished. Extracting files.\n",
      "Done.\n"
     ]
    }
   ],
   "source": [
    "url = \"https://s3-us-west-1.amazonaws.com/udacity-selfdrivingcar/traffic-signs-data.zip\"\n",
    "download_dir = '..//..//datasets_collection//Traffic_Sign_Classifier'\n",
    "maybe_download_and_extract(url, download_dir)"
   ]
  },
  {
   "cell_type": "markdown",
   "metadata": {},
   "source": [
    "# importing some useful packages"
   ]
  },
  {
   "cell_type": "code",
   "execution_count": 1,
   "metadata": {},
   "outputs": [
    {
     "name": "stderr",
     "output_type": "stream",
     "text": [
      "D:\\Anaconda_36\\envs\\tensorflow\\lib\\site-packages\\sklearn\\cross_validation.py:41: DeprecationWarning: This module was deprecated in version 0.18 in favor of the model_selection module into which all the refactored classes and functions are moved. Also note that the interface of the new CV iterators are different from that of this module. This module will be removed in 0.20.\n",
      "  \"This module will be removed in 0.20.\", DeprecationWarning)\n"
     ]
    }
   ],
   "source": [
    "import os\n",
    "import matplotlib.pyplot as plt\n",
    "import matplotlib.gridspec as gridspec\n",
    "import math\n",
    "import cv2\n",
    "import time as time\n",
    "from sklearn.preprocessing import OneHotEncoder\n",
    "from sklearn.cross_validation import train_test_split\n",
    "import numpy as np\n",
    "%matplotlib inline\n",
    "import tensorflow as tf\n",
    "from PIL import Image\n",
    "import time\n",
    "from datetime import timedelta\n",
    "import numpy as np\n",
    "import pandas as pd\n",
    "from sklearn.metrics import confusion_matrix"
   ]
  },
  {
   "cell_type": "markdown",
   "metadata": {},
   "source": [
    "# Read data"
   ]
  },
  {
   "cell_type": "code",
   "execution_count": 2,
   "metadata": {},
   "outputs": [],
   "source": [
    "def OHE_labels(Y_tr,N_classes):\n",
    "    OHC = OneHotEncoder()\n",
    "    \n",
    "    Y_ohc = OHC.fit(np.arange(N_classes).reshape(-1, 1))\n",
    "    Y_labels = Y_ohc.transform(Y_tr.reshape(-1, 1)).toarray()\n",
    "    return Y_labels"
   ]
  },
  {
   "cell_type": "code",
   "execution_count": 3,
   "metadata": {},
   "outputs": [],
   "source": [
    "def read_data_sets(file):\n",
    "    \"\"\"\n",
    "    Load pickled data\n",
    "    args:\n",
    "        file   (str)     path to datasets \n",
    "    yields:\n",
    "        features and label of datasets (numpy array)\n",
    "    \"\"\"\n",
    "    with open(file, mode='rb') as f:\n",
    "        return pickle.load(f)"
   ]
  },
  {
   "cell_type": "code",
   "execution_count": 4,
   "metadata": {},
   "outputs": [],
   "source": [
    "# Load pickled data\n",
    "import pickle\n",
    "\n",
    "data_rel_path = \"..\\\\..\\\\datasets_collection\\\\Traffic_Sign_Classifier\"\n",
    "#\"aug_train_600\"\n",
    "\n",
    "train = read_data_sets(os.path.join(data_rel_path, \"train.p\"))\n",
    "valid= read_data_sets(os.path.join(data_rel_path, \"valid.p\")) \n",
    "test = read_data_sets(os.path.join(data_rel_path, \"test.p\")) \n",
    "\n",
    "    \n",
    "X_train, y_train = train['features'], train['labels']\n",
    "X_test, y_test = test['features'], test['labels']\n",
    "X_valid, y_valid = valid['features'], valid['labels']\n",
    "labels_train = OHE_labels(y_train,43)\n",
    "labels_test = OHE_labels(y_test,43)\n",
    "labels_valid = OHE_labels(y_valid,43)"
   ]
  },
  {
   "cell_type": "code",
   "execution_count": 5,
   "metadata": {},
   "outputs": [],
   "source": [
    "def check_OHE(cls,y):\n",
    "    check = np.linalg.norm(np.argmax(cls,axis=1)-y)\n",
    "    if check == 0:\n",
    "        print('One hot encoding correct, ok to proceed')\n",
    "    else:\n",
    "        print('One hot encoding doesnt match the output, check code!!!')"
   ]
  },
  {
   "cell_type": "code",
   "execution_count": 6,
   "metadata": {},
   "outputs": [],
   "source": [
    "data_pd = pd.read_csv(os.path.join(data_rel_path, 'signnames.csv'))"
   ]
  },
  {
   "cell_type": "code",
   "execution_count": 7,
   "metadata": {},
   "outputs": [
    {
     "name": "stdout",
     "output_type": "stream",
     "text": [
      "One hot encoding correct, ok to proceed\n",
      "One hot encoding correct, ok to proceed\n"
     ]
    }
   ],
   "source": [
    "check_OHE(labels_test,y_test)\n",
    "check_OHE(labels_train,y_train)"
   ]
  },
  {
   "cell_type": "markdown",
   "metadata": {},
   "source": [
    "# Dataset Exploration"
   ]
  },
  {
   "cell_type": "markdown",
   "metadata": {},
   "source": [
    "## Dataset Summary"
   ]
  },
  {
   "cell_type": "code",
   "execution_count": 8,
   "metadata": {},
   "outputs": [
    {
     "name": "stdout",
     "output_type": "stream",
     "text": [
      "Number of training examples = 39209\n",
      "Number of testing examples = 12630\n",
      "Image data shape = (32, 32, 3)\n",
      "Number of classes = 43\n"
     ]
    }
   ],
   "source": [
    "n_train = len(y_train)\n",
    "n_test = len(y_test)\n",
    "image_shape = np.shape(X_train[1])\n",
    "n_classes = len(np.unique(y_train))\n",
    "\n",
    "print(\"Number of training examples =\", n_train)\n",
    "print(\"Number of testing examples =\", n_test)\n",
    "print(\"Image data shape =\", image_shape)\n",
    "print(\"Number of classes =\", n_classes)"
   ]
  },
  {
   "cell_type": "markdown",
   "metadata": {},
   "source": [
    "## Exploratory Visualization"
   ]
  },
  {
   "cell_type": "code",
   "execution_count": 9,
   "metadata": {},
   "outputs": [],
   "source": [
    "def plot_random_3C(n_row,n_col,X,y):\n",
    "\n",
    "    plt.figure(figsize = (11,8))\n",
    "    gs1 = gridspec.GridSpec(n_row,n_row)\n",
    "    gs1.update(wspace=0.01, hspace=0.02) # set the spacing between axes. \n",
    "\n",
    "    for i in range(n_row*n_col):\n",
    "        # i = i + 1 # grid spec indexes from 0\n",
    "        ax1 = plt.subplot(gs1[i])\n",
    "        plt.axis('on')\n",
    "        ax1.set_xticklabels([])\n",
    "        ax1.set_yticklabels([])\n",
    "        ax1.set_aspect('equal')\n",
    "        #plt.subplot(4,11,i+1)\n",
    "        ind_plot = np.random.randint(1,len(y))\n",
    "        plt.imshow(X[ind_plot])\n",
    "        plt.text(2,4,str(y[ind_plot]),\n",
    "             color='k',backgroundcolor='c')\n",
    "        plt.axis('off')\n",
    "    plt.show()\n",
    "def plot_random_1C(n_row,n_col,X,y):\n",
    "\n",
    "    plt.figure(figsize = (11,8))\n",
    "    gs1 = gridspec.GridSpec(n_row,n_row)\n",
    "    gs1.update(wspace=0.01, hspace=0.02) # set the spacing between axes. \n",
    "\n",
    "    for i in range(n_row*n_col):\n",
    "        # i = i + 1 # grid spec indexes from 0\n",
    "        ax1 = plt.subplot(gs1[i])\n",
    "        plt.axis('on')\n",
    "        ax1.set_xticklabels([])\n",
    "        ax1.set_yticklabels([])\n",
    "        ax1.set_aspect('equal')\n",
    "        #plt.subplot(4,11,i+1)\n",
    "        ind_plot = np.random.randint(1,len(y))\n",
    "        plt.imshow(X[ind_plot],cmap='gray')\n",
    "        plt.text(2,4,str(y[ind_plot]),\n",
    "             color='k',backgroundcolor='c')\n",
    "        plt.axis('off')\n",
    "    plt.show()   \n",
    "def plot_random_preprocess(n_row,n_col,X,y):\n",
    "\n",
    "    plt.figure(figsize = (11,8))\n",
    "    gs1 = gridspec.GridSpec(n_row,n_row)\n",
    "    gs1.update(wspace=0.01, hspace=0.02) # set the spacing between axes. \n",
    "\n",
    "    for i in range(n_row*n_col):\n",
    "        # i = i + 1 # grid spec indexes from 0\n",
    "        ax1 = plt.subplot(gs1[i])\n",
    "        plt.axis('on')\n",
    "        ax1.set_xticklabels([])\n",
    "        ax1.set_yticklabels([])\n",
    "        ax1.set_aspect('equal')\n",
    "        #plt.subplot(4,11,i+1)\n",
    "        ind_plot = np.random.randint(1,len(y))\n",
    "        plt.imshow(pre_process_image(X[ind_plot]),cmap='gray')\n",
    "        plt.text(2,4,str(y[ind_plot]),\n",
    "             color='k',backgroundcolor='c')\n",
    "        plt.axis('off')\n",
    "    plt.show()"
   ]
  },
  {
   "cell_type": "markdown",
   "metadata": {},
   "source": [
    "### original images"
   ]
  },
  {
   "cell_type": "code",
   "execution_count": 10,
   "metadata": {},
   "outputs": [
    {
     "data": {
      "image/png": "[encoded data removed]",
      "text/plain": [
       "<matplotlib.figure.Figure at 0xf281e18d68>"
      ]
     },
     "metadata": {},
     "output_type": "display_data"
    }
   ],
   "source": [
    "plot_random_3C(4,4,X_train,y_train)"
   ]
  },
  {
   "cell_type": "markdown",
   "metadata": {},
   "source": [
    "### images after equalization "
   ]
  },
  {
   "cell_type": "code",
   "execution_count": 11,
   "metadata": {},
   "outputs": [],
   "source": [
    "def pre_process_image(image):\n",
    "\n",
    "    #image = cv2.cvtColor(image, cv2.COLOR_BGR2YUV)\n",
    "    #image = image[:,:,0]\n",
    "    image[:,:,0] = cv2.equalizeHist(image[:,:,0])\n",
    "    image[:,:,1] = cv2.equalizeHist(image[:,:,1])\n",
    "    image[:,:,2] = cv2.equalizeHist(image[:,:,2])\n",
    "    image = image/255.-.5\n",
    "    #image = cv2.resize(image, (img_resize,img_resize),interpolation = cv2.INTER_CUBIC)\n",
    "    return image"
   ]
  },
  {
   "cell_type": "code",
   "execution_count": 12,
   "metadata": {},
   "outputs": [],
   "source": [
    "img_resize = 32\n",
    "N_classes = 43\n",
    "image_shape = (img_resize,img_resize)\n",
    "img_size_flat = img_resize*img_resize\n",
    "\n",
    "image_GS_train = np.array([pre_process_image(X_train[i]) for i in range(len(X_train))],\n",
    "                          dtype = np.float32)\n",
    "image_GS_test = np.array([pre_process_image(X_test[i]) for i in range(len(X_test))],\n",
    "                          dtype = np.float32)"
   ]
  },
  {
   "cell_type": "code",
   "execution_count": 13,
   "metadata": {},
   "outputs": [
    {
     "data": {
      "image/png": "[encoded data removed]",
      "text/plain": [
       "<matplotlib.figure.Figure at 0xf284fccd68>"
      ]
     },
     "metadata": {},
     "output_type": "display_data"
    }
   ],
   "source": [
    "plot_random_3C(4,4,image_GS_train+.5,y_train)"
   ]
  },
  {
   "cell_type": "markdown",
   "metadata": {},
   "source": [
    "### frequency table of training set"
   ]
  },
  {
   "cell_type": "code",
   "execution_count": 14,
   "metadata": {},
   "outputs": [],
   "source": [
    "data_i = [[i,sum(y_train == i)] for i in range(len(np.unique(y_train)))]\n",
    "data_i_sorted = sorted(data_i, key=lambda x: x[1])"
   ]
  },
  {
   "cell_type": "code",
   "execution_count": 15,
   "metadata": {},
   "outputs": [],
   "source": [
    "data_pd['Occurance'] = pd.Series(np.asarray(data_i_sorted).T[1], index=np.asarray(data_i_sorted).T[0])\n",
    "data_pd_sorted = data_pd.sort_values(['Occurance'],ascending=[0])\n",
    "data_pd_sorted = data_pd_sorted.reindex(data_pd_sorted[\"ClassId\"])\n",
    "data_pd_sorted = data_pd.sort_values(['Occurance'],ascending=[0])\n",
    "data_pd_sorted = data_pd_sorted.drop(['ClassId'], axis = 1)"
   ]
  },
  {
   "cell_type": "code",
   "execution_count": 16,
   "metadata": {},
   "outputs": [
    {
     "data": {
      "text/html": [
       "<div>\n",
       "<style scoped>\n",
       "    .dataframe tbody tr th:only-of-type {\n",
       "        vertical-align: middle;\n",
       "    }\n",
       "\n",
       "    .dataframe tbody tr th {\n",
       "        vertical-align: top;\n",
       "    }\n",
       "\n",
       "    .dataframe thead th {\n",
       "        text-align: right;\n",
       "    }\n",
       "</style>\n",
       "<table border=\"1\" class=\"dataframe\">\n",
       "  <thead>\n",
       "    <tr style=\"text-align: right;\">\n",
       "      <th></th>\n",
       "      <th>SignName</th>\n",
       "      <th>Occurance</th>\n",
       "    </tr>\n",
       "  </thead>\n",
       "  <tbody>\n",
       "    <tr>\n",
       "      <th>2</th>\n",
       "      <td>Speed limit (50km/h)</td>\n",
       "      <td>2250</td>\n",
       "    </tr>\n",
       "    <tr>\n",
       "      <th>1</th>\n",
       "      <td>Speed limit (30km/h)</td>\n",
       "      <td>2220</td>\n",
       "    </tr>\n",
       "    <tr>\n",
       "      <th>13</th>\n",
       "      <td>Yield</td>\n",
       "      <td>2160</td>\n",
       "    </tr>\n",
       "    <tr>\n",
       "      <th>12</th>\n",
       "      <td>Priority road</td>\n",
       "      <td>2100</td>\n",
       "    </tr>\n",
       "    <tr>\n",
       "      <th>38</th>\n",
       "      <td>Keep right</td>\n",
       "      <td>2070</td>\n",
       "    </tr>\n",
       "    <tr>\n",
       "      <th>10</th>\n",
       "      <td>No passing for vehicles over 3.5 metric tons</td>\n",
       "      <td>2010</td>\n",
       "    </tr>\n",
       "    <tr>\n",
       "      <th>4</th>\n",
       "      <td>Speed limit (70km/h)</td>\n",
       "      <td>1980</td>\n",
       "    </tr>\n",
       "    <tr>\n",
       "      <th>5</th>\n",
       "      <td>Speed limit (80km/h)</td>\n",
       "      <td>1860</td>\n",
       "    </tr>\n",
       "    <tr>\n",
       "      <th>25</th>\n",
       "      <td>Road work</td>\n",
       "      <td>1500</td>\n",
       "    </tr>\n",
       "    <tr>\n",
       "      <th>9</th>\n",
       "      <td>No passing</td>\n",
       "      <td>1470</td>\n",
       "    </tr>\n",
       "  </tbody>\n",
       "</table>\n",
       "</div>"
      ],
      "text/plain": [
       "                                        SignName  Occurance\n",
       "2                           Speed limit (50km/h)       2250\n",
       "1                           Speed limit (30km/h)       2220\n",
       "13                                         Yield       2160\n",
       "12                                 Priority road       2100\n",
       "38                                    Keep right       2070\n",
       "10  No passing for vehicles over 3.5 metric tons       2010\n",
       "4                           Speed limit (70km/h)       1980\n",
       "5                           Speed limit (80km/h)       1860\n",
       "25                                     Road work       1500\n",
       "9                                     No passing       1470"
      ]
     },
     "execution_count": 16,
     "metadata": {},
     "output_type": "execute_result"
    }
   ],
   "source": [
    "data_pd_sorted.head(10)"
   ]
  },
  {
   "cell_type": "code",
   "execution_count": 17,
   "metadata": {},
   "outputs": [
    {
     "data": {
      "text/html": [
       "<div>\n",
       "<style scoped>\n",
       "    .dataframe tbody tr th:only-of-type {\n",
       "        vertical-align: middle;\n",
       "    }\n",
       "\n",
       "    .dataframe tbody tr th {\n",
       "        vertical-align: top;\n",
       "    }\n",
       "\n",
       "    .dataframe thead th {\n",
       "        text-align: right;\n",
       "    }\n",
       "</style>\n",
       "<table border=\"1\" class=\"dataframe\">\n",
       "  <thead>\n",
       "    <tr style=\"text-align: right;\">\n",
       "      <th></th>\n",
       "      <th>SignName</th>\n",
       "      <th>Occurance</th>\n",
       "    </tr>\n",
       "  </thead>\n",
       "  <tbody>\n",
       "    <tr>\n",
       "      <th>39</th>\n",
       "      <td>Keep left</td>\n",
       "      <td>300</td>\n",
       "    </tr>\n",
       "    <tr>\n",
       "      <th>29</th>\n",
       "      <td>Bicycles crossing</td>\n",
       "      <td>270</td>\n",
       "    </tr>\n",
       "    <tr>\n",
       "      <th>24</th>\n",
       "      <td>Road narrows on the right</td>\n",
       "      <td>270</td>\n",
       "    </tr>\n",
       "    <tr>\n",
       "      <th>41</th>\n",
       "      <td>End of no passing</td>\n",
       "      <td>240</td>\n",
       "    </tr>\n",
       "    <tr>\n",
       "      <th>42</th>\n",
       "      <td>End of no passing by vehicles over 3.5 metric ...</td>\n",
       "      <td>240</td>\n",
       "    </tr>\n",
       "    <tr>\n",
       "      <th>32</th>\n",
       "      <td>End of all speed and passing limits</td>\n",
       "      <td>240</td>\n",
       "    </tr>\n",
       "    <tr>\n",
       "      <th>27</th>\n",
       "      <td>Pedestrians</td>\n",
       "      <td>240</td>\n",
       "    </tr>\n",
       "    <tr>\n",
       "      <th>37</th>\n",
       "      <td>Go straight or left</td>\n",
       "      <td>210</td>\n",
       "    </tr>\n",
       "    <tr>\n",
       "      <th>19</th>\n",
       "      <td>Dangerous curve to the left</td>\n",
       "      <td>210</td>\n",
       "    </tr>\n",
       "    <tr>\n",
       "      <th>0</th>\n",
       "      <td>Speed limit (20km/h)</td>\n",
       "      <td>210</td>\n",
       "    </tr>\n",
       "  </tbody>\n",
       "</table>\n",
       "</div>"
      ],
      "text/plain": [
       "                                             SignName  Occurance\n",
       "39                                          Keep left        300\n",
       "29                                  Bicycles crossing        270\n",
       "24                          Road narrows on the right        270\n",
       "41                                  End of no passing        240\n",
       "42  End of no passing by vehicles over 3.5 metric ...        240\n",
       "32                End of all speed and passing limits        240\n",
       "27                                        Pedestrians        240\n",
       "37                                Go straight or left        210\n",
       "19                        Dangerous curve to the left        210\n",
       "0                                Speed limit (20km/h)        210"
      ]
     },
     "execution_count": 17,
     "metadata": {},
     "output_type": "execute_result"
    }
   ],
   "source": [
    "data_pd_sorted.tail(10)"
   ]
  },
  {
   "cell_type": "code",
   "execution_count": 18,
   "metadata": {},
   "outputs": [
    {
     "data": {
      "text/plain": [
       "<Container object of 43 artists>"
      ]
     },
     "execution_count": 18,
     "metadata": {},
     "output_type": "execute_result"
    },
    {
     "data": {
      "image/png": "[encoded data removed]",
      "text/plain": [
       "<matplotlib.figure.Figure at 0xf288ae65f8>"
      ]
     },
     "metadata": {},
     "output_type": "display_data"
    }
   ],
   "source": [
    "plt.figure(figsize=(12,8))\n",
    "plt.bar(range(43),height=data_pd_sorted[\"Occurance\"])"
   ]
  },
  {
   "cell_type": "markdown",
   "metadata": {},
   "source": [
    "# Design and Test a Model Architecture"
   ]
  },
  {
   "cell_type": "markdown",
   "metadata": {},
   "source": [
    "## Preprocessing"
   ]
  },
  {
   "cell_type": "markdown",
   "metadata": {},
   "source": [
    "### histogram equalization: \n",
    "* reason: The contrast of brightness will be enhanced. Therefore the features will stand out."
   ]
  },
  {
   "cell_type": "code",
   "execution_count": 19,
   "metadata": {},
   "outputs": [],
   "source": [
    "img_size = 30"
   ]
  },
  {
   "cell_type": "code",
   "execution_count": 20,
   "metadata": {},
   "outputs": [
    {
     "data": {
      "image/png": "[encoded data removed]",
      "text/plain": [
       "<matplotlib.figure.Figure at 0xf285c9be80>"
      ]
     },
     "metadata": {},
     "output_type": "display_data"
    },
    {
     "name": "stdout",
     "output_type": "stream",
     "text": [
      "Final image size is (24, 24, 3)\n"
     ]
    }
   ],
   "source": [
    "#Some useful image functions\n",
    "  \n",
    "def show3img(img, img1, img2):\n",
    "    plt.figure(figsize=(6, 2))\n",
    "    plt.subplot(1, 3, 1)\n",
    "    plt.imshow(img)\n",
    "    plt.title(\"Raw image\")\n",
    "    plt.subplot(1, 3, 2)\n",
    "    plt.imshow(img1)\n",
    "    plt.title(\"Processed image\")\n",
    "    plt.subplot(1, 3, 3)\n",
    "    plt.imshow(img2)\n",
    "    plt.title(\"Augmented image\")\n",
    "    plt.show()\n",
    "    \n",
    "def eq_Hist(img):\n",
    "    #Histogram Equalization\n",
    "    img2=img.copy() \n",
    "    img2[:, :, 0] = cv2.equalizeHist(img[:, :, 0])\n",
    "    img2[:, :, 1] = cv2.equalizeHist(img[:, :, 1])\n",
    "    img2[:, :, 2] = cv2.equalizeHist(img[:, :, 2])\n",
    "    return img2\n",
    "\n",
    "def scale_img(img):\n",
    "    img2=img.copy()\n",
    "    sc_y=0.4*np.random.rand()+1.0\n",
    "    img2=cv2.resize(img, None, fx=1, fy=sc_y, interpolation = cv2.INTER_CUBIC)\n",
    "    c_x,c_y, sh = int(img2.shape[0]/2), int(img2.shape[1]/2), int(img_size/2)\n",
    "    return img2\n",
    "\n",
    "def crop(img, mar=0):\n",
    "    c_x,c_y, sh = int(img.shape[0]/2), int(img.shape[1]/2), int(img_size/2-mar)\n",
    "    return img[(c_x-sh):(c_x+sh),(c_y-sh):(c_y+sh)]\n",
    "\n",
    "def rotate_img(img):\n",
    "    c_x,c_y = int(img.shape[0]/2), int(img.shape[1]/2)\n",
    "    ang = 30.0*np.random.rand()-15\n",
    "    Mat = cv2.getRotationMatrix2D((c_x, c_y), ang, 1.0)\n",
    "    return cv2.warpAffine(img, Mat, img.shape[:2])\n",
    "\n",
    "def sharpen_img(img):\n",
    "    gb = cv2.GaussianBlur(img, (5,5), 20.0)\n",
    "    return cv2.addWeighted(img, 2, gb, -1, 0)\n",
    "#Compute linear image transformation ing*s+m\n",
    "def lin_img(img,s=1.0,m=0.0):\n",
    "    img2=cv2.multiply(img, np.array([s]))\n",
    "    return cv2.add(img2, np.array([m]))\n",
    "\n",
    "#Change image contrast; s>1 - increase\n",
    "def contr_img(img, s=1.0):\n",
    "    m=127.0*(1.0-s)\n",
    "    return lin_img(img, s, m)\n",
    "\n",
    "def transform_img(img):\n",
    "    img2=sharpen_img(img)\n",
    "    img2=crop(img2,3)\n",
    "    img2=contr_img(img2, 1.5)\n",
    "    return eq_Hist(img2)\n",
    "\n",
    "def augment_img(img):\n",
    "    img=contr_img(img, 1.8*np.random.rand()+0.2)\n",
    "    img=rotate_img(img)\n",
    "    img=scale_img(img)\n",
    "    return transform_img(img)\n",
    "\n",
    "x_selected = X_train[y_train == 1]\n",
    "im=x_selected[60, :, :, :]\n",
    "imp=contr_img(im, 0.5)\n",
    "\n",
    "show3img(im, transform_img(im), augment_img(im))\n",
    "print(\"Final image size is\", transform_img(im).shape)"
   ]
  },
  {
   "cell_type": "markdown",
   "metadata": {},
   "source": [
    "### normalization: \n",
    "* reason: improve learninig speed\n",
    "* method: scaled images between -.5 and .5, by dividing by 255. and subtracting .5."
   ]
  },
  {
   "cell_type": "code",
   "execution_count": 21,
   "metadata": {},
   "outputs": [],
   "source": [
    "X_train_norm = X_train/255.\n",
    "X_test_norm = X_test/255.\n",
    "X_valid_norm = X_valid/255."
   ]
  },
  {
   "cell_type": "code",
   "execution_count": 22,
   "metadata": {},
   "outputs": [],
   "source": [
    "labels_train = OHE_labels(y_train,43)\n",
    "labels_test = OHE_labels(y_test,43)\n",
    "labels_valid = OHE_labels(y_valid,43)"
   ]
  },
  {
   "cell_type": "code",
   "execution_count": 25,
   "metadata": {},
   "outputs": [
    {
     "data": {
      "text/plain": [
       "(39209, 32, 32, 3)"
      ]
     },
     "execution_count": 25,
     "metadata": {},
     "output_type": "execute_result"
    }
   ],
   "source": [
    "X_train_norm.shape"
   ]
  },
  {
   "cell_type": "code",
   "execution_count": 26,
   "metadata": {},
   "outputs": [
    {
     "data": {
      "text/plain": [
       "(39209, 43)"
      ]
     },
     "execution_count": 26,
     "metadata": {},
     "output_type": "execute_result"
    }
   ],
   "source": [
    "labels_train.shape"
   ]
  },
  {
   "cell_type": "markdown",
   "metadata": {},
   "source": [
    "### data augmentation: \n",
    "\n",
    "* Because of limited data and the class imbalance, additional data was generated by affine transformation including \n",
    "    1. **rotation** with random number generated between +/- 40 degress\n",
    "    2. **translation** by +/- 10 pixels along vertical and horizontal direction\n",
    "    3. **shearing**"
   ]
  },
  {
   "cell_type": "code",
   "execution_count": 78,
   "metadata": {},
   "outputs": [],
   "source": [
    "Image_train_GS_rot, y_train_rot, labels_train_rot = gen_transformed_data(X_train, y_train, 43, 10, 30, 5, 5, 1)"
   ]
  },
  {
   "cell_type": "markdown",
   "metadata": {},
   "source": [
    "## Model"
   ]
  },
  {
   "cell_type": "markdown",
   "metadata": {},
   "source": [
    "### Shuffling and partition"
   ]
  },
  {
   "cell_type": "code",
   "execution_count": 42,
   "metadata": {},
   "outputs": [],
   "source": [
    "def random_mini_batches(X, Y, mini_batch_size = 64, seed = 0):\n",
    "    \"\"\"\n",
    "    Creates a list of random minibatches from (X, Y)\n",
    "    \n",
    "    Arguments:\n",
    "    X -- input data, of shape (input size, number of examples)\n",
    "    Y -- true \"label\" vector (1 for blue dot / 0 for red dot), of shape (1, number of examples)\n",
    "    mini_batch_size -- size of the mini-batches, integer\n",
    "    \n",
    "    Returns:\n",
    "    mini_batches -- list of synchronous (mini_batch_X, mini_batch_Y)\n",
    "    \"\"\"\n",
    "    # batch_shuffle = tf.train.shuffle_batch([data_input], enqueue_many=True, batch_size=10, capacity=100, min_after_dequeue=10, allow_smaller_final_batch=True)\n",
    "    \n",
    "    np.random.seed(seed)\n",
    "    m = X.shape[0]                  # number of training examples\n",
    "    mini_batches = []\n",
    "    \n",
    "    # Step 1: Shuffle (X, Y)\n",
    "    permutation = list(np.random.permutation(m))\n",
    "    shuffled_X = X[permutation]\n",
    "    shuffled_Y = Y[permutation]\n",
    "\n",
    "    # Step 2: Partition (shuffled_X, shuffled_Y). Minus the end case.\n",
    "    num_complete_minibatches = math.ceil(m/mini_batch_size) # number of mini batches of size mini_batch_size in your partitionning\n",
    "    for k in range(0, num_complete_minibatches):\n",
    "        mini_batch_X = shuffled_X[k * mini_batch_size:(k + 1) * mini_batch_size]\n",
    "        mini_batch_Y = shuffled_Y[k * mini_batch_size:(k + 1) * mini_batch_size]\n",
    "        mini_batch = [mini_batch_X, mini_batch_Y]\n",
    "        mini_batches.append(mini_batch)\n",
    "    \n",
    "    return mini_batches"
   ]
  },
  {
   "cell_type": "code",
   "execution_count": 43,
   "metadata": {},
   "outputs": [
    {
     "name": "stdout",
     "output_type": "stream",
     "text": [
      "shape of the 1st mini_batch_X: (64, 32, 32, 3)\n",
      "shape of the 2nd mini_batch_X: (64, 32, 32, 3)\n",
      "shape of the 1st mini_batch_Y: (64, 43)\n",
      "shape of the 2nd mini_batch_Y: (64, 43)\n"
     ]
    }
   ],
   "source": [
    "mini_batch_size = 64\n",
    "mini_batches = random_mini_batches(X_train_norm, labels_train, mini_batch_size)\n",
    "print(\"shape of the 1st mini_batch_X: \" + str(mini_batches[0][0].shape))\n",
    "print(\"shape of the 2nd mini_batch_X: \" + str(mini_batches[1][0].shape))\n",
    "print(\"shape of the 1st mini_batch_Y: \" + str(mini_batches[0][1].shape))\n",
    "print(\"shape of the 2nd mini_batch_Y: \" + str(mini_batches[1][1].shape)) "
   ]
  },
  {
   "cell_type": "markdown",
   "metadata": {},
   "source": [
    "## Model Architechture"
   ]
  },
  {
   "cell_type": "markdown",
   "metadata": {},
   "source": [
    "### Create placeholders"
   ]
  },
  {
   "cell_type": "code",
   "execution_count": 44,
   "metadata": {},
   "outputs": [],
   "source": [
    "def create_placeholders(n_H0, n_W0, n_C0, n_y):\n",
    "    \"\"\"\n",
    "    Creates the placeholders for the tensorflow session.\n",
    "    \n",
    "    Arguments:\n",
    "    n_H0 -- scalar, height of an input image\n",
    "    n_W0 -- scalar, width of an input image\n",
    "    n_C0 -- scalar, number of channels of the input\n",
    "    n_y -- scalar, number of classes\n",
    "        \n",
    "    Returns:\n",
    "    X -- placeholder for the data input, of shape [None, n_H0, n_W0, n_C0] and dtype \"float\"\n",
    "    Y -- placeholder for the input labels, of shape [None, n_y] and dtype \"float\"\n",
    "    \"\"\"\n",
    "    X = tf.placeholder(tf.float32, shape=[None, n_H0, n_W0, n_C0])\n",
    "    Y = tf.placeholder(tf.float32, shape=[None, n_y])\n",
    "    return X, Y"
   ]
  },
  {
   "cell_type": "markdown",
   "metadata": {},
   "source": [
    "### Initialize parameters"
   ]
  },
  {
   "cell_type": "code",
   "execution_count": 45,
   "metadata": {},
   "outputs": [],
   "source": [
    "def initialize_parameters():\n",
    "    \"\"\"\n",
    "    Initializes weight parameters to build a neural network with tensorflow.\n",
    "    \n",
    "    Returns:\n",
    "    parameters -- a dictionary of tensors containing W1, W2\n",
    "    \"\"\"\n",
    "    layer_depth = {\n",
    "        'conv1': 6,\n",
    "        'conv2': 16,\n",
    "        'fc1': 120,\n",
    "        'fc2': 84,\n",
    "        'fc3': n_classes\n",
    "    }\n",
    "\n",
    "    filter_size={\n",
    "        'conv_1': 5\n",
    "        ,'conv_2': 5\n",
    "    }\n",
    "    \n",
    "    tf.set_random_seed(1)                             \n",
    "\n",
    "    weights = {\n",
    "        'conv1': tf.get_variable(\"conv1w\", shape=[filter_size['conv_1'], filter_size['conv_1'], 3, layer_depth['conv1']], initializer=tf.contrib.layers.xavier_initializer(seed = 0)),\n",
    "        'conv2': tf.get_variable(\"conv2w\", shape=[filter_size['conv_2'], filter_size['conv_2'], layer_depth['conv1'], layer_depth['conv2']], initializer=tf.contrib.layers.xavier_initializer(seed = 0)),\n",
    "        'fc1':  tf.get_variable(\"fc1w\", shape=[1024, layer_depth['fc1']], initializer=tf.contrib.layers.xavier_initializer(seed = 0)),\n",
    "        'fc2':  tf.get_variable(\"fc2w\", shape=[layer_depth['fc1'], layer_depth['fc2']], initializer=tf.contrib.layers.xavier_initializer(seed = 0)),\n",
    "        'fc3':  tf.get_variable(\"fc3w\", shape=[layer_depth['fc2'], layer_depth['fc3']], initializer=tf.contrib.layers.xavier_initializer(seed = 0))\n",
    "    }\n",
    "\n",
    "    biases = {\n",
    "        'conv1': tf.get_variable(\"conv1b\", shape=[layer_depth['conv1']], initializer=tf.contrib.layers.xavier_initializer(seed = 0)),\n",
    "        'conv2': tf.get_variable(\"conv2b\", shape=[layer_depth['conv2']], initializer=tf.contrib.layers.xavier_initializer(seed = 0)),\n",
    "        'fc1': tf.get_variable(\"fc1b\", shape=[layer_depth['fc1']], initializer=tf.contrib.layers.xavier_initializer(seed = 0)),\n",
    "        'fc2': tf.get_variable(\"fc2b\", shape=[layer_depth['fc2']], initializer=tf.contrib.layers.xavier_initializer(seed = 0)),\n",
    "        'fc3': tf.get_variable(\"fc3b\", shape=[layer_depth['fc3']], initializer=tf.contrib.layers.xavier_initializer(seed = 0))\n",
    "    }\n",
    "    \n",
    "    \n",
    "    parameters = {\"weights\": weights,\n",
    "                  \"biases\": biases}\n",
    "    \n",
    "    return parameters"
   ]
  },
  {
   "cell_type": "markdown",
   "metadata": {},
   "source": [
    "### Forward propagation"
   ]
  },
  {
   "cell_type": "markdown",
   "metadata": {},
   "source": [
    "In **TensorFlow**, there are built-in functions that carry out the convolution steps.\n",
    "\n",
    "`tf.nn.conv2d(X,W1, strides = [1,s,s,1], padding = 'SAME')`: given an input $X$ and a group of filters $W1$, this function convolves $W1$'s filters on X. The third input ([1,f,f,1]) represents the strides for each dimension of the input (m, n_H_prev, n_W_prev, n_C_prev).\n",
    "\n",
    "`tf.nn.max_pool(A, ksize = [1,f,f,1], strides = [1,s,s,1], padding = 'SAME')`: given an input A, this function uses a window of size (f, f) and strides of size (s, s) to carry out max pooling over each window.\n",
    "\n",
    "`tf.nn.relu(Z1)`: computes the elementwise ReLU of Z1 (which can be any shape).\n",
    "\n",
    "`tf.contrib.layers.flatten(P)`: given an input P, this function flattens each example into a 1D vector it while maintaining the batch-size. It returns a flattened tensor with shape [batch_size, k].\n",
    "\n",
    "`tf.contrib.layers.fully_connected(F, num_outputs)`: given a the flattened input F, it returns the output computed using a fully connected layer."
   ]
  },
  {
   "cell_type": "code",
   "execution_count": 46,
   "metadata": {},
   "outputs": [],
   "source": [
    "def forward_propagation(X, parameters):\n",
    "    \"\"\"\n",
    "    Implements the forward propagation for the model:\n",
    "    CONV2D -> RELU -> MAXPOOL -> CONV2D -> RELU -> MAXPOOL -> FLATTEN -> FULLYCONNECTED\n",
    "    \n",
    "    Arguments:\n",
    "    X -- input dataset placeholder, of shape (input size, number of examples)\n",
    "    parameters -- python dictionary containing your parameters \"W1\", \"W2\"\n",
    "                  the shapes are given in initialize_parameters\n",
    "\n",
    "    Returns:\n",
    "    Z3 -- the output of the last LINEAR unit\n",
    "    \"\"\"\n",
    "    \n",
    "    # Retrieve the parameters from the dictionary \"parameters\" \n",
    "    weights = parameters['weights']\n",
    "    biases = parameters['biases']\n",
    "\n",
    "    stride = {\n",
    "        'conv_1': 1\n",
    "        ,'conv_2': 1\n",
    "        ,'maxpool_1': 2\n",
    "        ,'maxpool_2': 2\n",
    "    }\n",
    "    \n",
    "    kernel_size={\n",
    "        'maxpool_1': 2\n",
    "        ,'maxpool_2': 2\n",
    "    }\n",
    "    \n",
    "    # CONV2D: stride of 1, padding 'SAME'\n",
    "    # tf.nn.conv2d(input, filter, strides, padding, use_cudnn_on_gpu=None, name=None)\n",
    "    Z1 = tf.nn.conv2d(X,weights[\"conv1\"], strides = [1,stride[\"conv_1\"],stride[\"conv_1\"],1], padding = 'SAME', name=\"Conv_1\")\n",
    "    # RELU\n",
    "    A1 = tf.nn.relu(Z1, name=\"Relu_1\")\n",
    "    # MAXPOOL: window 8x8, sride 8, padding 'SAME'\n",
    "    P1 = tf.nn.max_pool(A1, ksize = [1,kernel_size[\"maxpool_1\"],kernel_size[\"maxpool_1\"],1], strides = [1,stride[\"maxpool_1\"],stride[\"maxpool_1\"],1], padding = 'SAME', name=\"Maxpool_1\")\n",
    "    # CONV2D: filters W2, stride 1, padding 'SAME'\n",
    "    Z2 = tf.nn.conv2d(P1,weights[\"conv2\"], strides = [1,stride[\"conv_2\"],stride[\"conv_2\"],1], padding = 'SAME', name=\"Conv_2\")\n",
    "    # RELU\n",
    "    A2 = tf.nn.relu(Z2, name=\"Relu_2\")\n",
    "    # MAXPOOL: window 4x4, stride 4, padding 'SAME'\n",
    "    P2 = tf.nn.max_pool(A2, ksize = [1,kernel_size[\"maxpool_2\"],kernel_size[\"maxpool_2\"],1], strides= [1,stride[\"maxpool_2\"],stride[\"maxpool_2\"],1], padding = 'SAME', name=\"Maxpool_2\")\n",
    "    # FLATTEN\n",
    "    FLAT_2 = tf.contrib.layers.flatten(P2)\n",
    "    # FULLY-CONNECTED without non-linear activation function (not not call softmax).\n",
    "    # 43 neurons in output layer. Hint: one of the arguments should be \"activation_fn=None\" \n",
    "    print (FLAT_2)\n",
    "    FC3 = tf.nn.xw_plus_b(FLAT_2, weights['fc1'], biases['fc1'])\n",
    "    Z3 = tf.nn.relu(FC3)\n",
    "    # FULLY-CONNECTED\n",
    "    FC4 = tf.nn.xw_plus_b(FC3, weights['fc2'], biases['fc2'])\n",
    "    Z4 = tf.nn.relu(FC4)\n",
    "    # FULLY-CONNECTED\n",
    "    FC5 = tf.nn.xw_plus_b(FC4, weights['fc3'], biases['fc3'])\n",
    "    \n",
    "    print (A1)\n",
    "    print (P1)\n",
    "    print (A2)\n",
    "    print (P2)\n",
    "    print (FLAT_2)\n",
    "    print (Z3)\n",
    "    print (Z4)\n",
    "    print (FC5)\n",
    "    \n",
    "#     Z3 = tf.contrib.layers.fully_connected(P2, 43, activation_fn=None)\n",
    "\n",
    "    return FC5"
   ]
  },
  {
   "cell_type": "code",
   "execution_count": 47,
   "metadata": {},
   "outputs": [
    {
     "name": "stdout",
     "output_type": "stream",
     "text": [
      "Tensor(\"Flatten/flatten/Reshape:0\", shape=(?, 1024), dtype=float32)\n",
      "Tensor(\"Relu_1:0\", shape=(?, 32, 32, 6), dtype=float32)\n",
      "Tensor(\"Maxpool_1:0\", shape=(?, 16, 16, 6), dtype=float32)\n",
      "Tensor(\"Relu_2:0\", shape=(?, 16, 16, 16), dtype=float32)\n",
      "Tensor(\"Maxpool_2:0\", shape=(?, 8, 8, 16), dtype=float32)\n",
      "Tensor(\"Flatten/flatten/Reshape:0\", shape=(?, 1024), dtype=float32)\n",
      "Tensor(\"Relu:0\", shape=(?, 120), dtype=float32)\n",
      "Tensor(\"Relu_3:0\", shape=(?, 84), dtype=float32)\n",
      "Tensor(\"xw_plus_b_2:0\", shape=(?, 43), dtype=float32)\n",
      "43\n"
     ]
    }
   ],
   "source": [
    "tf.reset_default_graph()\n",
    "\n",
    "with tf.Session() as sess:\n",
    "    X, Y = create_placeholders(32, 32, 3, 4)\n",
    "    parameters = initialize_parameters()\n",
    "    Z3 = forward_propagation(X, parameters)\n",
    "    init = tf.global_variables_initializer()\n",
    "    sess.run(init)\n",
    "    a = sess.run(Z3, {X: np.random.randn(2,32,32,3), Y: np.random.randn(2,4)})\n",
    "    print (Z3.get_shape()[1])\n",
    "#     print(\"Z3 = \" + str(a))"
   ]
  },
  {
   "cell_type": "markdown",
   "metadata": {},
   "source": [
    "## Compute cost"
   ]
  },
  {
   "cell_type": "code",
   "execution_count": 51,
   "metadata": {},
   "outputs": [],
   "source": [
    "def compute_cost(Z3, Y):\n",
    "    \"\"\"\n",
    "    Computes the cost\n",
    "    \n",
    "    Arguments:\n",
    "    Z3 -- output of forward propagation (output of the last LINEAR unit), of shape (number of examples)\n",
    "    Y -- \"true\" labels vector placeholder, same shape as Z3\n",
    "    \n",
    "    Returns:\n",
    "    cost - Tensor of the cost function\n",
    "    \"\"\"\n",
    "    \n",
    "    cost = tf.nn.softmax_cross_entropy_with_logits(logits = Z3, labels = Y)\n",
    "    cost = tf.reduce_mean(cost)\n",
    "    \n",
    "    return cost"
   ]
  },
  {
   "cell_type": "code",
   "execution_count": 72,
   "metadata": {},
   "outputs": [],
   "source": [
    "def evaluate_with_batch(X_data, y_data, batch_size=64):\n",
    "    \"\"\"\n",
    "    Creates a list of minibatches from (X, Y) for evaluation\n",
    "    \n",
    "    Arguments:\n",
    "    X -- input data, of shape (input size, number of examples)\n",
    "    Y -- true \"label\" vector (1 for blue dot / 0 for red dot), of shape (1, number of examples)\n",
    "    batch_size -- size of the mini-batches, integer\n",
    "    \n",
    "    Returns:\n",
    "    accuracy -- accuracy of model\n",
    "    \"\"\"\n",
    "    mini_batches = []\n",
    "    m = len(X_data)\n",
    "    num_complete_minibatches = math.ceil(m/batch_size)\n",
    "    for k in range(0, num_complete_minibatches):\n",
    "        mini_batch_X, mini_batch_Y = X_data[k * batch_size:(k + 1) * batch_size], y_data[k * batch_size:(k + 1) * batch_size]\n",
    "        mini_batch = [mini_batch_X, mini_batch_Y]\n",
    "        mini_batches.append(mini_batch)\n",
    "    return mini_batches    "
   ]
  },
  {
   "cell_type": "code",
   "execution_count": 48,
   "metadata": {},
   "outputs": [],
   "source": [
    "from tensorflow.python.framework import ops"
   ]
  },
  {
   "cell_type": "code",
   "execution_count": 99,
   "metadata": {},
   "outputs": [],
   "source": [
    "def model(X_train, Y_train, X_test, Y_test, learning_rate = 0.001,\n",
    "          num_epochs = 1, minibatch_size = 64, print_cost = True):\n",
    "    \"\"\"\n",
    "    Implements a three-layer ConvNet in Tensorflow:\n",
    "    CONV2D -> RELU -> MAXPOOL -> CONV2D -> RELU -> MAXPOOL -> FLATTEN -> FULLYCONNECTED\n",
    "    \n",
    "    Arguments:\n",
    "    X_train -- training set, of shape (None, 64, 64, 3)\n",
    "    Y_train -- test set, of shape (None, n_y = 6)\n",
    "    X_test -- training set, of shape (None, 64, 64, 3)\n",
    "    Y_test -- test set, of shape (None, n_y = 6)\n",
    "    learning_rate -- learning rate of the optimization\n",
    "    num_epochs -- number of epochs of the optimization loop\n",
    "    minibatch_size -- size of a minibatch\n",
    "    print_cost -- True to print the cost every 100 epochs\n",
    "    \n",
    "    Returns:\n",
    "    train_accuracy -- real number, accuracy on the train set (X_train)\n",
    "    test_accuracy -- real number, testing accuracy on the test set (X_test)\n",
    "    parameters -- parameters learnt by the model. They can then be used to predict.\n",
    "    \"\"\"\n",
    "    \n",
    "    ops.reset_default_graph()                         # to be able to rerun the model without overwriting tf variables\n",
    "    tf.set_random_seed(1)                             # to keep results consistent (tensorflow seed)\n",
    "    seed = 3                                          # to keep results consistent (numpy seed)\n",
    "    (m, n_H0, n_W0, n_C0) = X_train.shape             \n",
    "    n_y = Y_train.shape[1]                            \n",
    "    costs = []                                        # To keep track of the cost\n",
    "    training_accuracies = []\n",
    "    validation_accuracies = []\n",
    "    \n",
    "    \n",
    "    # Create Placeholders of the correct shape\n",
    "    X, Y = create_placeholders(n_H0, n_W0, n_C0, n_y)\n",
    "\n",
    "    # Initialize parameters\n",
    "    parameters = initialize_parameters()\n",
    "    \n",
    "    # Forward propagation: Build the forward propagation in the tensorflow graph\n",
    "    Z5 = forward_propagation(X, parameters)\n",
    "    \n",
    "    # Cost function: Add cost function to tensorflow graph\n",
    "    cost = compute_cost(Z5, Y)\n",
    "\n",
    "    # Calculate the correct predictions\n",
    "    correct_prediction = tf.equal(tf.argmax(Z5, 1), tf.argmax(Y, 1))\n",
    "    accuracy = tf.reduce_mean(tf.cast(correct_prediction, tf.float32))\n",
    "    \n",
    "    \n",
    "    # Backpropagation: Define the tensorflow optimizer. Use an AdamOptimizer that minimizes the cost.\n",
    "    optimizer = tf.train.AdamOptimizer(learning_rate=learning_rate).minimize(cost)\n",
    "    \n",
    "    # Initialize all the variables globally\n",
    "    init = tf.global_variables_initializer()\n",
    "    \n",
    "    saver = tf.train.Saver()\n",
    "    \n",
    "    # Start the session to compute the tensorflow graph\n",
    "    with tf.Session() as sess:\n",
    "        \n",
    "        # Run the initialization\n",
    "        sess.run(init)\n",
    "        num_minibatches = int(m / minibatch_size) # number of minibatches of size minibatch_size in the train set\n",
    "        \n",
    "        # Do the training loop\n",
    "        for epoch in range(num_epochs):\n",
    "\n",
    "            minibatch_cost = 0.\n",
    "            seed = seed + 1\n",
    "            minibatches = random_mini_batches(X_train, Y_train, minibatch_size, seed)\n",
    "            print (\"epoch: \"+str(epoch))\n",
    "            \n",
    "            for i,(minibatch_X, minibatch_Y) in enumerate(minibatches,1):\n",
    "#                 print (\"batch: \"+str(i)+\"/\"+str(len(minibatches)))\n",
    "                # IMPORTANT: The line that runs the graph on a minibatch.\n",
    "                # Run the session to execute the optimizer and the cost, the feedict should contain a minibatch for (X,Y).\n",
    "                _ , temp_cost = sess.run([optimizer, cost], feed_dict={X: minibatch_X, Y: minibatch_Y})\n",
    "                \n",
    "                minibatch_cost += temp_cost / num_minibatches\n",
    "                \n",
    "\n",
    "            # Print the cost every epoch\n",
    "            if print_cost == True and epoch % 5 == 0:\n",
    "                print (\"Cost after epoch %i: %f\" % (epoch, minibatch_cost))\n",
    "            if print_cost == True and epoch % 1 == 0:\n",
    "                costs.append(minibatch_cost)\n",
    "                \n",
    "            # Do the evaluation loop\n",
    "            print (\"evaluation start\")\n",
    "            minibatch_test = evaluate_with_batch(X_test, Y_test)\n",
    "            minibatch_train = evaluate_with_batch(X_train, Y_train)\n",
    "\n",
    "            train_accuracy = 0.0\n",
    "            test_accuracy = 0.0\n",
    "\n",
    "            for i,(minibatch_X, minibatch_Y) in enumerate(minibatch_train, 1):\n",
    "    #             print (\"batch: \"+str(i)+\"/\"+str(len(minibatch_train)))\n",
    "                train_accuracy += accuracy.eval({X: minibatch_X, Y: minibatch_Y})\n",
    "\n",
    "            for i,(minibatch_X, minibatch_Y) in enumerate(minibatch_test, 1):\n",
    "    #             print (\"batch: \"+str(i)+\"/\"+str(len(minibatch_test)))\n",
    "                test_accuracy += accuracy.eval({X: minibatch_X, Y: minibatch_Y})\n",
    "            \n",
    "            training_accuracies.append(train_accuracy/len(X_train))\n",
    "            validation_accuracies.append(test_accuracy/len(X_test))\n",
    "            \n",
    "            print (\"evaluation ends\")\n",
    "            \n",
    "        print(\"Train Accuracy:\", training_accuracies)\n",
    "        print(\"Test Accuracy:\", validation_accuracies)    \n",
    "\n",
    "        # plot the cost\n",
    "        plt.plot(np.squeeze(costs))\n",
    "        plt.ylabel('cost')\n",
    "        plt.xlabel('iterations (per tens)')\n",
    "        plt.title(\"Learning rate =\" + str(learning_rate))\n",
    "        plt.show()\n",
    "\n",
    "        save_path = saver.save(sess, os.path.join(\"model\", \"true_Lenet\",\"fake_Lenet.ckpt\"))\n",
    "        print(\"Model saved in path: %s\" % save_path)\n",
    "        \n",
    "        return training_accuracies, validation_accuracies"
   ]
  },
  {
   "cell_type": "code",
   "execution_count": 100,
   "metadata": {},
   "outputs": [
    {
     "name": "stdout",
     "output_type": "stream",
     "text": [
      "Tensor(\"Flatten/flatten/Reshape:0\", shape=(?, 1024), dtype=float32)\n",
      "Tensor(\"Relu_1:0\", shape=(?, 32, 32, 6), dtype=float32)\n",
      "Tensor(\"Maxpool_1:0\", shape=(?, 16, 16, 6), dtype=float32)\n",
      "Tensor(\"Relu_2:0\", shape=(?, 16, 16, 16), dtype=float32)\n",
      "Tensor(\"Maxpool_2:0\", shape=(?, 8, 8, 16), dtype=float32)\n",
      "Tensor(\"Flatten/flatten/Reshape:0\", shape=(?, 1024), dtype=float32)\n",
      "Tensor(\"Relu:0\", shape=(?, 120), dtype=float32)\n",
      "Tensor(\"Relu_3:0\", shape=(?, 84), dtype=float32)\n",
      "Tensor(\"xw_plus_b_2:0\", shape=(?, 43), dtype=float32)\n",
      "epoch: 0\n",
      "Cost after epoch 0: 0.859924\n",
      "evaluation start\n",
      "evaluation ends\n",
      "epoch: 1\n",
      "evaluation start\n",
      "evaluation ends\n",
      "epoch: 2\n",
      "evaluation start\n",
      "evaluation ends\n",
      "epoch: 3\n",
      "evaluation start\n",
      "evaluation ends\n",
      "epoch: 4\n",
      "evaluation start\n",
      "evaluation ends\n",
      "epoch: 5\n",
      "Cost after epoch 5: 0.038904\n",
      "evaluation start\n",
      "evaluation ends\n",
      "epoch: 6\n",
      "evaluation start\n",
      "evaluation ends\n",
      "epoch: 7\n",
      "evaluation start\n",
      "evaluation ends\n",
      "epoch: 8\n",
      "evaluation start\n",
      "evaluation ends\n",
      "epoch: 9\n",
      "evaluation start\n",
      "evaluation ends\n",
      "epoch: 10\n",
      "Cost after epoch 10: 0.033159\n",
      "evaluation start\n",
      "evaluation ends\n",
      "epoch: 11\n",
      "evaluation start\n",
      "evaluation ends\n",
      "epoch: 12\n",
      "evaluation start\n",
      "evaluation ends\n",
      "epoch: 13\n",
      "evaluation start\n",
      "evaluation ends\n",
      "epoch: 14\n",
      "evaluation start\n",
      "evaluation ends\n",
      "epoch: 15\n",
      "Cost after epoch 15: 0.014387\n",
      "evaluation start\n",
      "evaluation ends\n",
      "epoch: 16\n",
      "evaluation start\n",
      "evaluation ends\n",
      "epoch: 17\n",
      "evaluation start\n",
      "evaluation ends\n",
      "epoch: 18\n",
      "evaluation start\n",
      "evaluation ends\n",
      "epoch: 19\n",
      "evaluation start\n",
      "evaluation ends\n",
      "Train Accuracy: [0.014779147894089569, 0.015135236807875744, 0.015389881787344743, 0.015464402305593103, 0.015467191843709352, 0.015371152031421358, 0.015424853069403003, 0.01543810094621133, 0.015453642658573286, 0.015465996327373817, 0.015454439669463643, 0.015597901629727868, 0.015571600270346094, 0.015571600270346094, 0.015571600270346094, 0.015554464536203422, 0.015509034915453085, 0.015550479481751639, 0.015565224183223239, 0.015479147007064705]\n",
      "Test Accuracy: [0.013424622728711083, 0.013922853629334984, 0.014117967595859449, 0.01430086402936317, 0.013956207482993198, 0.013932383303739587, 0.014179299599459383, 0.01380715360717168, 0.014269587147533219, 0.014298053987983133, 0.013903061224489796, 0.01432468820861678, 0.014439288639968215, 0.01417612303681925, 0.014092310769757987, 0.013974045071742432, 0.014273252400681545, 0.014535318440050224, 0.014459081044813403, 0.014228536239286669]\n"
     ]
    },
    {
     "data": {
      "image/png": "[encoded data removed]",
      "text/plain": [
       "<matplotlib.figure.Figure at 0xf2f4710ac8>"
      ]
     },
     "metadata": {},
     "output_type": "display_data"
    },
    {
     "name": "stdout",
     "output_type": "stream",
     "text": [
      "Model saved in path: model\\true_Lenet\\fake_Lenet.ckpt\n"
     ]
    }
   ],
   "source": [
    "train_accuracy, test_accuracy = model(X_train_norm, labels_train, X_valid_norm, labels_valid, num_epochs = 20)"
   ]
  },
  {
   "cell_type": "code",
   "execution_count": 98,
   "metadata": {},
   "outputs": [
    {
     "name": "stdout",
     "output_type": "stream",
     "text": [
      "INFO:tensorflow:Restoring parameters from model\\true_Lenet\\fake_Lenet.ckpt\n"
     ]
    }
   ],
   "source": [
    "with tf.Session() as sess:\n",
    "    saver = tf.train.import_meta_graph(os.path.join(\"model\", \"true_Lenet\",\"fake_Lenet.ckpt.meta\"))\n",
    "    saver.restore(sess, os.path.join(\"model\", \"true_Lenet\",\"fake_Lenet.ckpt\"))"
   ]
  },
  {
   "cell_type": "code",
   "execution_count": null,
   "metadata": {},
   "outputs": [],
   "source": []
  },
  {
   "cell_type": "code",
   "execution_count": 93,
   "metadata": {},
   "outputs": [
    {
     "data": {
      "text/plain": [
       "579.47560977935791"
      ]
     },
     "execution_count": 93,
     "metadata": {},
     "output_type": "execute_result"
    }
   ],
   "source": [
    "def resume_model(X_train, Y_train, X_test, Y_test, learning_rate = 0.001,\n",
    "          num_epochs = 1, minibatch_size = 64, print_cost = True):\n",
    "    \"\"\"\n",
    "    Implements a three-layer ConvNet in Tensorflow:\n",
    "    CONV2D -> RELU -> MAXPOOL -> CONV2D -> RELU -> MAXPOOL -> FLATTEN -> FULLYCONNECTED\n",
    "    \n",
    "    Arguments:\n",
    "    X_train -- training set, of shape (None, 64, 64, 3)\n",
    "    Y_train -- test set, of shape (None, n_y = 6)\n",
    "    X_test -- training set, of shape (None, 64, 64, 3)\n",
    "    Y_test -- test set, of shape (None, n_y = 6)\n",
    "    learning_rate -- learning rate of the optimization\n",
    "    num_epochs -- number of epochs of the optimization loop\n",
    "    minibatch_size -- size of a minibatch\n",
    "    print_cost -- True to print the cost every 100 epochs\n",
    "    \n",
    "    Returns:\n",
    "    train_accuracy -- real number, accuracy on the train set (X_train)\n",
    "    test_accuracy -- real number, testing accuracy on the test set (X_test)\n",
    "    parameters -- parameters learnt by the model. They can then be used to predict.\n",
    "    \"\"\"\n",
    "    \n",
    "    ops.reset_default_graph()                         # to be able to rerun the model without overwriting tf variables\n",
    "    tf.set_random_seed(1)                             # to keep results consistent (tensorflow seed)\n",
    "    seed = 3                                          # to keep results consistent (numpy seed)\n",
    "    (m, n_H0, n_W0, n_C0) = X_train.shape             \n",
    "    n_y = Y_train.shape[1]                            \n",
    "    costs = []                                        # To keep track of the cost\n",
    "    training_accuracies = []\n",
    "    validation_accuracies = []\n",
    "    \n",
    "    \n",
    "    # Create Placeholders of the correct shape\n",
    "    X, Y = create_placeholders(n_H0, n_W0, n_C0, n_y)\n",
    "\n",
    "    # Initialize parameters\n",
    "    parameters = initialize_parameters()\n",
    "    \n",
    "    # Forward propagation: Build the forward propagation in the tensorflow graph\n",
    "    Z5 = forward_propagation(X, parameters)\n",
    "    \n",
    "    # Cost function: Add cost function to tensorflow graph\n",
    "    cost = compute_cost(Z5, Y)\n",
    "\n",
    "    # Calculate the correct predictions\n",
    "    correct_prediction = tf.equal(tf.argmax(Z5, 1), tf.argmax(Y, 1))\n",
    "    accuracy = tf.reduce_mean(tf.cast(correct_prediction, tf.float32))\n",
    "    \n",
    "    \n",
    "    # Backpropagation: Define the tensorflow optimizer. Use an AdamOptimizer that minimizes the cost.\n",
    "    optimizer = tf.train.AdamOptimizer(learning_rate=learning_rate).minimize(cost)\n",
    "    \n",
    "    # Initialize all the variables globally\n",
    "    init = tf.global_variables_initializer()\n",
    "    \n",
    "    saver = tf.train.Saver()\n",
    "    \n",
    "    # Start the session to compute the tensorflow graph\n",
    "    with tf.Session() as sess:\n",
    "        \n",
    "        # Run the initialization\n",
    "        sess.run(init)\n",
    "        num_minibatches = int(m / minibatch_size) # number of minibatches of size minibatch_size in the train set\n",
    "        \n",
    "        # Do the training loop\n",
    "        for epoch in range(num_epochs):\n",
    "\n",
    "            minibatch_cost = 0.\n",
    "            seed = seed + 1\n",
    "            minibatches = random_mini_batches(X_train, Y_train, minibatch_size, seed)\n",
    "            print (\"epoch: \"+str(epoch))\n",
    "            \n",
    "            for i,(minibatch_X, minibatch_Y) in enumerate(minibatches,1):\n",
    "                print (\"batch: \"+str(i)+\"/\"+str(len(minibatches)))\n",
    "                # IMPORTANT: The line that runs the graph on a minibatch.\n",
    "                # Run the session to execute the optimizer and the cost, the feedict should contain a minibatch for (X,Y).\n",
    "                _ , temp_cost = sess.run([optimizer, cost], feed_dict={X: minibatch_X, Y: minibatch_Y})\n",
    "                \n",
    "                minibatch_cost += temp_cost / num_minibatches\n",
    "                \n",
    "\n",
    "            # Print the cost every epoch\n",
    "            if print_cost == True and epoch % 5 == 0:\n",
    "                print (\"Cost after epoch %i: %f\" % (epoch, minibatch_cost))\n",
    "            if print_cost == True and epoch % 1 == 0:\n",
    "                costs.append(minibatch_cost)\n",
    "                \n",
    "\n",
    "\n",
    "            # Do the evaluation loop\n",
    "            print (\"evaluation start\")\n",
    "            minibatch_test = evaluate_with_batch(X_test, Y_test)\n",
    "            minibatch_train = evaluate_with_batch(X_train, Y_train)\n",
    "\n",
    "            train_accuracy = 0.0\n",
    "            test_accuracy = 0.0\n",
    "\n",
    "            for i,(minibatch_X, minibatch_Y) in enumerate(minibatch_train, 1):\n",
    "    #             print (\"batch: \"+str(i)+\"/\"+str(len(minibatch_train)))\n",
    "                train_accuracy += accuracy.eval({X: minibatch_X, Y: minibatch_Y})\n",
    "\n",
    "            for i,(minibatch_X, minibatch_Y) in enumerate(minibatch_test, 1):\n",
    "    #             print (\"batch: \"+str(i)+\"/\"+str(len(minibatch_test)))\n",
    "                test_accuracy += accuracy.eval({X: minibatch_X, Y: minibatch_Y})\n",
    "            \n",
    "            training_accuracies.append(train_accuracy/len(X_train))\n",
    "            validation_accuracies.append(test_accuracy/len(X_test))\n",
    "            \n",
    "            print (\"evaluation ends\")\n",
    "            \n",
    "        print(\"Train Accuracy:\", training_accuracies)\n",
    "        print(\"Test Accuracy:\", validation_accuracies)    \n",
    "\n",
    "        # plot the cost\n",
    "        plt.plot(np.squeeze(costs))\n",
    "        plt.ylabel('cost')\n",
    "        plt.xlabel('iterations (per tens)')\n",
    "        plt.title(\"Learning rate =\" + str(learning_rate))\n",
    "        plt.show()\n",
    "\n",
    "        saver.save(sess, os.path.join(\"model\", \"true_Lenet\",\"fake_Lenet.ckpt\"))\n",
    "        print(\"Model saved\")\n",
    "        \n",
    "        return training_accuracies, validation_accuracies"
   ]
  },
  {
   "cell_type": "code",
   "execution_count": null,
   "metadata": {},
   "outputs": [],
   "source": []
  },
  {
   "cell_type": "code",
   "execution_count": null,
   "metadata": {},
   "outputs": [],
   "source": []
  },
  {
   "cell_type": "code",
   "execution_count": null,
   "metadata": {},
   "outputs": [],
   "source": [
    "X_train_norm = X_train/255.\n",
    "X_test_norm = X_test/255.\n",
    "X_valid_norm = X_valid/255."
   ]
  },
  {
   "cell_type": "code",
   "execution_count": null,
   "metadata": {},
   "outputs": [],
   "source": [
    "labels_train = OHE_labels(y_train,43)\n",
    "labels_test = OHE_labels(y_test,43)\n",
    "labels_valid = OHE_labels(y_valid,43)"
   ]
  },
  {
   "cell_type": "code",
   "execution_count": null,
   "metadata": {},
   "outputs": [],
   "source": []
  },
  {
   "cell_type": "code",
   "execution_count": null,
   "metadata": {},
   "outputs": [],
   "source": [
    "def SignTraffic(x, keep_prob):\n",
    "    mu = 0\n",
    "    sigma = 0.1\n",
    "    #Layer1 32*32*1 --> 28*28*16 \n",
    "    conv1_W = tf.Variable(tf.truncated_normal(shape=(5,5,1,16), mean = mu, stddev = sigma), name = 'conv1_W')\n",
    "    conv1_b = tf.Variable(tf.constant(0.1, shape = [16]), name = 'conv1_b')\n",
    "    conv1 = tf.add(tf.nn.conv2d(x,conv1_W, strides = [1,1,1,1], padding = 'VALID') , conv1_b)\n",
    "    #Layer1 activation \n",
    "    conv1 = tf.nn.relu(conv1)\n",
    "    #Layer1 pooling 28*28*16 --> 14*14*16\n",
    "    conv1 = tf.nn.max_pool(conv1, ksize = [1,2,2,1], strides = [1,2,2,1], padding = 'VALID')\n",
    "    \n",
    "    #Layer2  14*14*16 --> 10*10*32\n",
    "    conv2_W = tf.Variable(tf.truncated_normal(shape=(5,5,16,32), mean = mu , stddev = sigma), name = 'conv2_W')\n",
    "    conv2_b = tf.Variable(tf.constant(0.1, shape = [32]), name = 'conv2_b')\n",
    "    conv2 = tf.add(tf.nn.conv2d(conv1, conv2_W, strides = [1,1,1,1], padding = 'VALID') , conv2_b)\n",
    "    #Layer2 activation\n",
    "    conv2 = tf.nn.relu(conv2)\n",
    "    #Later2 pooling 10*10*32 --> 5*5*32 \n",
    "    conv2 = tf.nn.max_pool(conv2, ksize = [1,2,2,1], strides = [1,2,2,1], padding = 'VALID')\n",
    "    \n",
    "    #Flatten 5*5*32 --> 800\n",
    "    fc0 = flatten(conv2)\n",
    "    \n",
    "    #Layer3  800--> 516\n",
    "    fc1_W = tf.Variable(tf.truncated_normal(shape = (800,516), mean = mu , stddev = sigma), name = 'fc1_W')\n",
    "    fc1_b = tf.Variable(tf.constant(0.1, shape = [516]), name = 'fc1_b')\n",
    "    fc1 = tf.add(tf.matmul(fc0, fc1_W) , fc1_b)\n",
    "    #Layer3 activation\n",
    "    fc1 = tf.nn.relu(fc1)\n",
    "    \n",
    "    #Dropout \n",
    "    fc1 = tf.nn.dropout(fc1,keep_prob)\n",
    "    \n",
    "    \n",
    "    #Layer4 516--> 360\n",
    "    fc2_W = tf.Variable(tf.truncated_normal(shape = (516,360), mean = mu , stddev = sigma), name = 'fc2_W')\n",
    "    fc2_b = tf.Variable(tf.constant(0.1, shape = [360]), name = 'fc2_b')\n",
    "    fc2 = tf.add(tf.matmul(fc1,fc2_W) , fc2_b)\n",
    "    #Layer4 activation\n",
    "    fc2 = tf.nn.relu(fc2)\n",
    "    \n",
    "    #Dropout \n",
    "    fc2 = tf.nn.dropout(fc2,keep_prob)\n",
    "    \n",
    "    #Layer5 360--> 43\n",
    "    fc3_W = tf.Variable(tf.truncated_normal(shape = (360,43), mean = mu, stddev = sigma), name = 'fc3_W')\n",
    "    fc3_b = tf.Variable(tf.constant(0.1, shape =[43]), name = 'fc3_b')\n",
    "    logits = tf.add(tf.matmul(fc2,fc3_W) , fc3_b)\n",
    "    \n",
    "    return logits"
   ]
  },
  {
   "cell_type": "code",
   "execution_count": null,
   "metadata": {},
   "outputs": [],
   "source": [
    "from tensorflow.python.framework import ops"
   ]
  },
  {
   "cell_type": "code",
   "execution_count": null,
   "metadata": {},
   "outputs": [],
   "source": [
    "ops.reset_default_graph()                         # to be able to rerun the model without overwriting tf variables"
   ]
  },
  {
   "cell_type": "code",
   "execution_count": null,
   "metadata": {},
   "outputs": [],
   "source": [
    "import prettytensor as pt"
   ]
  }
 ],
 "metadata": {
  "kernelspec": {
   "display_name": "Python 3",
   "language": "python",
   "name": "python3"
  },
  "language_info": {
   "codemirror_mode": {
    "name": "ipython",
    "version": 3
   },
   "file_extension": ".py",
   "mimetype": "text/x-python",
   "name": "python",
   "nbconvert_exporter": "python",
   "pygments_lexer": "ipython3",
   "version": "3.6.3"
  },
  "nav_menu": {},
  "toc": {
   "navigate_menu": true,
   "number_sections": true,
   "sideBar": true,
   "threshold": 6,
   "toc_cell": false,
   "toc_section_display": "block",
   "toc_window_display": false
  }
 },
 "nbformat": 4,
 "nbformat_minor": 2
}
