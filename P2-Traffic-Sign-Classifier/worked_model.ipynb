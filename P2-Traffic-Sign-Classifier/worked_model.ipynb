{
 "cells": [
  {
   "cell_type": "code",
   "execution_count": 1,
   "metadata": {},
   "outputs": [],
   "source": [
    "# Load pickled data\n",
    "import pickle\n",
    "#importing some useful packages\n",
    "import matplotlib\n",
    "import matplotlib.pyplot as plt\n",
    "import matplotlib.image as mpimg\n",
    "import numpy as np\n",
    "import cv2\n",
    "from tqdm import tqdm\n",
    "import tensorflow as tf\n",
    "from tensorflow.examples.tutorials.mnist import input_data\n",
    "from tensorflow.contrib.layers import flatten\n",
    "%matplotlib inline"
   ]
  },
  {
   "cell_type": "code",
   "execution_count": 2,
   "metadata": {},
   "outputs": [],
   "source": [
    "# TODO: fill this in based on where you saved the training and testing data\n",
    "training_file = 'datasets//train.p'\n",
    "testing_file = 'datasets//test.p'\n",
    "aug_training_file = 'datasets//aug_train.p'\n",
    "\n",
    "# with open(training_file, mode='rb') as f:\n",
    "#     train = pickle.load(f)\n",
    "with open(aug_training_file, mode='rb') as f:\n",
    "    train = pickle.load(f)\n",
    "with open(testing_file, mode='rb') as f:\n",
    "    test = pickle.load(f)\n",
    "\n",
    "valid=dict()"
   ]
  },
  {
   "cell_type": "code",
   "execution_count": 3,
   "metadata": {},
   "outputs": [
    {
     "name": "stdout",
     "output_type": "stream",
     "text": [
      "Number of training examples = 41469\n",
      "Number of testing examples = 12630\n",
      "Image data shape = (32, 32, 3)\n",
      "Labels data shape = (41469,)\n",
      "Number of classes = 43\n"
     ]
    }
   ],
   "source": [
    "### Replace each question mark with the appropriate value.\n",
    "\n",
    "# TODO: number of training examples\n",
    "n_train = len(train['features'])\n",
    "\n",
    "# TODO: number of testing examples\n",
    "n_test = len(test['features'])\n",
    "\n",
    "# TODO: what's the shape of an image?\n",
    "image_shape = train['features'][0].shape\n",
    "\n",
    "# TODO: how many classes are in the dataset\n",
    "n_classes = len(set(train['labels']))\n",
    "labels_shape = train['labels'].shape\n",
    "\n",
    "print(\"Number of training examples =\", n_train)\n",
    "print(\"Number of testing examples =\", n_test)\n",
    "print(\"Image data shape =\", image_shape)\n",
    "print(\"Labels data shape =\", labels_shape)\n",
    "print(\"Number of classes =\", n_classes)"
   ]
  },
  {
   "cell_type": "code",
   "execution_count": 4,
   "metadata": {},
   "outputs": [],
   "source": [
    "def normalize(image):\n",
    "    _min=image.min()\n",
    "    _max=image.max()\n",
    "    img = ((image-_min) /(_max-_min))\n",
    "    return img\n",
    "\n",
    "train['features'] = np.array([normalize(im) for im in train['features']])\n",
    "test['features'] = np.array([normalize(im) for im in test['features']])"
   ]
  },
  {
   "cell_type": "markdown",
   "metadata": {},
   "source": [
    "## save data for data augmentation"
   ]
  },
  {
   "cell_type": "code",
   "execution_count": 15,
   "metadata": {},
   "outputs": [],
   "source": [
    "aug_training_file = 'datasets//aug_train.p'\n",
    "    \n",
    "with open(aug_training_file, 'wb') as handle:\n",
    "    pickle.dump(train, handle, protocol=pickle.HIGHEST_PROTOCOL)"
   ]
  },
  {
   "cell_type": "markdown",
   "metadata": {},
   "source": [
    "---"
   ]
  },
  {
   "cell_type": "code",
   "execution_count": 5,
   "metadata": {},
   "outputs": [],
   "source": [
    "labels_one_hot=np.zeros([train['labels'].shape[0],n_classes])\n",
    "for i,l in enumerate(train['labels']):\n",
    "    labels_one_hot[i][l]=1\n",
    "train['labels']=labels_one_hot\n",
    "\n",
    "labels_one_hot=np.zeros([test['labels'].shape[0],n_classes])\n",
    "for i,l in enumerate(test['labels']):\n",
    "    labels_one_hot[i][l]=1\n",
    "test['labels']=labels_one_hot"
   ]
  },
  {
   "cell_type": "code",
   "execution_count": 6,
   "metadata": {},
   "outputs": [],
   "source": [
    "from sklearn.model_selection import train_test_split\n",
    "train['features'], valid['features'], train['labels'], valid['labels'] = train_test_split( train['features'], \n",
    "   train['labels'],\n",
    "   test_size=0.2,\n",
    "   random_state=122333)"
   ]
  },
  {
   "cell_type": "code",
   "execution_count": 7,
   "metadata": {},
   "outputs": [
    {
     "name": "stdout",
     "output_type": "stream",
     "text": [
      "Layer conv1 width is 32\n",
      "Layer conv2 width is 128\n",
      "Layer  fc1 width is 1024\n",
      "Layer  fc2 width is 1024\n",
      "Layer  fc3 width is 43\n",
      "Weights for conv1: <tf.Variable 'karol/conv1w:0' shape=(3, 3, 3, 32) dtype=float32_ref>\n",
      "Weights for conv2: <tf.Variable 'karol/conv2w:0' shape=(3, 3, 32, 128) dtype=float32_ref>\n",
      "Weights for  fc1: <tf.Variable 'karol/fc1w:0' shape=(131072, 1024) dtype=float32_ref>\n",
      "Weights for  fc2: <tf.Variable 'karol/fc2w:0' shape=(1024, 1024) dtype=float32_ref>\n",
      "Weights for  fc3: <tf.Variable 'karol/fc3w:0' shape=(1024, 43) dtype=float32_ref>\n"
     ]
    }
   ],
   "source": [
    "layer_width = {\n",
    "    'conv1': 32,\n",
    "    'conv2': 128,\n",
    "    'fc1': 1024,\n",
    "    'fc2': 1024,\n",
    "    'fc3': n_classes\n",
    "}\n",
    "filter_size=[3,3]\n",
    "\n",
    "tf.reset_default_graph() \n",
    "with tf.variable_scope('karol', reuse=False):\n",
    "    weights = {\n",
    "        'conv1': tf.get_variable(\"conv1w\", shape=[filter_size[0], filter_size[1], image_shape[2], layer_width['conv1']], initializer=tf.contrib.layers.xavier_initializer()),\n",
    "        'conv2': tf.get_variable(\"conv2w\", shape=[filter_size[0], filter_size[1], layer_width['conv1'], layer_width['conv2']], initializer=tf.contrib.layers.xavier_initializer()),\n",
    "        'fc1':  tf.get_variable(\"fc1w\", shape=[image_shape[0]*image_shape[1]*layer_width['conv2'], layer_width['fc1']], initializer=tf.contrib.layers.xavier_initializer()),\n",
    "        'fc2':  tf.get_variable(\"fc2w\", shape=[layer_width['fc1'], layer_width['fc2']], initializer=tf.contrib.layers.xavier_initializer()),\n",
    "        'fc3':  tf.get_variable(\"fc3w\", shape=[layer_width['fc2'], layer_width['fc3']], initializer=tf.contrib.layers.xavier_initializer())\n",
    "    }\n",
    "\n",
    "    biases = {\n",
    "        'conv1': tf.get_variable(\"conv1b\", shape=[layer_width['conv1']], initializer=tf.contrib.layers.xavier_initializer()),\n",
    "        'conv2': tf.get_variable(\"conv2b\", shape=[layer_width['conv2']], initializer=tf.contrib.layers.xavier_initializer()),\n",
    "        'fc1': tf.get_variable(\"fc1b\", shape=[layer_width['fc1']], initializer=tf.contrib.layers.xavier_initializer()),\n",
    "        'fc2': tf.get_variable(\"fc2b\", shape=[layer_width['fc2']], initializer=tf.contrib.layers.xavier_initializer()),\n",
    "        'fc3': tf.get_variable(\"fc3b\", shape=[layer_width['fc3']], initializer=tf.contrib.layers.xavier_initializer())\n",
    "    }\n",
    "for key,val in sorted(layer_width.items()):\n",
    "    print(\"Layer %4s width is %s\"%(key,val))\n",
    "          \n",
    "for key,val in sorted(weights.items()):\n",
    "    print(\"Weights for %4s: %s\"%(key,val))"
   ]
  },
  {
   "cell_type": "code",
   "execution_count": 8,
   "metadata": {},
   "outputs": [],
   "source": [
    "def conv2d(x, W, b, strides=1):\n",
    "    # Conv2D wrapper, with bias and relu activation\n",
    "    x = tf.nn.conv2d(x, W, strides=[1, strides, strides, 1], padding='SAME')\n",
    "    x = tf.nn.bias_add(x, b)\n",
    "    return tf.nn.relu(x)\n",
    "\n",
    "def maxpool2d(x, k=2):\n",
    "    return tf.nn.max_pool(\n",
    "        x,\n",
    "        ksize=[1, k, k, 1],\n",
    "        strides=[1, k, k, 1],\n",
    "        padding='SAME')\n",
    "\n",
    "def fclayer(x,w,b):\n",
    "    return tf.matmul(tf.contrib.layers.flatten(x), w) + b"
   ]
  },
  {
   "cell_type": "code",
   "execution_count": 9,
   "metadata": {},
   "outputs": [],
   "source": [
    "def myNet(x):\n",
    "    # conv layer\n",
    "    net = conv2d(x,weights['conv1'],biases['conv1'])\n",
    "    net = conv2d(net,weights['conv2'],biases['conv2'])\n",
    "\n",
    "    # fully connected layers\n",
    "    net = fclayer(net,weights['fc1'],biases['fc1'])\n",
    "    net = tf.nn.relu(net)\n",
    "    net = fclayer(net,weights['fc2'],biases['fc2'])\n",
    "    net = tf.nn.relu(net)\n",
    "    net = fclayer(net,weights['fc3'],biases['fc3'])\n",
    "\n",
    "    return net"
   ]
  },
  {
   "cell_type": "code",
   "execution_count": 10,
   "metadata": {},
   "outputs": [
    {
     "name": "stdout",
     "output_type": "stream",
     "text": [
      "Number of epochs:  10\n",
      "Batch size:  150\n"
     ]
    }
   ],
   "source": [
    "EPOCHS = 10\n",
    "BATCH_SIZE = 150\n",
    "LEARNING_RATE = 0.0001\n",
    "\n",
    "print(\"Number of epochs: \",EPOCHS)\n",
    "print(\"Batch size: \",BATCH_SIZE)"
   ]
  },
  {
   "cell_type": "code",
   "execution_count": 11,
   "metadata": {},
   "outputs": [],
   "source": [
    "x = tf.placeholder(tf.float32, shape=[None,image_shape[0],image_shape[1],image_shape[2]])\n",
    "y = tf.placeholder(tf.float32)\n",
    "\n",
    "net = myNet(x)\n",
    "\n",
    "# Loss computation\n",
    "prediction = tf.nn.softmax(net)\n",
    "cross_entropy = -tf.reduce_sum(y * tf.log(prediction + 1e-6), reduction_indices=1)\n",
    "loss = tf.reduce_mean(cross_entropy)\n",
    "\n",
    "# Accuracy computation\n",
    "is_correct_prediction = tf.equal(tf.argmax(prediction, 1), tf.argmax(y, 1))\n",
    "accuracy = tf.reduce_mean(tf.cast(is_correct_prediction, tf.float32))"
   ]
  },
  {
   "cell_type": "code",
   "execution_count": 12,
   "metadata": {},
   "outputs": [
    {
     "name": "stderr",
     "output_type": "stream",
     "text": [
      "Epoch  1/10: 100%|██████████████████████| 221/221 [10:36<00:00,  2.89s/batches]\n"
     ]
    },
    {
     "name": "stdout",
     "output_type": "stream",
     "text": [
      "Epoch  1/10\n",
      "0.733737\n",
      "0.846667\n",
      "0.766667\n"
     ]
    },
    {
     "name": "stderr",
     "output_type": "stream",
     "text": [
      "Epoch  2/10: 100%|██████████████████████| 221/221 [10:43<00:00,  2.89s/batches]\n"
     ]
    },
    {
     "name": "stdout",
     "output_type": "stream",
     "text": [
      "Epoch  2/10\n",
      "0.258264\n",
      "0.966667\n",
      "0.933333\n"
     ]
    },
    {
     "name": "stderr",
     "output_type": "stream",
     "text": [
      "Epoch  3/10: 100%|██████████████████████| 221/221 [11:10<00:00,  3.14s/batches]\n"
     ]
    },
    {
     "name": "stdout",
     "output_type": "stream",
     "text": [
      "Epoch  3/10\n",
      "0.125499\n",
      "0.986667\n",
      "1.0\n"
     ]
    },
    {
     "name": "stderr",
     "output_type": "stream",
     "text": [
      "Epoch  4/10: 100%|██████████████████████| 221/221 [11:52<00:00,  3.42s/batches]\n"
     ]
    },
    {
     "name": "stdout",
     "output_type": "stream",
     "text": [
      "Epoch  4/10\n",
      "0.0716011\n",
      "1.0\n",
      "0.966667\n"
     ]
    },
    {
     "name": "stderr",
     "output_type": "stream",
     "text": [
      "Epoch  5/10: 100%|██████████████████████| 221/221 [11:16<00:00,  2.92s/batches]\n"
     ]
    },
    {
     "name": "stdout",
     "output_type": "stream",
     "text": [
      "Epoch  5/10\n",
      "0.0490248\n",
      "1.0\n",
      "1.0\n"
     ]
    },
    {
     "name": "stderr",
     "output_type": "stream",
     "text": [
      "Epoch  6/10: 100%|██████████████████████| 221/221 [10:58<00:00,  3.07s/batches]\n"
     ]
    },
    {
     "name": "stdout",
     "output_type": "stream",
     "text": [
      "Epoch  6/10\n",
      "0.0282913\n",
      "1.0\n",
      "0.933333\n"
     ]
    },
    {
     "name": "stderr",
     "output_type": "stream",
     "text": [
      "Epoch  7/10: 100%|██████████████████████| 221/221 [11:04<00:00,  2.93s/batches]\n"
     ]
    },
    {
     "name": "stdout",
     "output_type": "stream",
     "text": [
      "Epoch  7/10\n",
      "0.0347505\n",
      "1.0\n",
      "1.0\n"
     ]
    },
    {
     "name": "stderr",
     "output_type": "stream",
     "text": [
      "Epoch  8/10: 100%|██████████████████████| 221/221 [10:59<00:00,  2.91s/batches]\n"
     ]
    },
    {
     "name": "stdout",
     "output_type": "stream",
     "text": [
      "Epoch  8/10\n",
      "0.0178008\n",
      "1.0\n",
      "1.0\n"
     ]
    },
    {
     "name": "stderr",
     "output_type": "stream",
     "text": [
      "Epoch  9/10: 100%|██████████████████████| 221/221 [10:51<00:00,  2.91s/batches]\n"
     ]
    },
    {
     "name": "stdout",
     "output_type": "stream",
     "text": [
      "Epoch  9/10\n",
      "0.0130718\n",
      "1.0\n",
      "0.933333\n"
     ]
    },
    {
     "name": "stderr",
     "output_type": "stream",
     "text": [
      "Epoch 10/10: 100%|█████████████████████| 221/221 [45:42<00:00, 307.15s/batches]\n"
     ]
    },
    {
     "name": "stdout",
     "output_type": "stream",
     "text": [
      "Epoch 10/10\n",
      "0.00563024\n",
      "1.0\n",
      "1.0\n"
     ]
    }
   ],
   "source": [
    "\n",
    "optimizer = tf.train.AdamOptimizer(LEARNING_RATE).minimize(loss)\n",
    "\n",
    "batches = []\n",
    "loss_epoch = []\n",
    "train_acc_epoch = []\n",
    "valid_acc_epoch = []\n",
    "validation_accuracy = 0.0\n",
    "\n",
    "\n",
    "\n",
    "init = tf.global_variables_initializer()\n",
    "\n",
    "session = tf.Session(config=tf.ConfigProto(log_device_placement=True))\n",
    "session.run(init)\n",
    "\n",
    "# Merge all the summaries and write them out to /tmp/traffic-signs/train\n",
    "merged = tf.summary.merge_all()\n",
    "train_writer = tf.summary.FileWriter('/tmp/traffic-signs/train', session.graph)\n",
    "\n",
    "batch_count = int(len(train['features']) / BATCH_SIZE)\n",
    "\n",
    "for epoch in range(EPOCHS):\n",
    "    batches_pbar = tqdm(range(batch_count), desc='Epoch {:>2}/{}'.format(epoch + 1, EPOCHS), unit='batches')\n",
    "\n",
    "    for batch_i in batches_pbar:\n",
    "        batch_start = batch_i * BATCH_SIZE\n",
    "        batch_features = train['features'][batch_start:batch_start + BATCH_SIZE]\n",
    "        batch_labels = train['labels'][batch_start:batch_start + BATCH_SIZE]\n",
    "\n",
    "        _, l = session.run(\n",
    "            [optimizer, loss],\n",
    "            feed_dict={x: batch_features, y: batch_labels})\n",
    "        \n",
    "    training_accuracy = session.run(\n",
    "        accuracy,\n",
    "        feed_dict={x: batch_features, y: batch_labels}\n",
    "    )\n",
    "    \n",
    "    \n",
    "    idx = np.random.randint(len(valid['features']), size=int(BATCH_SIZE * .2))\n",
    "    \n",
    "    validation_accuracy = session.run(\n",
    "        accuracy,\n",
    "        feed_dict={x: valid['features'][idx,:], y: valid['labels'][idx,:]}\n",
    "    )\n",
    "    \n",
    "    print('Epoch {:>2}/{}'.format(epoch + 1, EPOCHS))\n",
    "    print (l)\n",
    "    print (training_accuracy)\n",
    "    print (validation_accuracy)\n",
    "    \n",
    "    \n",
    "    batches.append(len(batches))\n",
    "    loss_epoch.append(l)\n",
    "    train_acc_epoch.append(training_accuracy)\n",
    "    valid_acc_epoch.append(validation_accuracy)"
   ]
  },
  {
   "cell_type": "code",
   "execution_count": 28,
   "metadata": {},
   "outputs": [
    {
     "data": {
      "image/png": "[encoded data removed]",
      "text/plain": [
       "<matplotlib.figure.Figure at 0xe60bc8e5f8>"
      ]
     },
     "metadata": {},
     "output_type": "display_data"
    }
   ],
   "source": [
    "loss_plot = plt.subplot(211)\n",
    "loss_plot.set_title('Loss')\n",
    "loss_plot.plot(batches, loss_epoch)\n",
    "loss_plot.set_xlim([batches[0], batches[-1]])\n",
    "acc_plot = plt.subplot(212)\n",
    "acc_plot.set_title('Accuracy')\n",
    "acc_plot.plot(batches, train_acc_epoch, 'r', label='Training Accuracy')\n",
    "acc_plot.plot(batches, valid_acc_epoch, 'b', label='Validation Accuracy')\n",
    "acc_plot.set_xlabel('Epochs')\n",
    "acc_plot.set_ylim([0, 1.0])\n",
    "acc_plot.set_xlim([batches[0], batches[-1]])\n",
    "acc_plot.legend(loc=4)\n",
    "plt.tight_layout()\n",
    "plt.show()"
   ]
  },
  {
   "cell_type": "code",
   "execution_count": null,
   "metadata": {},
   "outputs": [],
   "source": []
  }
 ],
 "metadata": {
  "kernelspec": {
   "display_name": "Python 3",
   "language": "python",
   "name": "python3"
  },
  "language_info": {
   "codemirror_mode": {
    "name": "ipython",
    "version": 3
   },
   "file_extension": ".py",
   "mimetype": "text/x-python",
   "name": "python",
   "nbconvert_exporter": "python",
   "pygments_lexer": "ipython3",
   "version": "3.6.3"
  },
  "nav_menu": {},
  "toc": {
   "navigate_menu": true,
   "number_sections": true,
   "sideBar": true,
   "threshold": 6,
   "toc_cell": false,
   "toc_section_display": "block",
   "toc_window_display": false
  }
 },
 "nbformat": 4,
 "nbformat_minor": 2
}
