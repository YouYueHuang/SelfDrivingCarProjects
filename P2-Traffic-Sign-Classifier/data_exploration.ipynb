{
 "cells": [
  {
   "cell_type": "markdown",
   "metadata": {
    "toc": "true"
   },
   "source": [
    "# Table of Contents\n",
    " <p><div class=\"lev1 toc-item\"><a href=\"#Import-packages\" data-toc-modified-id=\"Import-packages-1\"><span class=\"toc-item-num\">1&nbsp;&nbsp;</span>Import packages</a></div><div class=\"lev2 toc-item\"><a href=\"#Load-The-Data\" data-toc-modified-id=\"Load-The-Data-1.1\"><span class=\"toc-item-num\">1.1&nbsp;&nbsp;</span>Load The Data</a></div><div class=\"lev2 toc-item\"><a href=\"#Data-exploration\" data-toc-modified-id=\"Data-exploration-1.2\"><span class=\"toc-item-num\">1.2&nbsp;&nbsp;</span>Data exploration</a></div><div class=\"lev2 toc-item\"><a href=\"#normalized-class-distribution\" data-toc-modified-id=\"normalized-class-distribution-1.3\"><span class=\"toc-item-num\">1.3&nbsp;&nbsp;</span>normalized class distribution</a></div><div class=\"lev2 toc-item\"><a href=\"#Stratified-Sampling\" data-toc-modified-id=\"Stratified-Sampling-1.4\"><span class=\"toc-item-num\">1.4&nbsp;&nbsp;</span>Stratified Sampling</a></div><div class=\"lev2 toc-item\"><a href=\"#Preprocessing\" data-toc-modified-id=\"Preprocessing-1.5\"><span class=\"toc-item-num\">1.5&nbsp;&nbsp;</span>Preprocessing</a></div><div class=\"lev3 toc-item\"><a href=\"#Changing-Color-space\" data-toc-modified-id=\"Changing-Color-space-1.5.1\"><span class=\"toc-item-num\">1.5.1&nbsp;&nbsp;</span>Changing Color-space</a></div><div class=\"lev3 toc-item\"><a href=\"#Histogram-Equalization\" data-toc-modified-id=\"Histogram-Equalization-1.5.2\"><span class=\"toc-item-num\">1.5.2&nbsp;&nbsp;</span>Histogram Equalization</a></div><div class=\"lev2 toc-item\"><a href=\"#Model\" data-toc-modified-id=\"Model-1.6\"><span class=\"toc-item-num\">1.6&nbsp;&nbsp;</span>Model</a></div><div class=\"lev3 toc-item\"><a href=\"#parameters\" data-toc-modified-id=\"parameters-1.6.1\"><span class=\"toc-item-num\">1.6.1&nbsp;&nbsp;</span>parameters</a></div><div class=\"lev3 toc-item\"><a href=\"#Architecture\" data-toc-modified-id=\"Architecture-1.6.2\"><span class=\"toc-item-num\">1.6.2&nbsp;&nbsp;</span>Architecture</a></div><div class=\"lev3 toc-item\"><a href=\"#Data-preprocessing\" data-toc-modified-id=\"Data-preprocessing-1.6.3\"><span class=\"toc-item-num\">1.6.3&nbsp;&nbsp;</span>Data preprocessing</a></div><div class=\"lev3 toc-item\"><a href=\"#train,-evaluation-and-test\" data-toc-modified-id=\"train,-evaluation-and-test-1.6.4\"><span class=\"toc-item-num\">1.6.4&nbsp;&nbsp;</span>train, evaluation and test</a></div><div class=\"lev3 toc-item\"><a href=\"#Histogram-of-Oriented-Gradient-(HOG)-features\" data-toc-modified-id=\"Histogram-of-Oriented-Gradient-(HOG)-features-1.6.5\"><span class=\"toc-item-num\">1.6.5&nbsp;&nbsp;</span>Histogram of Oriented Gradient (HOG) features</a></div><div class=\"lev2 toc-item\"><a href=\"#Visualization-the-Graph\" data-toc-modified-id=\"Visualization-the-Graph-1.7\"><span class=\"toc-item-num\">1.7&nbsp;&nbsp;</span>Visualization the Graph</a></div><div class=\"lev3 toc-item\"><a href=\"#Graphviz\" data-toc-modified-id=\"Graphviz-1.7.1\"><span class=\"toc-item-num\">1.7.1&nbsp;&nbsp;</span>Graphviz</a></div><div class=\"lev3 toc-item\"><a href=\"#TensorBoard-on-local-server\" data-toc-modified-id=\"TensorBoard-on-local-server-1.7.2\"><span class=\"toc-item-num\">1.7.2&nbsp;&nbsp;</span>TensorBoard on local server</a></div><div class=\"lev3 toc-item\"><a href=\"#TensorBoard-on-Jupyter-notebook\" data-toc-modified-id=\"TensorBoard-on-Jupyter-notebook-1.7.3\"><span class=\"toc-item-num\">1.7.3&nbsp;&nbsp;</span>TensorBoard on Jupyter notebook</a></div><div class=\"lev3 toc-item\"><a href=\"#Train,-Validate-and-Test-the-Model\" data-toc-modified-id=\"Train,-Validate-and-Test-the-Model-1.7.4\"><span class=\"toc-item-num\">1.7.4&nbsp;&nbsp;</span>Train, Validate and Test the Model</a></div><div class=\"lev2 toc-item\"><a href=\"#Step-3:-Test-a-Model-on-New-Images\" data-toc-modified-id=\"Step-3:-Test-a-Model-on-New-Images-1.8\"><span class=\"toc-item-num\">1.8&nbsp;&nbsp;</span>Step 3: Test a Model on New Images</a></div><div class=\"lev3 toc-item\"><a href=\"#Load-and-Output-the-Images\" data-toc-modified-id=\"Load-and-Output-the-Images-1.8.1\"><span class=\"toc-item-num\">1.8.1&nbsp;&nbsp;</span>Load and Output the Images</a></div><div class=\"lev3 toc-item\"><a href=\"#Predict-the-Sign-Type-for-Each-Image\" data-toc-modified-id=\"Predict-the-Sign-Type-for-Each-Image-1.8.2\"><span class=\"toc-item-num\">1.8.2&nbsp;&nbsp;</span>Predict the Sign Type for Each Image</a></div><div class=\"lev3 toc-item\"><a href=\"#Analyze-Performance\" data-toc-modified-id=\"Analyze-Performance-1.8.3\"><span class=\"toc-item-num\">1.8.3&nbsp;&nbsp;</span>Analyze Performance</a></div><div class=\"lev3 toc-item\"><a href=\"#Output-Top-5-Softmax-Probabilities-For-Each-Image-Found-on-the-Web\" data-toc-modified-id=\"Output-Top-5-Softmax-Probabilities-For-Each-Image-Found-on-the-Web-1.8.4\"><span class=\"toc-item-num\">1.8.4&nbsp;&nbsp;</span>Output Top 5 Softmax Probabilities For Each Image Found on the Web</a></div><div class=\"lev3 toc-item\"><a href=\"#Project-Writeup\" data-toc-modified-id=\"Project-Writeup-1.8.5\"><span class=\"toc-item-num\">1.8.5&nbsp;&nbsp;</span>Project Writeup</a></div><div class=\"lev2 toc-item\"><a href=\"#Step-4-(Optional):-Visualize-the-Neural-Network's-State-with-Test-Images\" data-toc-modified-id=\"Step-4-(Optional):-Visualize-the-Neural-Network's-State-with-Test-Images-1.9\"><span class=\"toc-item-num\">1.9&nbsp;&nbsp;</span>Step 4 (Optional): Visualize the Neural Network's State with Test Images</a></div><div class=\"lev3 toc-item\"><a href=\"#Test-accuracy-over-steps\" data-toc-modified-id=\"Test-accuracy-over-steps-1.9.1\"><span class=\"toc-item-num\">1.9.1&nbsp;&nbsp;</span>Test accuracy over steps</a></div><div class=\"lev3 toc-item\"><a href=\"#cost-over-steps\" data-toc-modified-id=\"cost-over-steps-1.9.2\"><span class=\"toc-item-num\">1.9.2&nbsp;&nbsp;</span>cost over steps</a></div><div class=\"lev3 toc-item\"><a href=\"#feature-visualization\" data-toc-modified-id=\"feature-visualization-1.9.3\"><span class=\"toc-item-num\">1.9.3&nbsp;&nbsp;</span>feature visualization</a></div><div class=\"lev3 toc-item\"><a href=\"#Archetecture-comparison\" data-toc-modified-id=\"Archetecture-comparison-1.9.4\"><span class=\"toc-item-num\">1.9.4&nbsp;&nbsp;</span>Archetecture comparison</a></div><div class=\"lev3 toc-item\"><a href=\"#Confusion-table-for-misclassified-images\" data-toc-modified-id=\"Confusion-table-for-misclassified-images-1.9.5\"><span class=\"toc-item-num\">1.9.5&nbsp;&nbsp;</span>Confusion table for misclassified images</a></div><div class=\"lev3 toc-item\"><a href=\"#photo-wall\" data-toc-modified-id=\"photo-wall-1.9.6\"><span class=\"toc-item-num\">1.9.6&nbsp;&nbsp;</span>photo wall</a></div><div class=\"lev3 toc-item\"><a href=\"#Import-useful-features\" data-toc-modified-id=\"Import-useful-features-1.9.7\"><span class=\"toc-item-num\">1.9.7&nbsp;&nbsp;</span>Import useful features</a></div><div class=\"lev3 toc-item\"><a href=\"#model-graph-visualization\" data-toc-modified-id=\"model-graph-visualization-1.9.8\"><span class=\"toc-item-num\">1.9.8&nbsp;&nbsp;</span>model graph visualization</a></div><div class=\"lev3 toc-item\"><a href=\"#GAN\" data-toc-modified-id=\"GAN-1.9.9\"><span class=\"toc-item-num\">1.9.9&nbsp;&nbsp;</span>GAN</a></div><div class=\"lev3 toc-item\"><a href=\"#Train,-test,-evaluation-class-distribution\" data-toc-modified-id=\"Train,-test,-evaluation-class-distribution-1.9.10\"><span class=\"toc-item-num\">1.9.10&nbsp;&nbsp;</span>Train, test, evaluation class distribution</a></div><div class=\"lev3 toc-item\"><a href=\"#other-preprocessing-technique:-sharpening,-binarize,-compution-vision-techniques\" data-toc-modified-id=\"other-preprocessing-technique:-sharpening,-binarize,-compution-vision-techniques-1.9.11\"><span class=\"toc-item-num\">1.9.11&nbsp;&nbsp;</span>other preprocessing technique: sharpening, binarize, compution vision techniques</a></div>"
   ]
  },
  {
   "cell_type": "markdown",
   "metadata": {},
   "source": [
    "# Import packages"
   ]
  },
  {
   "cell_type": "code",
   "execution_count": 12,
   "metadata": {},
   "outputs": [
    {
     "data": {
      "text/html": [
       "<script>requirejs.config({paths: { 'plotly': ['https://cdn.plot.ly/plotly-latest.min']},});if(!window.Plotly) {{require(['plotly'],function(plotly) {window.Plotly=plotly;});}}</script>"
      ],
      "text/vnd.plotly.v1+html": [
       "<script>requirejs.config({paths: { 'plotly': ['https://cdn.plot.ly/plotly-latest.min']},});if(!window.Plotly) {{require(['plotly'],function(plotly) {window.Plotly=plotly;});}}</script>"
      ]
     },
     "metadata": {},
     "output_type": "display_data"
    }
   ],
   "source": [
    "import pickle\n",
    "import cv2 \n",
    "import tensorflow as tf\n",
    "import numpy as np\n",
    "import matplotlib.pyplot as plt\n",
    "import matplotlib.gridspec as gridspec\n",
    "import pandas as pd\n",
    "from collections import Counter\n",
    "from pandas import DataFrame\n",
    "import os\n",
    "from os.path import join, basename\n",
    "import plotly\n",
    "import plotly.figure_factory as ff\n",
    "import plotly.graph_objs as go\n",
    "from IPython.display import clear_output, Image, display, HTML\n",
    "from graphviz import Digraph\n",
    "from sklearn import preprocessing\n",
    "from sklearn.model_selection import StratifiedShuffleSplit\n",
    "import matplotlib.image as mpimg\n",
    "import math\n",
    "from tqdm import tqdm\n",
    "\n",
    "os.environ['TF_CPP_MIN_LOG_LEVEL'] = '2' \n",
    "\n",
    "\n",
    "import warnings\n",
    "warnings.filterwarnings('ignore')\n",
    "%matplotlib inline"
   ]
  },
  {
   "cell_type": "code",
   "execution_count": 21,
   "metadata": {},
   "outputs": [
    {
     "data": {
      "text/html": [
       "<script>requirejs.config({paths: { 'plotly': ['https://cdn.plot.ly/plotly-latest.min']},});if(!window.Plotly) {{require(['plotly'],function(plotly) {window.Plotly=plotly;});}}</script>"
      ],
      "text/vnd.plotly.v1+html": [
       "<script>requirejs.config({paths: { 'plotly': ['https://cdn.plot.ly/plotly-latest.min']},});if(!window.Plotly) {{require(['plotly'],function(plotly) {window.Plotly=plotly;});}}</script>"
      ]
     },
     "metadata": {},
     "output_type": "display_data"
    }
   ],
   "source": [
    "import plotly\n",
    "import plotly.figure_factory as ff\n",
    "import plotly.graph_objs as go\n",
    "plotly.offline.init_notebook_mode(connected=True)"
   ]
  },
  {
   "cell_type": "markdown",
   "metadata": {},
   "source": [
    "## Load The Data"
   ]
  },
  {
   "cell_type": "markdown",
   "metadata": {},
   "source": [
    "[download data](http://benchmark.ini.rub.de/?section=gtsrb&subsection=dataset)"
   ]
  },
  {
   "cell_type": "code",
   "execution_count": 14,
   "metadata": {},
   "outputs": [],
   "source": [
    "# Load pickled data\n",
    "def read_data_sets(file): \n",
    "    with open(file, mode='rb') as f:\n",
    "        return pickle.load(f)\n",
    "\n",
    "data_rel_path = \"..\\\\..\\\\datasets_collection\\\\Traffic_Sign_Classifier\"\n",
    "\n",
    "\n",
    "train = read_data_sets(os.path.join(data_rel_path, \"train.p\"))\n",
    "valid= read_data_sets(os.path.join(data_rel_path, \"valid.p\")) \n",
    "test = read_data_sets(os.path.join(data_rel_path, \"test.p\")) \n",
    "    \n",
    "X_train, y_train = train['features'], train['labels']\n",
    "X_valid, y_valid = valid['features'], valid['labels']\n",
    "X_test, y_test = test['features'], test['labels']"
   ]
  },
  {
   "cell_type": "code",
   "execution_count": 6,
   "metadata": {},
   "outputs": [],
   "source": [
    "signNames_pd = pd.read_csv(os.path.join(data_rel_path, \"signnames.csv\"))"
   ]
  },
  {
   "cell_type": "code",
   "execution_count": 15,
   "metadata": {},
   "outputs": [
    {
     "name": "stdout",
     "output_type": "stream",
     "text": [
      "Number of training examples = 34799\n",
      "Number of testing examples = 12630\n",
      "Image data shape = (32, 32, 3)\n",
      "Number of classes in sign file = 43\n"
     ]
    }
   ],
   "source": [
    "n_train = X_train.shape[0]\n",
    "n_validation = X_valid.shape[0]\n",
    "n_test = X_test.shape[0]\n",
    "image_shape = X_train[0].shape\n",
    "n_signClasses = len(signNames_pd[\"ClassId\"])\n",
    "n_classes = n_signClasses\n",
    "print(\"Number of training examples =\", n_train)\n",
    "print(\"Number of testing examples =\", n_test)\n",
    "print(\"Image data shape =\", image_shape)\n",
    "print(\"Number of classes in sign file =\", n_signClasses)"
   ]
  },
  {
   "cell_type": "code",
   "execution_count": 16,
   "metadata": {},
   "outputs": [
    {
     "data": {
      "text/html": [
       "<div>\n",
       "<style scoped>\n",
       "    .dataframe tbody tr th:only-of-type {\n",
       "        vertical-align: middle;\n",
       "    }\n",
       "\n",
       "    .dataframe tbody tr th {\n",
       "        vertical-align: top;\n",
       "    }\n",
       "\n",
       "    .dataframe thead th {\n",
       "        text-align: right;\n",
       "    }\n",
       "</style>\n",
       "<table border=\"1\" class=\"dataframe\">\n",
       "  <thead>\n",
       "    <tr style=\"text-align: right;\">\n",
       "      <th></th>\n",
       "      <th>ClassId</th>\n",
       "      <th>SignName</th>\n",
       "    </tr>\n",
       "  </thead>\n",
       "  <tbody>\n",
       "    <tr>\n",
       "      <th>0</th>\n",
       "      <td>0</td>\n",
       "      <td>Speed limit (20km/h)</td>\n",
       "    </tr>\n",
       "    <tr>\n",
       "      <th>1</th>\n",
       "      <td>1</td>\n",
       "      <td>Speed limit (30km/h)</td>\n",
       "    </tr>\n",
       "    <tr>\n",
       "      <th>2</th>\n",
       "      <td>2</td>\n",
       "      <td>Speed limit (50km/h)</td>\n",
       "    </tr>\n",
       "    <tr>\n",
       "      <th>3</th>\n",
       "      <td>3</td>\n",
       "      <td>Speed limit (60km/h)</td>\n",
       "    </tr>\n",
       "    <tr>\n",
       "      <th>4</th>\n",
       "      <td>4</td>\n",
       "      <td>Speed limit (70km/h)</td>\n",
       "    </tr>\n",
       "  </tbody>\n",
       "</table>\n",
       "</div>"
      ],
      "text/plain": [
       "   ClassId              SignName\n",
       "0        0  Speed limit (20km/h)\n",
       "1        1  Speed limit (30km/h)\n",
       "2        2  Speed limit (50km/h)\n",
       "3        3  Speed limit (60km/h)\n",
       "4        4  Speed limit (70km/h)"
      ]
     },
     "execution_count": 16,
     "metadata": {},
     "output_type": "execute_result"
    }
   ],
   "source": [
    "signNames_pd.head()"
   ]
  },
  {
   "cell_type": "markdown",
   "metadata": {},
   "source": [
    "## normalized class distribution "
   ]
  },
  {
   "cell_type": "code",
   "execution_count": 17,
   "metadata": {},
   "outputs": [],
   "source": [
    "# calculate the count of each class in train, test, valid sets\n",
    "y_train_elements, y_train_dist = np.unique(y_train, return_counts=True)\n",
    "y_valid_elements, y_valid_dist = np.unique(y_valid, return_counts=True)\n",
    "y_test_elements, y_test_dist = np.unique(y_test, return_counts=True)"
   ]
  },
  {
   "cell_type": "code",
   "execution_count": 18,
   "metadata": {},
   "outputs": [],
   "source": [
    "def normalied_prob(data):\n",
    "    return data/np.sum(data)"
   ]
  },
  {
   "cell_type": "code",
   "execution_count": 22,
   "metadata": {},
   "outputs": [
    {
     "data": {
      "application/vnd.plotly.v1+json": {
       "data": [
        {
         "marker": {
          "color": "rgb(55, 83, 109)"
         },
         "name": "train",
         "type": "bar",
         "x": [
          0,
          1,
          2,
          3,
          4,
          5,
          6,
          7,
          8,
          9,
          10,
          11,
          12,
          13,
          14,
          15,
          16,
          17,
          18,
          19,
          20,
          21,
          22,
          23,
          24,
          25,
          26,
          27,
          28,
          29,
          30,
          31,
          32,
          33,
          34,
          35,
          36,
          37,
          38,
          39,
          40,
          41,
          42
         ],
         "y": [
          0.005172562429954884,
          0.056898186729503725,
          0.057760280467829536,
          0.03620793700968419,
          0.05086353056122302,
          0.04741515560791977,
          0.010345124859909767,
          0.03707003074801,
          0.03620793700968419,
          0.037932124486335816,
          0.051725624299548835,
          0.033621655794706745,
          0.054311905514526276,
          0.055173999252852095,
          0.01982815598149372,
          0.015517687289864652,
          0.010345124859909767,
          0.028449093364751862,
          0.031035374579729304,
          0.005172562429954884,
          0.00862093738325814,
          0.007758843644932326,
          0.009483031121583954,
          0.012931406074887209,
          0.006896749906606512,
          0.03879421822466163,
          0.015517687289864652,
          0.006034656168280698,
          0.013793499813213024,
          0.006896749906606512,
          0.011207218598235582,
          0.01982815598149372,
          0.006034656168280698,
          0.017213138308572084,
          0.010345124859909767,
          0.031035374579729304,
          0.009483031121583954,
          0.005172562429954884,
          0.053449811776200465,
          0.007758843644932326,
          0.00862093738325814,
          0.006034656168280698,
          0.006034656168280698
         ]
        },
        {
         "marker": {
          "color": "rgb(26, 118, 255)"
         },
         "name": "valid",
         "type": "bar",
         "x": [
          0,
          1,
          2,
          3,
          4,
          5,
          6,
          7,
          8,
          9,
          10,
          11,
          12,
          13,
          14,
          15,
          16,
          17,
          18,
          19,
          20,
          21,
          22,
          23,
          24,
          25,
          26,
          27,
          28,
          29,
          30,
          31,
          32,
          33,
          34,
          35,
          36,
          37,
          38,
          39,
          40,
          41,
          42
         ],
         "y": [
          0.006802721088435374,
          0.05442176870748299,
          0.05442176870748299,
          0.034013605442176874,
          0.047619047619047616,
          0.047619047619047616,
          0.013605442176870748,
          0.034013605442176874,
          0.034013605442176874,
          0.034013605442176874,
          0.047619047619047616,
          0.034013605442176874,
          0.047619047619047616,
          0.05442176870748299,
          0.02040816326530612,
          0.02040816326530612,
          0.013605442176870748,
          0.027210884353741496,
          0.027210884353741496,
          0.006802721088435374,
          0.013605442176870748,
          0.013605442176870748,
          0.013605442176870748,
          0.013605442176870748,
          0.006802721088435374,
          0.034013605442176874,
          0.013605442176870748,
          0.006802721088435374,
          0.013605442176870748,
          0.006802721088435374,
          0.013605442176870748,
          0.02040816326530612,
          0.006802721088435374,
          0.02040816326530612,
          0.013605442176870748,
          0.027210884353741496,
          0.013605442176870748,
          0.006802721088435374,
          0.047619047619047616,
          0.006802721088435374,
          0.013605442176870748,
          0.006802721088435374,
          0.006802721088435374
         ]
        },
        {
         "marker": {
          "color": "rgb(250, 118, 0)"
         },
         "name": "test",
         "type": "bar",
         "x": [
          0,
          1,
          2,
          3,
          4,
          5,
          6,
          7,
          8,
          9,
          10,
          11,
          12,
          13,
          14,
          15,
          16,
          17,
          18,
          19,
          20,
          21,
          22,
          23,
          24,
          25,
          26,
          27,
          28,
          29,
          30,
          31,
          32,
          33,
          34,
          35,
          36,
          37,
          38,
          39,
          40,
          41,
          42
         ],
         "y": [
          0.004750593824228029,
          0.057007125890736345,
          0.05938242280285035,
          0.035629453681710214,
          0.052256532066508314,
          0.0498812351543943,
          0.011876484560570071,
          0.035629453681710214,
          0.035629453681710214,
          0.03800475059382423,
          0.052256532066508314,
          0.0332541567695962,
          0.05463182897862233,
          0.057007125890736345,
          0.021377672209026127,
          0.0166270783847981,
          0.011876484560570071,
          0.028503562945368172,
          0.030878859857482184,
          0.004750593824228029,
          0.007125890736342043,
          0.007125890736342043,
          0.009501187648456057,
          0.011876484560570071,
          0.007125890736342043,
          0.03800475059382423,
          0.014251781472684086,
          0.004750593824228029,
          0.011876484560570071,
          0.007125890736342043,
          0.011876484560570071,
          0.021377672209026127,
          0.004750593824228029,
          0.0166270783847981,
          0.009501187648456057,
          0.030878859857482184,
          0.009501187648456057,
          0.004750593824228029,
          0.05463182897862233,
          0.007125890736342043,
          0.007125890736342043,
          0.004750593824228029,
          0.007125890736342043
         ]
        }
       ],
       "layout": {
        "bargap": 0.15,
        "bargroupgap": 0.1,
        "barmode": "group",
        "legend": {
         "bgcolor": "rgba(255, 255, 255, 0)",
         "bordercolor": "rgba(255, 255, 255, 0)",
         "x": 1,
         "y": 1
        },
        "title": "Sign Class Distribution of Train, Test and Validation Sets",
        "xaxis": {
         "tickfont": {
          "color": "rgb(107, 107, 107)",
          "size": 14
         },
         "title": "sign class"
        },
        "yaxis": {
         "tickfont": {
          "color": "rgb(107, 107, 107)",
          "size": 14
         },
         "title": "probability",
         "titlefont": {
          "color": "rgb(107, 107, 107)",
          "size": 16
         }
        }
       }
      },
      "text/html": [
       "<div id=\"f531280d-31ff-45de-b746-af4c4ac60b46\" style=\"height: 525px; width: 100%;\" class=\"plotly-graph-div\"></div><script type=\"text/javascript\">require([\"plotly\"], function(Plotly) { window.PLOTLYENV=window.PLOTLYENV || {};window.PLOTLYENV.BASE_URL=\"https://plot.ly\";Plotly.newPlot(\"f531280d-31ff-45de-b746-af4c4ac60b46\", [{\"type\": \"bar\", \"x\": [0, 1, 2, 3, 4, 5, 6, 7, 8, 9, 10, 11, 12, 13, 14, 15, 16, 17, 18, 19, 20, 21, 22, 23, 24, 25, 26, 27, 28, 29, 30, 31, 32, 33, 34, 35, 36, 37, 38, 39, 40, 41, 42], \"y\": [0.005172562429954884, 0.056898186729503725, 0.057760280467829536, 0.03620793700968419, 0.05086353056122302, 0.04741515560791977, 0.010345124859909767, 0.03707003074801, 0.03620793700968419, 0.037932124486335816, 0.051725624299548835, 0.033621655794706745, 0.054311905514526276, 0.055173999252852095, 0.01982815598149372, 0.015517687289864652, 0.010345124859909767, 0.028449093364751862, 0.031035374579729304, 0.005172562429954884, 0.00862093738325814, 0.007758843644932326, 0.009483031121583954, 0.012931406074887209, 0.006896749906606512, 0.03879421822466163, 0.015517687289864652, 0.006034656168280698, 0.013793499813213024, 0.006896749906606512, 0.011207218598235582, 0.01982815598149372, 0.006034656168280698, 0.017213138308572084, 0.010345124859909767, 0.031035374579729304, 0.009483031121583954, 0.005172562429954884, 0.053449811776200465, 0.007758843644932326, 0.00862093738325814, 0.006034656168280698, 0.006034656168280698], \"name\": \"train\", \"marker\": {\"color\": \"rgb(55, 83, 109)\"}}, {\"type\": \"bar\", \"x\": [0, 1, 2, 3, 4, 5, 6, 7, 8, 9, 10, 11, 12, 13, 14, 15, 16, 17, 18, 19, 20, 21, 22, 23, 24, 25, 26, 27, 28, 29, 30, 31, 32, 33, 34, 35, 36, 37, 38, 39, 40, 41, 42], \"y\": [0.006802721088435374, 0.05442176870748299, 0.05442176870748299, 0.034013605442176874, 0.047619047619047616, 0.047619047619047616, 0.013605442176870748, 0.034013605442176874, 0.034013605442176874, 0.034013605442176874, 0.047619047619047616, 0.034013605442176874, 0.047619047619047616, 0.05442176870748299, 0.02040816326530612, 0.02040816326530612, 0.013605442176870748, 0.027210884353741496, 0.027210884353741496, 0.006802721088435374, 0.013605442176870748, 0.013605442176870748, 0.013605442176870748, 0.013605442176870748, 0.006802721088435374, 0.034013605442176874, 0.013605442176870748, 0.006802721088435374, 0.013605442176870748, 0.006802721088435374, 0.013605442176870748, 0.02040816326530612, 0.006802721088435374, 0.02040816326530612, 0.013605442176870748, 0.027210884353741496, 0.013605442176870748, 0.006802721088435374, 0.047619047619047616, 0.006802721088435374, 0.013605442176870748, 0.006802721088435374, 0.006802721088435374], \"name\": \"valid\", \"marker\": {\"color\": \"rgb(26, 118, 255)\"}}, {\"type\": \"bar\", \"x\": [0, 1, 2, 3, 4, 5, 6, 7, 8, 9, 10, 11, 12, 13, 14, 15, 16, 17, 18, 19, 20, 21, 22, 23, 24, 25, 26, 27, 28, 29, 30, 31, 32, 33, 34, 35, 36, 37, 38, 39, 40, 41, 42], \"y\": [0.004750593824228029, 0.057007125890736345, 0.05938242280285035, 0.035629453681710214, 0.052256532066508314, 0.0498812351543943, 0.011876484560570071, 0.035629453681710214, 0.035629453681710214, 0.03800475059382423, 0.052256532066508314, 0.0332541567695962, 0.05463182897862233, 0.057007125890736345, 0.021377672209026127, 0.0166270783847981, 0.011876484560570071, 0.028503562945368172, 0.030878859857482184, 0.004750593824228029, 0.007125890736342043, 0.007125890736342043, 0.009501187648456057, 0.011876484560570071, 0.007125890736342043, 0.03800475059382423, 0.014251781472684086, 0.004750593824228029, 0.011876484560570071, 0.007125890736342043, 0.011876484560570071, 0.021377672209026127, 0.004750593824228029, 0.0166270783847981, 0.009501187648456057, 0.030878859857482184, 0.009501187648456057, 0.004750593824228029, 0.05463182897862233, 0.007125890736342043, 0.007125890736342043, 0.004750593824228029, 0.007125890736342043], \"name\": \"test\", \"marker\": {\"color\": \"rgb(250, 118, 0)\"}}], {\"title\": \"Sign Class Distribution of Train, Test and Validation Sets\", \"xaxis\": {\"title\": \"sign class\", \"tickfont\": {\"size\": 14, \"color\": \"rgb(107, 107, 107)\"}}, \"yaxis\": {\"title\": \"probability\", \"titlefont\": {\"size\": 16, \"color\": \"rgb(107, 107, 107)\"}, \"tickfont\": {\"size\": 14, \"color\": \"rgb(107, 107, 107)\"}}, \"legend\": {\"x\": 1.0, \"y\": 1.0, \"bgcolor\": \"rgba(255, 255, 255, 0)\", \"bordercolor\": \"rgba(255, 255, 255, 0)\"}, \"barmode\": \"group\", \"bargap\": 0.15, \"bargroupgap\": 0.1}, {\"showLink\": true, \"linkText\": \"Export to plot.ly\"})});</script>"
      ],
      "text/vnd.plotly.v1+html": [
       "<div id=\"f531280d-31ff-45de-b746-af4c4ac60b46\" style=\"height: 525px; width: 100%;\" class=\"plotly-graph-div\"></div><script type=\"text/javascript\">require([\"plotly\"], function(Plotly) { window.PLOTLYENV=window.PLOTLYENV || {};window.PLOTLYENV.BASE_URL=\"https://plot.ly\";Plotly.newPlot(\"f531280d-31ff-45de-b746-af4c4ac60b46\", [{\"type\": \"bar\", \"x\": [0, 1, 2, 3, 4, 5, 6, 7, 8, 9, 10, 11, 12, 13, 14, 15, 16, 17, 18, 19, 20, 21, 22, 23, 24, 25, 26, 27, 28, 29, 30, 31, 32, 33, 34, 35, 36, 37, 38, 39, 40, 41, 42], \"y\": [0.005172562429954884, 0.056898186729503725, 0.057760280467829536, 0.03620793700968419, 0.05086353056122302, 0.04741515560791977, 0.010345124859909767, 0.03707003074801, 0.03620793700968419, 0.037932124486335816, 0.051725624299548835, 0.033621655794706745, 0.054311905514526276, 0.055173999252852095, 0.01982815598149372, 0.015517687289864652, 0.010345124859909767, 0.028449093364751862, 0.031035374579729304, 0.005172562429954884, 0.00862093738325814, 0.007758843644932326, 0.009483031121583954, 0.012931406074887209, 0.006896749906606512, 0.03879421822466163, 0.015517687289864652, 0.006034656168280698, 0.013793499813213024, 0.006896749906606512, 0.011207218598235582, 0.01982815598149372, 0.006034656168280698, 0.017213138308572084, 0.010345124859909767, 0.031035374579729304, 0.009483031121583954, 0.005172562429954884, 0.053449811776200465, 0.007758843644932326, 0.00862093738325814, 0.006034656168280698, 0.006034656168280698], \"name\": \"train\", \"marker\": {\"color\": \"rgb(55, 83, 109)\"}}, {\"type\": \"bar\", \"x\": [0, 1, 2, 3, 4, 5, 6, 7, 8, 9, 10, 11, 12, 13, 14, 15, 16, 17, 18, 19, 20, 21, 22, 23, 24, 25, 26, 27, 28, 29, 30, 31, 32, 33, 34, 35, 36, 37, 38, 39, 40, 41, 42], \"y\": [0.006802721088435374, 0.05442176870748299, 0.05442176870748299, 0.034013605442176874, 0.047619047619047616, 0.047619047619047616, 0.013605442176870748, 0.034013605442176874, 0.034013605442176874, 0.034013605442176874, 0.047619047619047616, 0.034013605442176874, 0.047619047619047616, 0.05442176870748299, 0.02040816326530612, 0.02040816326530612, 0.013605442176870748, 0.027210884353741496, 0.027210884353741496, 0.006802721088435374, 0.013605442176870748, 0.013605442176870748, 0.013605442176870748, 0.013605442176870748, 0.006802721088435374, 0.034013605442176874, 0.013605442176870748, 0.006802721088435374, 0.013605442176870748, 0.006802721088435374, 0.013605442176870748, 0.02040816326530612, 0.006802721088435374, 0.02040816326530612, 0.013605442176870748, 0.027210884353741496, 0.013605442176870748, 0.006802721088435374, 0.047619047619047616, 0.006802721088435374, 0.013605442176870748, 0.006802721088435374, 0.006802721088435374], \"name\": \"valid\", \"marker\": {\"color\": \"rgb(26, 118, 255)\"}}, {\"type\": \"bar\", \"x\": [0, 1, 2, 3, 4, 5, 6, 7, 8, 9, 10, 11, 12, 13, 14, 15, 16, 17, 18, 19, 20, 21, 22, 23, 24, 25, 26, 27, 28, 29, 30, 31, 32, 33, 34, 35, 36, 37, 38, 39, 40, 41, 42], \"y\": [0.004750593824228029, 0.057007125890736345, 0.05938242280285035, 0.035629453681710214, 0.052256532066508314, 0.0498812351543943, 0.011876484560570071, 0.035629453681710214, 0.035629453681710214, 0.03800475059382423, 0.052256532066508314, 0.0332541567695962, 0.05463182897862233, 0.057007125890736345, 0.021377672209026127, 0.0166270783847981, 0.011876484560570071, 0.028503562945368172, 0.030878859857482184, 0.004750593824228029, 0.007125890736342043, 0.007125890736342043, 0.009501187648456057, 0.011876484560570071, 0.007125890736342043, 0.03800475059382423, 0.014251781472684086, 0.004750593824228029, 0.011876484560570071, 0.007125890736342043, 0.011876484560570071, 0.021377672209026127, 0.004750593824228029, 0.0166270783847981, 0.009501187648456057, 0.030878859857482184, 0.009501187648456057, 0.004750593824228029, 0.05463182897862233, 0.007125890736342043, 0.007125890736342043, 0.004750593824228029, 0.007125890736342043], \"name\": \"test\", \"marker\": {\"color\": \"rgb(250, 118, 0)\"}}], {\"title\": \"Sign Class Distribution of Train, Test and Validation Sets\", \"xaxis\": {\"title\": \"sign class\", \"tickfont\": {\"size\": 14, \"color\": \"rgb(107, 107, 107)\"}}, \"yaxis\": {\"title\": \"probability\", \"titlefont\": {\"size\": 16, \"color\": \"rgb(107, 107, 107)\"}, \"tickfont\": {\"size\": 14, \"color\": \"rgb(107, 107, 107)\"}}, \"legend\": {\"x\": 1.0, \"y\": 1.0, \"bgcolor\": \"rgba(255, 255, 255, 0)\", \"bordercolor\": \"rgba(255, 255, 255, 0)\"}, \"barmode\": \"group\", \"bargap\": 0.15, \"bargroupgap\": 0.1}, {\"showLink\": true, \"linkText\": \"Export to plot.ly\"})});</script>"
      ]
     },
     "metadata": {},
     "output_type": "display_data"
    }
   ],
   "source": [
    "train = go.Bar(\n",
    "    x = y_train_elements,\n",
    "    y = normalied_prob(y_train_dist),\n",
    "    name='train',\n",
    "    marker=dict(\n",
    "        color='rgb(55, 83, 109)'\n",
    "    )\n",
    ")\n",
    "valid = go.Bar(\n",
    "    x = y_valid_elements,\n",
    "    y = normalied_prob(y_valid_dist),\n",
    "    name='valid',\n",
    "    marker=dict(\n",
    "        color='rgb(26, 118, 255)'\n",
    "    )\n",
    ")\n",
    "test = go.Bar(\n",
    "    x = y_test_elements,\n",
    "    y = normalied_prob(y_test_dist),\n",
    "    name='test',\n",
    "    marker=dict(\n",
    "        color='rgb(250, 118, 0)'\n",
    "    )\n",
    ")\n",
    "data = [train, valid, test]\n",
    "layout = go.Layout(\n",
    "    title='Sign Class Distribution of Train, Test and Validation Sets',\n",
    "    xaxis=dict(\n",
    "        title='sign class',\n",
    "        tickfont=dict(\n",
    "            size=14,\n",
    "            color='rgb(107, 107, 107)'\n",
    "        )\n",
    "    ),\n",
    "    yaxis=dict(\n",
    "        title='probability',\n",
    "        titlefont=dict(\n",
    "            size=16,\n",
    "            color='rgb(107, 107, 107)'\n",
    "        ),\n",
    "        tickfont=dict(\n",
    "            size=14,\n",
    "            color='rgb(107, 107, 107)'\n",
    "        )\n",
    "    ),\n",
    "    legend=dict(\n",
    "        x=1.0,\n",
    "        y=1.0,\n",
    "        bgcolor='rgba(255, 255, 255, 0)',\n",
    "        bordercolor='rgba(255, 255, 255, 0)'\n",
    "    ),\n",
    "    barmode='group',\n",
    "    bargap=0.15,\n",
    "    bargroupgap=0.1\n",
    ")\n",
    "\n",
    "fig = go.Figure(data=data, layout=layout)\n",
    "plotly.offline.iplot(fig, filename='style-bar')"
   ]
  },
  {
   "cell_type": "code",
   "execution_count": 20,
   "metadata": {},
   "outputs": [
    {
     "data": {
      "text/plain": [
       "0.038218943004819192"
      ]
     },
     "execution_count": 20,
     "metadata": {},
     "output_type": "execute_result"
    }
   ],
   "source": [
    "np.sum(np.abs(normalied_prob(y_train_dist) - normalied_prob(y_test_dist)))"
   ]
  },
  {
   "cell_type": "markdown",
   "metadata": {},
   "source": [
    "* conslusion: the distribution of three datasets are almost the same"
   ]
  },
  {
   "cell_type": "markdown",
   "metadata": {},
   "source": [
    "## Stratified Sampling"
   ]
  },
  {
   "cell_type": "code",
   "execution_count": 10,
   "metadata": {},
   "outputs": [],
   "source": [
    "class batch_Generator_StratifiedSampling:\n",
    "    \"\"\"\n",
    "    Generate batches with stratified Sampling\n",
    "    args:\n",
    "        class_dist: the balanced label distribution of all samples (test, valid, train)\n",
    "        tr_X: train features\n",
    "        tr_Y: train labels\n",
    "        \n",
    "    returns:\n",
    "        batch generator pairs: (train_index, test_index), use train_X[test_index], train_Y[test_index] to get batch for model training.\n",
    "    \"\"\"\n",
    "    def __init__(self, class_dist, tr_X, tr_Y, batchsize = None):\n",
    "        self.class_dist = class_dist\n",
    "        self.tr_X = tr_X\n",
    "        self.tr_Y = tr_Y\n",
    "        \n",
    "        # make sure all the classes are in each batch\n",
    "        # The class distribution of the batch match that of mother \n",
    "        self.batchsize = np.sum(np.round(class_dist/min(class_dist))) if (batchsize == None) else batchsize # default is min_batch_size\n",
    "        \n",
    "        self.t_size = self.batchsize / tr_X.shape[0]\n",
    "        self.num_split = math.ceil(tr_X.shape[0]/self.batchsize)\n",
    "    \n",
    "    def batches(self):\n",
    "\n",
    "        # draw sample for 1 epoch\n",
    "        sss = StratifiedShuffleSplit(n_splits=self.num_split, test_size=self.t_size, random_state=0)\n",
    "        sss.get_n_splits(self.tr_X, self.tr_Y)\n",
    "        return sss.split(self.tr_X, self.tr_Y)"
   ]
  },
  {
   "cell_type": "markdown",
   "metadata": {},
   "source": [
    "----\n",
    "\n",
    "## Preprocessing\n",
    "\n",
    "Design and implement a deep learning model that learns to recognize traffic signs. Train and test your model on the [German Traffic Sign Dataset](http://benchmark.ini.rub.de/?section=gtsrb&subsection=dataset).\n",
    "\n",
    "There are various aspects to consider when thinking about this problem:\n",
    "\n",
    "- Neural network architecture (is the network over or underfitting?)\n",
    "- Play around preprocessing techniques (normalization, rgb to grayscale, etc)\n",
    "- Number of examples per label (some have more than others).\n",
    "- Generate fake data.\n",
    "\n",
    "Here is an example of a [published baseline model on this problem](http://yann.lecun.com/exdb/publis/pdf/sermanet-ijcnn-11.pdf). It's not required to be familiar with the approach used in the paper but, it's good practice to try to read papers like these."
   ]
  },
  {
   "cell_type": "markdown",
   "metadata": {},
   "source": [
    "### Changing Color-space"
   ]
  },
  {
   "cell_type": "markdown",
   "metadata": {},
   "source": [
    "> For HSV, Hue range is [0,179], Saturation range is [0,255] and Value range is [0,255]."
   ]
  },
  {
   "cell_type": "markdown",
   "metadata": {},
   "source": [
    "> `mpimg.imread()` will read in an **RGB** image: convert to grayscale using `cv2.COLOR_RGB2GRAY`\n",
    "\n",
    "> `cv2.imread()` or the **glob API** will read in a **BGR** image: convert to grayscale using `cv2.COLOR_BGR2GRAY`."
   ]
  },
  {
   "cell_type": "markdown",
   "metadata": {},
   "source": [
    "> dtype=uint8  pixel range is [0,255]"
   ]
  },
  {
   "cell_type": "code",
   "execution_count": 11,
   "metadata": {},
   "outputs": [],
   "source": [
    "# ref: https://docs.opencv.org/3.2.0/df/d9d/tutorial_py_colorspaces.html\n",
    "def HSV_space(img):\n",
    "    return cv2.cvtColor(img, cv2.COLOR_RGB2HSV)\n",
    "\n",
    "def image_Normalization(img_batches):\n",
    "    return ((np.float32(img_batches)-128.0) / 128.0)\n",
    "\n",
    "def grayscale(img_batches):\n",
    "    # cv2.cvtColor(img, cv2.COLOR_RGB2GRAY)\n",
    "    return np.expand_dims(0.21 * img_batches[:,:,:,0] + 0.72 * img_batches[:,:,:,1] + 0.07 * img_batches[:,:,:,2], axis=-1)\n",
    "\n",
    "def grayscale_cv2(img):\n",
    "    return cv2.cvtColor(img, cv2.COLOR_RGB2GRAY)"
   ]
  },
  {
   "cell_type": "code",
   "execution_count": 12,
   "metadata": {},
   "outputs": [],
   "source": [
    "## Label Binarizer for classes\n",
    "def OneHotEncoding(y_class):\n",
    "    lb = preprocessing.LabelBinarizer()\n",
    "    lb.fit(y_class)\n",
    "    return lb\n",
    "\n",
    "def batch_iteration(train_x, train_y, batch_size, start=0):\n",
    "    n_sample = train_x.shape[0]\n",
    "    n = start\n",
    "    for i in range(0, n_sample, batch_size):\n",
    "        yield (n, train_x[i:i + batch_size], train_y[i:i + batch_size])\n",
    "        n += 1"
   ]
  },
  {
   "cell_type": "code",
   "execution_count": 13,
   "metadata": {},
   "outputs": [],
   "source": [
    "def HistEqualizer(grayscale_img):\n",
    "    return cv2.equalizeHist(grayscale_img)\n",
    "\n",
    "def ClaheEqualizer(grayscale_img, tileSize = 8, clipLim = 2.0):\n",
    "    clahe = cv2.createCLAHE(clipLimit=clipLim, tileGridSize=(tileSize,tileSize))\n",
    "    return clahe.apply(grayscale_img)"
   ]
  },
  {
   "cell_type": "markdown",
   "metadata": {},
   "source": [
    "### Histogram Equalization\n",
    "\n",
    "* Enhancing the contrast in an image, bringing out details which were hard to see before.\n",
    "* ref: https://docs.opencv.org/3.1.0/d5/daf/tutorial_py_histogram_equalization.html\n",
    "\n",
    "* CLAHE (Contrast Limited Adaptive Histogram Equalization)\n",
    "\n",
    "With **adaptive histogram equalization**, image is divided into small tiles. Then each of these titles are histogram equalized as usual. So in a small area, histogram would confine to a small region (unless there is noise). If *noise* is there, it will be amplified. To avoid this, contrast limiting is applied. If any histogram bin is above the specified contrast limit, those pixels are clipped and distributed uniformly to other bins before applying histogram equalization. After equalization, to remove *artifacts in tile borders*, bilinear interpolation is applied."
   ]
  },
  {
   "cell_type": "code",
   "execution_count": 14,
   "metadata": {},
   "outputs": [],
   "source": [
    "def plot_of_equalizer(img):\n",
    "    # equalizer\n",
    "    equ_img = cv2.equalizeHist(img)\n",
    "    # clahe\n",
    "    clahe = cv2.createCLAHE(clipLimit=2.0, tileGridSize=(8,8))\n",
    "    cl_img = clahe.apply(img)\n",
    "\n",
    "    # stacking images side-by-side\n",
    "    res = np.hstack((img, equ_img, cl_img))\n",
    "    plt.imshow(res);\n",
    "    plt.axis('off');\n",
    "    return (img, equ_img, cl_img)\n",
    "\n",
    "def plot_of_grayscaleHistogram(imgs):\n",
    "    origin_img, equ_img, cl_img = imgs\n",
    "    # Three subplots sharing both x/y axes\n",
    "    f, (ax1, ax2, ax3) = plt.subplots(3, sharex=True, sharey=True)\n",
    "    ax1.hist(origin_img.flatten(),256,[0,256], color = 'r')\n",
    "    ax1.set_title('grayscale histogram of original img, histo equalizer, Clahe')\n",
    "    ax2.hist(equ_img.flatten(),256,[0,256], color = 'r')\n",
    "    ax3.hist(cl_img.flatten(),256,[0,256], color = 'r')\n",
    "    # Fine-tune figure; make subplots close to each other and hide x ticks for\n",
    "    # all but bottom plot.\n",
    "    f.subplots_adjust(hspace=0)\n",
    "    plt.setp([a.get_xticklabels() for a in f.axes[:-1]], visible=False)\n",
    "    plt.show()"
   ]
  },
  {
   "cell_type": "code",
   "execution_count": 15,
   "metadata": {},
   "outputs": [
    {
     "data": {
      "image/png": "[encoded data removed]",
      "text/plain": [
       "<matplotlib.figure.Figure at 0xc42af5f438>"
      ]
     },
     "metadata": {},
     "output_type": "display_data"
    },
    {
     "data": {
      "image/png": "[encoded data removed]",
      "text/plain": [
       "<matplotlib.figure.Figure at 0xc42af5f8d0>"
      ]
     },
     "metadata": {},
     "output_type": "display_data"
    }
   ],
   "source": [
    "img = X_train[50]\n",
    "grayscale_img = grayscale_cv2(img)\n",
    "equalizer_images = plot_of_equalizer(grayscale_img)\n",
    "plot_of_grayscaleHistogram(equalizer_images)"
   ]
  },
  {
   "cell_type": "markdown",
   "metadata": {},
   "source": [
    "## Model"
   ]
  },
  {
   "cell_type": "markdown",
   "metadata": {},
   "source": [
    "* Example\n",
    "  - Input width = 13\n",
    "  - Filter width = 6\n",
    "  - Stride = 5\n",
    "\n",
    "* \"VALID\" = without padding:"
   ]
  },
  {
   "cell_type": "code",
   "execution_count": 633,
   "metadata": {},
   "outputs": [],
   "source": [
    "\"\"\"\n",
    "inputs:     1  2  3  4  5  6  7  8  9  10  11  (12  13)\n",
    "            |______________|                 dropped\n",
    "                           |________________|\n",
    "\"\"\";"
   ]
  },
  {
   "cell_type": "markdown",
   "metadata": {},
   "source": [
    "* \"SAME\" = with zero padding:"
   ]
  },
  {
   "cell_type": "code",
   "execution_count": 634,
   "metadata": {},
   "outputs": [],
   "source": [
    "\"\"\"\n",
    "         pad|                                           |pad\n",
    "  inputs: 0-|-1--2--3--4--5--6--7--8--9--10--11--12--13-|-0--0\n",
    "          |_______________|\n",
    "                          |_______________|\n",
    "                                          |__________________|\n",
    "\"\"\";"
   ]
  },
  {
   "cell_type": "markdown",
   "metadata": {},
   "source": [
    "> **VALID** only ever drops the right-most columns (or bottom-most rows).\n",
    "\n",
    "> **SAME** tries to pad evenly left and right, but if the amount of columns to be added is odd, it will add the extra column to the right, as is the case in this example (the same logic applies vertically: there may be an extra row of zeros at the bottom)."
   ]
  },
  {
   "cell_type": "markdown",
   "metadata": {},
   "source": [
    "### parameters"
   ]
  },
  {
   "cell_type": "markdown",
   "metadata": {},
   "source": [
    "![LeNet Architecture](img/LeNet.png)"
   ]
  },
  {
   "cell_type": "code",
   "execution_count": 16,
   "metadata": {},
   "outputs": [],
   "source": [
    "# Training Parameters\n",
    "learning_rate = 0.0001\n",
    "epochs = 20\n",
    "logs_path = 'tensorboard_logs'\n",
    "\n",
    "# Network Parameters\n",
    "n_classes = np.unique(y_train).shape[0] # 43 traffic sign classes/labels there are in the dataset.\n",
    "dropout = 0.8  # Dropout, probability to keep units\n",
    "\n",
    "\n",
    "# Tensorboard graph\n",
    "g = tf.Graph()"
   ]
  },
  {
   "cell_type": "code",
   "execution_count": 17,
   "metadata": {},
   "outputs": [],
   "source": [
    "def conv2fc(input_height, input_width, filter_size, stride, layers):\n",
    "    \n",
    "    con2fc_height = input_height\n",
    "    con2fc_width = input_width\n",
    "    for i in layers:\n",
    "        con2fc_height = np.ceil((con2fc_height - filter_size[i] + 1) / stride[i])\n",
    "        con2fc_width = np.ceil((con2fc_width - filter_size[i] + 1) / stride[i])\n",
    "    return int(con2fc_height) * int(con2fc_width)"
   ]
  },
  {
   "cell_type": "code",
   "execution_count": 18,
   "metadata": {},
   "outputs": [
    {
     "name": "stdout",
     "output_type": "stream",
     "text": [
      "Layer conv_1 depth is 6\n",
      "Layer conv_2 depth is 16\n",
      "Layer  fc_1 depth is 1024\n",
      "Layer  fc_2 depth is 129\n",
      "Layer   out depth is 43\n"
     ]
    }
   ],
   "source": [
    "layers = ['conv_1', 'maxpool_1', 'conv_2', 'maxpool_2']\n",
    "\n",
    "# (img shape: 32*32)\n",
    "layer_input = {\n",
    "     'depth': 1\n",
    "    ,'height': X_train.shape[1]\n",
    "    ,'width': X_train.shape[2]\n",
    "}\n",
    "\n",
    "layer_depth = {\n",
    "    'conv_1': 6\n",
    "    ,'conv_2': 16\n",
    "    ,'fc_1': 1024\n",
    "    ,'fc_2': 129\n",
    "    ,'out': n_classes\n",
    "}\n",
    "\n",
    "# a kernel size of 5\n",
    "filter_size={\n",
    "    'conv_1': 5\n",
    "    ,'maxpool_1': 2\n",
    "    ,'conv_2': 5\n",
    "    ,'maxpool_2': 2\n",
    "}\n",
    "\n",
    "stride = {\n",
    "    'conv_1': 1\n",
    "    ,'maxpool_1': 2\n",
    "    ,'conv_2': 1\n",
    "    ,'maxpool_2': 2\n",
    "}\n",
    "\n",
    "# xavier_initializer\n",
    "# ref https://www.tensorflow.org/api_docs/python/tf/contrib/layers/xavier_initializer\n",
    "# tf.truncated_normal(shape=[dims[l-1],dims[l]], mean=mu[l], stddev=std[l], dtype=tf.float64)\n",
    "    \n",
    "for k,v in sorted(layer_depth.items()):\n",
    "    print(\"Layer %5s depth is %s\"%(k,v))"
   ]
  },
  {
   "cell_type": "markdown",
   "metadata": {},
   "source": [
    "### Architecture"
   ]
  },
  {
   "cell_type": "code",
   "execution_count": 19,
   "metadata": {},
   "outputs": [],
   "source": [
    "# SAME Padding, the output height and width are computed as:\n",
    "# out_height = ceil(float(in_height) / float(strides[1]))\n",
    "# out_width = ceil(float(in_width) / float(strides[2]))\n",
    "\n",
    "# VALID Padding, the output height and width are computed as:\n",
    "# out_height = ceil(float(in_height - filter_height + 1) / float(strides[1]))\n",
    "# out_width = ceil(float(in_width - filter_width + 1) / float(strides[2]))\n",
    "\n",
    "def conv2d(x, W, b, stride):\n",
    "    x = tf.nn.conv2d(x, W, strides=[1, stride, stride, 1], padding='VALID')\n",
    "    x = tf.nn.bias_add(x, b)\n",
    "    return tf.nn.relu(x)\n",
    "\n",
    "def maxpool2d(x, k, s):\n",
    "    # Tensor input is 4-D: [Batch Size, Height, Width, Feature(Channel)]\n",
    "    return tf.nn.max_pool(x, ksize=[1, k, k, 1], strides=[1, s, s, 1], padding='VALID')\n",
    "\n",
    "def fullycon(x, w, b):\n",
    "    return tf.nn.relu(tf.nn.xw_plus_b(tf.contrib.layers.flatten(x), w, b))\n",
    "\n",
    "def conv_net(x, weights, biases, dropout):\n",
    "    # Input\n",
    "    print (\"input shape is: \" + str(x.shape))\n",
    "    \n",
    "    # Layer 1 \n",
    "    conv1 = conv2d(x, weights['conv1'], biases['conv1'], stride['conv_1'])\n",
    "    print (\"conv1 shape is: \" + str(conv1.shape))\n",
    "\n",
    "    conv1 = maxpool2d(conv1, filter_size['maxpool_1'], stride['maxpool_1'])\n",
    "    print (\"maxpool1 shape is: \" + str(conv1.shape))\n",
    "\n",
    "    # Layer 2 \n",
    "    conv2 = conv2d(conv1, weights['conv2'], biases['conv2'], stride['conv_2'])\n",
    "    print (\"conv2 shape is: \" + str(conv2.shape))\n",
    "    \n",
    "    conv2 = maxpool2d(conv2, filter_size['maxpool_1'], stride['maxpool_2'])\n",
    "    print (\"maxpool2 shape is: \" + str(conv2.shape))\n",
    "    \n",
    "    # Layer 3\n",
    "    fc1 = fullycon(conv2, weights['fc1'], biases['fc1'])\n",
    "    print (\"fully connected layer from conv2 {} to fc1 {}\".format(conv2.shape,fc1.shape))\n",
    "    \n",
    "    fc1 = tf.nn.dropout(fc1, dropout)\n",
    "    print (\"fully connected layer 1 dropout is: {}\".format(fc1.shape))\n",
    "    \n",
    "    # Layer 4\n",
    "    fc2 = fullycon(fc1, weights['fc2'], biases['fc2'])\n",
    "    print (\"fully connected layer from fc1 {} to fc2 {}\".format(fc2.shape,fc1.shape))\n",
    "    \n",
    "    fc2 = tf.nn.dropout(fc2, dropout)\n",
    "    print (\"fully connected layer 2 dropout is: {}\".format(fc2.shape))\n",
    "\n",
    "    # Layer 5: output\n",
    "    out = tf.nn.xw_plus_b(fc2, weights['out'], biases['out'])\n",
    "    print (\"output shape is: {}\".format(out.shape))\n",
    "\n",
    "    return out\n",
    "\n",
    "\"\"\"\n",
    "graph computation model\n",
    "\"\"\"\n",
    "\n",
    "# ref: https://github.com/aymericdamien/TensorFlow-Examples/blob/master/examples/4_Utils/tensorboard_basic.py\n",
    "# tf Graph input\n",
    "\n",
    "# g = tf.Graph()\n",
    "\n",
    "# with g.as_default():\n",
    "    \n",
    "x = tf.placeholder(tf.float32, [None, layer_input[\"height\"], layer_input[\"width\"], 1], name='InputData')\n",
    "y = tf.placeholder(tf.float32, [None, n_classes], name='LabelData')\n",
    "keep_prob = tf.placeholder(tf.float32)\n",
    "conv2fc_num = conv2fc(layer_input[\"height\"], layer_input[\"width\"], filter_size, stride, layers)"
   ]
  },
  {
   "cell_type": "code",
   "execution_count": 20,
   "metadata": {},
   "outputs": [
    {
     "name": "stdout",
     "output_type": "stream",
     "text": [
      "Weights for conv1: (5, 5, 1, 6)\n",
      "Weights for conv2: (5, 5, 6, 16)\n",
      "Weights for   fc1: (400, 1024)\n",
      "Weights for   fc2: (1024, 129)\n",
      "Weights for   out: (129, 43)\n"
     ]
    }
   ],
   "source": [
    "weights = {\n",
    "    'conv1': tf.get_variable(\"conv1w\", shape=[filter_size['conv_1'], filter_size['conv_1']\n",
    "                                              , layer_input['depth'], layer_depth['conv_1']]\n",
    "                             , initializer=tf.contrib.layers.xavier_initializer()),\n",
    "    'conv2': tf.get_variable(\"conv2w\", shape=[filter_size['conv_2'], filter_size['conv_2']\n",
    "                                              , layer_depth['conv_1'], layer_depth['conv_2']]\n",
    "                             , initializer=tf.contrib.layers.xavier_initializer()),\n",
    "    'fc1':  tf.get_variable(\"fc1w\", shape=[conv2fc_num * layer_depth['conv_2'], layer_depth['fc_1']]\n",
    "                            , initializer=tf.contrib.layers.xavier_initializer()),\n",
    "    'fc2':  tf.get_variable(\"fc2w\", shape=[layer_depth['fc_1'], layer_depth['fc_2']]\n",
    "                            , initializer=tf.contrib.layers.xavier_initializer()),\n",
    "    'out':  tf.get_variable(\"out1w\", shape=[layer_depth['fc_2'], layer_depth['out']]\n",
    "                            , initializer=tf.contrib.layers.xavier_initializer())\n",
    "}\n",
    "\n",
    "# ref https://www.leiphone.com/news/201703/3qMp45aQtbxTdzmK.html\n",
    "biases = {\n",
    "    'conv1': tf.get_variable(\"conv1b\", shape=[layer_depth['conv_1']], initializer=tf.contrib.layers.xavier_initializer()),\n",
    "    'conv2': tf.get_variable(\"conv2b\", shape=[layer_depth['conv_2']], initializer=tf.contrib.layers.xavier_initializer()),\n",
    "    'fc1': tf.get_variable(\"fc1b\", shape=[layer_depth['fc_1']], initializer=tf.contrib.layers.xavier_initializer()),\n",
    "    'fc2': tf.get_variable(\"fc2b\", shape=[layer_depth['fc_2']], initializer=tf.contrib.layers.xavier_initializer()),\n",
    "    'out': tf.get_variable(\"out1b\", shape=[layer_depth['out']], initializer=tf.contrib.layers.xavier_initializer())\n",
    "}\n",
    "\n",
    "for k,v in sorted(weights.items()):\n",
    "    print(\"Weights for %5s: %s\"%(k,v.shape))\n",
    "\n"
   ]
  },
  {
   "cell_type": "code",
   "execution_count": 21,
   "metadata": {},
   "outputs": [
    {
     "name": "stdout",
     "output_type": "stream",
     "text": [
      "input shape is: (?, 32, 32, 1)\n",
      "conv1 shape is: (?, 28, 28, 6)\n",
      "maxpool1 shape is: (?, 14, 14, 6)\n",
      "conv2 shape is: (?, 10, 10, 16)\n",
      "maxpool2 shape is: (?, 5, 5, 16)\n",
      "fully connected layer from conv2 (?, 5, 5, 16) to fc1 (?, 1024)\n",
      "fully connected layer 1 dropout is: (?, 1024)\n",
      "fully connected layer from fc1 (?, 129) to fc2 (?, 1024)\n",
      "fully connected layer 2 dropout is: (?, 129)\n",
      "output shape is: (?, 43)\n"
     ]
    }
   ],
   "source": [
    "# with tf.name_scope('Model'):\n",
    "logits = conv_net(x, weights, biases, keep_prob)\n",
    "\n",
    "# with tf.name_scope('Cost'):\n",
    "cost = tf.reduce_mean(tf.nn.softmax_cross_entropy_with_logits(logits=logits, labels=y))\n",
    "optimizer = tf.train.GradientDescentOptimizer(learning_rate=learning_rate).minimize(cost)\n",
    "# optimizer = tf.train.AdamOptimizer(learning_rate=learning_rate).minimize(cost)\n",
    "\n",
    "\n",
    "# with tf.name_scope('Accuracy'):\n",
    "correct_pred = tf.equal(tf.argmax(logits, 1), tf.argmax(y, 1))\n",
    "accuracy = tf.reduce_mean(tf.cast(correct_pred, tf.float32))\n",
    "\n",
    "# Create a summary to monitor cost tensor\n",
    "tf.summary.scalar(\"loss\", cost)\n",
    "# Create a summary to monitor accuracy tensor\n",
    "tf.summary.scalar(\"accuracy\", accuracy)\n",
    "# Merge all summaries into a single op\n",
    "merged_summary_op = tf.summary.merge_all()"
   ]
  },
  {
   "cell_type": "markdown",
   "metadata": {},
   "source": [
    "### Data preprocessing"
   ]
  },
  {
   "cell_type": "code",
   "execution_count": 22,
   "metadata": {},
   "outputs": [],
   "source": [
    "def BatchClaheEqualizer(imgs, method, tileSize = 8, clipLim = 2.0):\n",
    "    sample_num = imgs.shape[0]\n",
    "    final_imgs = np.zeros((imgs.shape[0],imgs.shape[1],imgs.shape[2]), dtype=np.int)\n",
    "    \n",
    "    if method = \"clahe\":    \n",
    "        clahe = cv2.createCLAHE(clipLimit=clipLim, tileGridSize=(tileSize,tileSize))\n",
    "        for i in range(sample_num):\n",
    "            final_imgs[i] = clahe.apply(cv2.cvtColor(imgs[i], cv2.COLOR_RGB2GRAY))\n",
    "        return np.expand_dims(final_imgs, axis=-1)\n",
    "    elif method = \"hist\":\n",
    "        for i in range(sample_num):\n",
    "            final_imgs[i] = cv2.equalizeHist(cv2.cvtColor(imgs[i], cv2.COLOR_RGB2GRAY))\n",
    "        return np.expand_dims(final_imgs, axis=-1)\n",
    "    else:    \n",
    "        for i in range(sample_num):\n",
    "            final_imgs[i] = cv2.cvtColor(imgs[i], cv2.COLOR_RGB2GRAY)\n",
    "        return imgs"
   ]
  },
  {
   "cell_type": "code",
   "execution_count": 23,
   "metadata": {},
   "outputs": [],
   "source": [
    "X_train_equ = BatchClaheEqualizer(X_train)\n",
    "X_train_input = image_Normalization(X_train_equ)\n",
    "\n",
    "X_valid_equ = BatchClaheEqualizer(X_valid)\n",
    "X_valid_input = image_Normalization(X_valid_equ)\n",
    "\n",
    "X_test_equ = BatchClaheEqualizer(X_test)\n",
    "X_test_input = image_Normalization(X_test_equ)"
   ]
  },
  {
   "cell_type": "code",
   "execution_count": 24,
   "metadata": {},
   "outputs": [],
   "source": [
    "ohe = OneHotEncoding(signNames_pd[\"ClassId\"])"
   ]
  },
  {
   "cell_type": "code",
   "execution_count": 25,
   "metadata": {},
   "outputs": [],
   "source": [
    "y_train_input = ohe.transform(y_train)\n",
    "y_valid_input = ohe.transform(y_valid)\n",
    "y_test_input = ohe.transform(y_test)"
   ]
  },
  {
   "cell_type": "markdown",
   "metadata": {},
   "source": [
    "### train, evaluation and test"
   ]
  },
  {
   "cell_type": "code",
   "execution_count": 26,
   "metadata": {},
   "outputs": [],
   "source": [
    "import time"
   ]
  },
  {
   "cell_type": "code",
   "execution_count": 27,
   "metadata": {},
   "outputs": [],
   "source": [
    "# Initializing the variables\n",
    "init = tf.global_variables_initializer()\n",
    "\n",
    "tf.summary.FileWriter(\"logs\", g).close()"
   ]
  },
  {
   "cell_type": "code",
   "execution_count": 28,
   "metadata": {},
   "outputs": [
    {
     "name": "stdout",
     "output_type": "stream",
     "text": [
      "Epoch  1/20, Batch 181/181 - Loss:        3.8 Validation Accuracy: 0.033787\n",
      "Testing Accuracy: 0.03689627721905708\n",
      "Epoch  2/20, Batch 181/181 - Loss:        3.8 Validation Accuracy: 0.042857\n",
      "Testing Accuracy: 0.04370546340942383\n",
      "Epoch  3/20, Batch 181/181 - Loss:        3.8 Validation Accuracy: 0.047166\n",
      "Testing Accuracy: 0.04845605790615082\n",
      "Epoch  4/20, Batch 181/181 - Loss:        3.7 Validation Accuracy: 0.048980\n",
      "Testing Accuracy: 0.050514645874500275\n",
      "Epoch  5/20, Batch 181/181 - Loss:        3.7 Validation Accuracy: 0.051247\n",
      "Testing Accuracy: 0.05186064913868904\n",
      "Epoch  6/20, Batch 181/181 - Loss:        3.7 Validation Accuracy: 0.051474\n",
      "Testing Accuracy: 0.053998418152332306\n",
      "Epoch  7/20, Batch 181/181 - Loss:        3.7 Validation Accuracy: 0.051701\n",
      "Testing Accuracy: 0.05621536076068878\n",
      "Epoch  8/20, Batch 181/181 - Loss:        3.7 Validation Accuracy: 0.051247\n",
      "Testing Accuracy: 0.05827395245432854\n",
      "Epoch  9/20, Batch 181/181 - Loss:        3.7 Validation Accuracy: 0.053061\n",
      "Testing Accuracy: 0.06072842329740524\n",
      "Epoch 10/20, Batch 181/181 - Loss:        3.7 Validation Accuracy: 0.054649\n",
      "Testing Accuracy: 0.06484560668468475\n",
      "Epoch 11/20, Batch 181/181 - Loss:        3.7 Validation Accuracy: 0.058277\n",
      "Testing Accuracy: 0.06880443543195724\n",
      "Epoch 12/20, Batch 181/181 - Loss:        3.6 Validation Accuracy: 0.059184\n",
      "Testing Accuracy: 0.07030878961086273\n",
      "Epoch 13/20, Batch 181/181 - Loss:        3.6 Validation Accuracy: 0.059864\n",
      "Testing Accuracy: 0.07062549144029617\n",
      "Epoch 14/20, Batch 181/181 - Loss:        3.6 Validation Accuracy: 0.060091\n",
      "Testing Accuracy: 0.06825020164251328\n",
      "Epoch 15/20, Batch 181/181 - Loss:        3.6 Validation Accuracy: 0.056689\n",
      "Testing Accuracy: 0.07078384608030319\n",
      "Epoch 16/20, Batch 181/181 - Loss:        3.6 Validation Accuracy: 0.056916\n",
      "Testing Accuracy: 0.07307996600866318\n",
      "Epoch 17/20, Batch 181/181 - Loss:        3.6 Validation Accuracy: 0.059184\n",
      "Testing Accuracy: 0.07371337711811066\n",
      "Epoch 18/20, Batch 181/181 - Loss:        3.6 Validation Accuracy: 0.058730\n",
      "Testing Accuracy: 0.0741092637181282\n",
      "Epoch 19/20, Batch 181/181 - Loss:        3.6 Validation Accuracy: 0.059637\n",
      "Testing Accuracy: 0.0733174979686737\n",
      "Epoch 20/20, Batch 181/181 - Loss:        3.6 Validation Accuracy: 0.059637\n",
      "Testing Accuracy: 0.07268408685922623\n",
      "--- 647.0157487392426 seconds ---\n"
     ]
    }
   ],
   "source": [
    "start_time = time.time()\n",
    "\n",
    "# Launch the graph\n",
    "with tf.Session() as sess:\n",
    "    sess.run(init)\n",
    "\n",
    "    for epoch in range(epochs):\n",
    "        \n",
    "        # get batch generator\n",
    "        bgss = batch_Generator_StratifiedSampling(y_train_dist, X_train_input, y_train_input)\n",
    "        get_nextBatch = bgss.batches()\n",
    "        \n",
    "        batch_id = 0\n",
    "        for _, train_index in get_nextBatch:  # for batch_id, batch_x, batch_y in batch_iteration(X_train_input, y_train_input, batch_size):\n",
    "            batch_id += 1\n",
    "            batch_x = X_train_input[train_index]\n",
    "            batch_y = y_train_input[train_index]\n",
    "            sess.run(optimizer, feed_dict={x: batch_x, y: batch_y, keep_prob: dropout})\n",
    "\n",
    "            # Calculate batch loss and accuracy\n",
    "            loss = sess.run(cost, feed_dict={x: batch_x, y: batch_y, keep_prob: 1.})\n",
    "            \n",
    "        valid_acc = sess.run(accuracy, feed_dict={\n",
    "            x: X_valid_input,\n",
    "            y: y_valid_input,\n",
    "            keep_prob: 1.})\n",
    "        print('Epoch {:>2}/{}, Batch {:>3}/{} - Loss: {:>10.1f} Validation Accuracy: {:.6f}'.format(\n",
    "            epoch + 1,\n",
    "            epochs,\n",
    "            batch_id,\n",
    "            bgss.num_split,\n",
    "            loss,\n",
    "            valid_acc))\n",
    "\n",
    "        # Calculate Test Accuracy\n",
    "        test_acc = sess.run(accuracy, feed_dict={\n",
    "            x: X_test_input,\n",
    "            y: y_test_input,\n",
    "            keep_prob: 1.})\n",
    "        print('Testing Accuracy: {}'.format(test_acc))\n",
    "    \n",
    "print(\"--- %s seconds ---\" % (time.time() - start_time))"
   ]
  },
  {
   "cell_type": "code",
   "execution_count": null,
   "metadata": {},
   "outputs": [],
   "source": []
  },
  {
   "cell_type": "code",
   "execution_count": null,
   "metadata": {},
   "outputs": [],
   "source": []
  },
  {
   "cell_type": "code",
   "execution_count": null,
   "metadata": {},
   "outputs": [],
   "source": []
  },
  {
   "cell_type": "markdown",
   "metadata": {},
   "source": [
    "### Histogram of Oriented Gradient (HOG) features \n",
    "ref http://scikit-image.org/docs/dev/auto_examples/features_detection/plot_hog.html"
   ]
  },
  {
   "cell_type": "code",
   "execution_count": 609,
   "metadata": {},
   "outputs": [
    {
     "data": {
      "image/png": "[encoded data removed]",
      "text/plain": [
       "<matplotlib.figure.Figure at 0x9b1dbdc7f0>"
      ]
     },
     "metadata": {},
     "output_type": "display_data"
    }
   ],
   "source": [
    "import matplotlib.pyplot as plt\n",
    "\n",
    "from skimage.feature import hog\n",
    "from skimage import data, exposure\n",
    "\n",
    "\n",
    "image = plt.imread(\"img//mixed5a_9_examples.jpg\")\n",
    "image = image[:,:,0]\n",
    "\n",
    "fd, hog_image = hog(image, orientations=8, pixels_per_cell=(16, 16),\n",
    "                    cells_per_block=(1, 1), visualise=True, block_norm=\"L2-Hys\")\n",
    "\n",
    "fig, (ax1, ax2) = plt.subplots(1, 2, figsize=(8, 4), sharex=True, sharey=True)\n",
    "\n",
    "ax1.axis('off')\n",
    "ax1.imshow(image, cmap=plt.cm.gray)\n",
    "ax1.set_title('Input image')\n",
    "ax1.set_adjustable('box-forced')\n",
    "\n",
    "# Rescale histogram for better display\n",
    "hog_image_rescaled = exposure.rescale_intensity(hog_image, in_range=(0, 10))\n",
    "\n",
    "ax2.axis('off')\n",
    "ax2.imshow(hog_image_rescaled, cmap=plt.cm.gray)\n",
    "ax2.set_title('Histogram of Oriented Gradients')\n",
    "ax1.set_adjustable('box-forced')\n",
    "plt.show()"
   ]
  },
  {
   "cell_type": "markdown",
   "metadata": {},
   "source": [
    "<img src=\"./img/HOG.png\" alt=\"Overview\" width=\"400px\" height=\"267px\">"
   ]
  },
  {
   "cell_type": "markdown",
   "metadata": {},
   "source": [
    "## Visualization the Graph"
   ]
  },
  {
   "cell_type": "markdown",
   "metadata": {},
   "source": [
    "### Graphviz"
   ]
  },
  {
   "cell_type": "code",
   "execution_count": 150,
   "metadata": {},
   "outputs": [],
   "source": [
    "def tf_to_dot(graph):\n",
    "    \"\"\"\n",
    "    visualize graph with graphviz\n",
    "    \"\"\"\n",
    "    dot = Digraph()\n",
    "    # initialize node\n",
    "    for n in g.as_graph_def().node:\n",
    "        dot.node(n.name, label=n.name)\n",
    "        \n",
    "        # initialize edge\n",
    "        for i in n.input:\n",
    "            dot.edge(i, n.name) \n",
    "    return dot"
   ]
  },
  {
   "cell_type": "code",
   "execution_count": 152,
   "metadata": {},
   "outputs": [
    {
     "data": {
      "image/svg+xml": [
       "<?xml version=\"1.0\" encoding=\"UTF-8\" standalone=\"no\"?>\r\n",
       "<!DOCTYPE svg PUBLIC \"-//W3C//DTD SVG 1.1//EN\"\r\n",
       " \"http://www.w3.org/Graphics/SVG/1.1/DTD/svg11.dtd\">\r\n",
       "<!-- Generated by graphviz version 2.38.0 (20140413.2041)\r\n",
       " -->\r\n",
       "<!-- Title: %3 Pages: 1 -->\r\n",
       "<svg width=\"518pt\" height=\"620pt\"\r\n",
       " viewBox=\"0.00 0.00 518.45 620.00\" xmlns=\"http://www.w3.org/2000/svg\" xmlns:xlink=\"http://www.w3.org/1999/xlink\">\r\n",
       "<g id=\"graph0\" class=\"graph\" transform=\"scale(1 1) rotate(0) translate(4 616)\">\r\n",
       "<title>%3</title>\r\n",
       "<polygon fill=\"white\" stroke=\"none\" points=\"-4,4 -4,-616 514.446,-616 514.446,4 -4,4\"/>\r\n",
       "<!-- X -->\r\n",
       "<g id=\"node1\" class=\"node\"><title>X</title>\r\n",
       "<ellipse fill=\"none\" stroke=\"black\" cx=\"27\" cy=\"-594\" rx=\"27\" ry=\"18\"/>\r\n",
       "<text text-anchor=\"middle\" x=\"27\" y=\"-590.3\" font-family=\"Times New Roman,serif\" font-size=\"14.00\">X</text>\r\n",
       "</g>\r\n",
       "<!-- Layer1/MatMul -->\r\n",
       "<g id=\"node4\" class=\"node\"><title>Layer1/MatMul</title>\r\n",
       "<ellipse fill=\"none\" stroke=\"black\" cx=\"75\" cy=\"-522\" rx=\"66.0889\" ry=\"18\"/>\r\n",
       "<text text-anchor=\"middle\" x=\"75\" y=\"-518.3\" font-family=\"Times New Roman,serif\" font-size=\"14.00\">Layer1/MatMul</text>\r\n",
       "</g>\r\n",
       "<!-- X&#45;&gt;Layer1/MatMul -->\r\n",
       "<g id=\"edge1\" class=\"edge\"><title>X&#45;&gt;Layer1/MatMul</title>\r\n",
       "<path fill=\"none\" stroke=\"black\" d=\"M37.8919,-577.116C43.7369,-568.592 51.0781,-557.886 57.6848,-548.251\"/>\r\n",
       "<polygon fill=\"black\" stroke=\"black\" points=\"60.713,-550.024 63.4818,-539.797 54.9399,-546.065 60.713,-550.024\"/>\r\n",
       "</g>\r\n",
       "<!-- Layer1/W1 -->\r\n",
       "<g id=\"node2\" class=\"node\"><title>Layer1/W1</title>\r\n",
       "<ellipse fill=\"none\" stroke=\"black\" cx=\"123\" cy=\"-594\" rx=\"51.1914\" ry=\"18\"/>\r\n",
       "<text text-anchor=\"middle\" x=\"123\" y=\"-590.3\" font-family=\"Times New Roman,serif\" font-size=\"14.00\">Layer1/W1</text>\r\n",
       "</g>\r\n",
       "<!-- Layer1/W1&#45;&gt;Layer1/MatMul -->\r\n",
       "<g id=\"edge2\" class=\"edge\"><title>Layer1/W1&#45;&gt;Layer1/MatMul</title>\r\n",
       "<path fill=\"none\" stroke=\"black\" d=\"M111.625,-576.411C105.91,-568.077 98.8609,-557.797 92.4777,-548.488\"/>\r\n",
       "<polygon fill=\"black\" stroke=\"black\" points=\"95.169,-546.224 86.6271,-539.956 89.3959,-550.183 95.169,-546.224\"/>\r\n",
       "</g>\r\n",
       "<!-- Layer1/b1 -->\r\n",
       "<g id=\"node3\" class=\"node\"><title>Layer1/b1</title>\r\n",
       "<ellipse fill=\"none\" stroke=\"black\" cx=\"207\" cy=\"-522\" rx=\"47.3916\" ry=\"18\"/>\r\n",
       "<text text-anchor=\"middle\" x=\"207\" y=\"-518.3\" font-family=\"Times New Roman,serif\" font-size=\"14.00\">Layer1/b1</text>\r\n",
       "</g>\r\n",
       "<!-- Layer1/add -->\r\n",
       "<g id=\"node5\" class=\"node\"><title>Layer1/add</title>\r\n",
       "<ellipse fill=\"none\" stroke=\"black\" cx=\"141\" cy=\"-450\" rx=\"51.9908\" ry=\"18\"/>\r\n",
       "<text text-anchor=\"middle\" x=\"141\" y=\"-446.3\" font-family=\"Times New Roman,serif\" font-size=\"14.00\">Layer1/add</text>\r\n",
       "</g>\r\n",
       "<!-- Layer1/b1&#45;&gt;Layer1/add -->\r\n",
       "<g id=\"edge4\" class=\"edge\"><title>Layer1/b1&#45;&gt;Layer1/add</title>\r\n",
       "<path fill=\"none\" stroke=\"black\" d=\"M191.692,-504.765C183.399,-495.969 172.99,-484.928 163.764,-475.144\"/>\r\n",
       "<polygon fill=\"black\" stroke=\"black\" points=\"166.09,-472.508 156.683,-467.633 160.997,-477.31 166.09,-472.508\"/>\r\n",
       "</g>\r\n",
       "<!-- Layer1/MatMul&#45;&gt;Layer1/add -->\r\n",
       "<g id=\"edge3\" class=\"edge\"><title>Layer1/MatMul&#45;&gt;Layer1/add</title>\r\n",
       "<path fill=\"none\" stroke=\"black\" d=\"M90.6411,-504.411C98.9428,-495.606 109.293,-484.628 118.448,-474.919\"/>\r\n",
       "<polygon fill=\"black\" stroke=\"black\" points=\"121.158,-477.147 125.471,-467.47 116.064,-472.345 121.158,-477.147\"/>\r\n",
       "</g>\r\n",
       "<!-- Layer1/Relu -->\r\n",
       "<g id=\"node6\" class=\"node\"><title>Layer1/Relu</title>\r\n",
       "<ellipse fill=\"none\" stroke=\"black\" cx=\"141\" cy=\"-378\" rx=\"54.6905\" ry=\"18\"/>\r\n",
       "<text text-anchor=\"middle\" x=\"141\" y=\"-374.3\" font-family=\"Times New Roman,serif\" font-size=\"14.00\">Layer1/Relu</text>\r\n",
       "</g>\r\n",
       "<!-- Layer1/add&#45;&gt;Layer1/Relu -->\r\n",
       "<g id=\"edge5\" class=\"edge\"><title>Layer1/add&#45;&gt;Layer1/Relu</title>\r\n",
       "<path fill=\"none\" stroke=\"black\" d=\"M141,-431.697C141,-423.983 141,-414.712 141,-406.112\"/>\r\n",
       "<polygon fill=\"black\" stroke=\"black\" points=\"144.5,-406.104 141,-396.104 137.5,-406.104 144.5,-406.104\"/>\r\n",
       "</g>\r\n",
       "<!-- Layer2/MatMul -->\r\n",
       "<g id=\"node9\" class=\"node\"><title>Layer2/MatMul</title>\r\n",
       "<ellipse fill=\"none\" stroke=\"black\" cx=\"203\" cy=\"-306\" rx=\"66.0889\" ry=\"18\"/>\r\n",
       "<text text-anchor=\"middle\" x=\"203\" y=\"-302.3\" font-family=\"Times New Roman,serif\" font-size=\"14.00\">Layer2/MatMul</text>\r\n",
       "</g>\r\n",
       "<!-- Layer1/Relu&#45;&gt;Layer2/MatMul -->\r\n",
       "<g id=\"edge6\" class=\"edge\"><title>Layer1/Relu&#45;&gt;Layer2/MatMul</title>\r\n",
       "<path fill=\"none\" stroke=\"black\" d=\"M155.693,-360.411C163.303,-351.82 172.745,-341.159 181.187,-331.627\"/>\r\n",
       "<polygon fill=\"black\" stroke=\"black\" points=\"183.971,-333.763 187.982,-323.956 178.731,-329.121 183.971,-333.763\"/>\r\n",
       "</g>\r\n",
       "<!-- Layer2/W2 -->\r\n",
       "<g id=\"node7\" class=\"node\"><title>Layer2/W2</title>\r\n",
       "<ellipse fill=\"none\" stroke=\"black\" cx=\"265\" cy=\"-378\" rx=\"51.1914\" ry=\"18\"/>\r\n",
       "<text text-anchor=\"middle\" x=\"265\" y=\"-374.3\" font-family=\"Times New Roman,serif\" font-size=\"14.00\">Layer2/W2</text>\r\n",
       "</g>\r\n",
       "<!-- Layer2/W2&#45;&gt;Layer2/MatMul -->\r\n",
       "<g id=\"edge7\" class=\"edge\"><title>Layer2/W2&#45;&gt;Layer2/MatMul</title>\r\n",
       "<path fill=\"none\" stroke=\"black\" d=\"M250.307,-360.411C242.697,-351.82 233.255,-341.159 224.813,-331.627\"/>\r\n",
       "<polygon fill=\"black\" stroke=\"black\" points=\"227.269,-329.121 218.018,-323.956 222.029,-333.763 227.269,-329.121\"/>\r\n",
       "</g>\r\n",
       "<!-- Layer2/b2 -->\r\n",
       "<g id=\"node8\" class=\"node\"><title>Layer2/b2</title>\r\n",
       "<ellipse fill=\"none\" stroke=\"black\" cx=\"335\" cy=\"-306\" rx=\"47.3916\" ry=\"18\"/>\r\n",
       "<text text-anchor=\"middle\" x=\"335\" y=\"-302.3\" font-family=\"Times New Roman,serif\" font-size=\"14.00\">Layer2/b2</text>\r\n",
       "</g>\r\n",
       "<!-- Layer2/add -->\r\n",
       "<g id=\"node10\" class=\"node\"><title>Layer2/add</title>\r\n",
       "<ellipse fill=\"none\" stroke=\"black\" cx=\"269\" cy=\"-234\" rx=\"51.9908\" ry=\"18\"/>\r\n",
       "<text text-anchor=\"middle\" x=\"269\" y=\"-230.3\" font-family=\"Times New Roman,serif\" font-size=\"14.00\">Layer2/add</text>\r\n",
       "</g>\r\n",
       "<!-- Layer2/b2&#45;&gt;Layer2/add -->\r\n",
       "<g id=\"edge9\" class=\"edge\"><title>Layer2/b2&#45;&gt;Layer2/add</title>\r\n",
       "<path fill=\"none\" stroke=\"black\" d=\"M319.692,-288.765C311.399,-279.969 300.99,-268.928 291.764,-259.144\"/>\r\n",
       "<polygon fill=\"black\" stroke=\"black\" points=\"294.09,-256.508 284.683,-251.633 288.997,-261.31 294.09,-256.508\"/>\r\n",
       "</g>\r\n",
       "<!-- Layer2/MatMul&#45;&gt;Layer2/add -->\r\n",
       "<g id=\"edge8\" class=\"edge\"><title>Layer2/MatMul&#45;&gt;Layer2/add</title>\r\n",
       "<path fill=\"none\" stroke=\"black\" d=\"M218.641,-288.411C226.943,-279.606 237.293,-268.628 246.448,-258.919\"/>\r\n",
       "<polygon fill=\"black\" stroke=\"black\" points=\"249.158,-261.147 253.471,-251.47 244.064,-256.345 249.158,-261.147\"/>\r\n",
       "</g>\r\n",
       "<!-- Layer2/Relu -->\r\n",
       "<g id=\"node11\" class=\"node\"><title>Layer2/Relu</title>\r\n",
       "<ellipse fill=\"none\" stroke=\"black\" cx=\"269\" cy=\"-162\" rx=\"54.6905\" ry=\"18\"/>\r\n",
       "<text text-anchor=\"middle\" x=\"269\" y=\"-158.3\" font-family=\"Times New Roman,serif\" font-size=\"14.00\">Layer2/Relu</text>\r\n",
       "</g>\r\n",
       "<!-- Layer2/add&#45;&gt;Layer2/Relu -->\r\n",
       "<g id=\"edge10\" class=\"edge\"><title>Layer2/add&#45;&gt;Layer2/Relu</title>\r\n",
       "<path fill=\"none\" stroke=\"black\" d=\"M269,-215.697C269,-207.983 269,-198.712 269,-190.112\"/>\r\n",
       "<polygon fill=\"black\" stroke=\"black\" points=\"272.5,-190.104 269,-180.104 265.5,-190.104 272.5,-190.104\"/>\r\n",
       "</g>\r\n",
       "<!-- Layer3/MatMul -->\r\n",
       "<g id=\"node14\" class=\"node\"><title>Layer3/MatMul</title>\r\n",
       "<ellipse fill=\"none\" stroke=\"black\" cx=\"331\" cy=\"-90\" rx=\"66.0889\" ry=\"18\"/>\r\n",
       "<text text-anchor=\"middle\" x=\"331\" y=\"-86.3\" font-family=\"Times New Roman,serif\" font-size=\"14.00\">Layer3/MatMul</text>\r\n",
       "</g>\r\n",
       "<!-- Layer2/Relu&#45;&gt;Layer3/MatMul -->\r\n",
       "<g id=\"edge11\" class=\"edge\"><title>Layer2/Relu&#45;&gt;Layer3/MatMul</title>\r\n",
       "<path fill=\"none\" stroke=\"black\" d=\"M283.693,-144.411C291.303,-135.82 300.745,-125.159 309.187,-115.627\"/>\r\n",
       "<polygon fill=\"black\" stroke=\"black\" points=\"311.971,-117.763 315.982,-107.956 306.731,-113.121 311.971,-117.763\"/>\r\n",
       "</g>\r\n",
       "<!-- Layer3/W3 -->\r\n",
       "<g id=\"node12\" class=\"node\"><title>Layer3/W3</title>\r\n",
       "<ellipse fill=\"none\" stroke=\"black\" cx=\"393\" cy=\"-162\" rx=\"51.1914\" ry=\"18\"/>\r\n",
       "<text text-anchor=\"middle\" x=\"393\" y=\"-158.3\" font-family=\"Times New Roman,serif\" font-size=\"14.00\">Layer3/W3</text>\r\n",
       "</g>\r\n",
       "<!-- Layer3/W3&#45;&gt;Layer3/MatMul -->\r\n",
       "<g id=\"edge12\" class=\"edge\"><title>Layer3/W3&#45;&gt;Layer3/MatMul</title>\r\n",
       "<path fill=\"none\" stroke=\"black\" d=\"M378.307,-144.411C370.697,-135.82 361.255,-125.159 352.813,-115.627\"/>\r\n",
       "<polygon fill=\"black\" stroke=\"black\" points=\"355.269,-113.121 346.018,-107.956 350.029,-117.763 355.269,-113.121\"/>\r\n",
       "</g>\r\n",
       "<!-- Layer3/b3 -->\r\n",
       "<g id=\"node13\" class=\"node\"><title>Layer3/b3</title>\r\n",
       "<ellipse fill=\"none\" stroke=\"black\" cx=\"463\" cy=\"-90\" rx=\"47.3916\" ry=\"18\"/>\r\n",
       "<text text-anchor=\"middle\" x=\"463\" y=\"-86.3\" font-family=\"Times New Roman,serif\" font-size=\"14.00\">Layer3/b3</text>\r\n",
       "</g>\r\n",
       "<!-- Layer3/add -->\r\n",
       "<g id=\"node15\" class=\"node\"><title>Layer3/add</title>\r\n",
       "<ellipse fill=\"none\" stroke=\"black\" cx=\"397\" cy=\"-18\" rx=\"51.9908\" ry=\"18\"/>\r\n",
       "<text text-anchor=\"middle\" x=\"397\" y=\"-14.3\" font-family=\"Times New Roman,serif\" font-size=\"14.00\">Layer3/add</text>\r\n",
       "</g>\r\n",
       "<!-- Layer3/b3&#45;&gt;Layer3/add -->\r\n",
       "<g id=\"edge14\" class=\"edge\"><title>Layer3/b3&#45;&gt;Layer3/add</title>\r\n",
       "<path fill=\"none\" stroke=\"black\" d=\"M447.692,-72.7646C439.399,-63.9689 428.99,-52.9283 419.764,-43.144\"/>\r\n",
       "<polygon fill=\"black\" stroke=\"black\" points=\"422.09,-40.5083 412.683,-35.6334 416.997,-45.3104 422.09,-40.5083\"/>\r\n",
       "</g>\r\n",
       "<!-- Layer3/MatMul&#45;&gt;Layer3/add -->\r\n",
       "<g id=\"edge13\" class=\"edge\"><title>Layer3/MatMul&#45;&gt;Layer3/add</title>\r\n",
       "<path fill=\"none\" stroke=\"black\" d=\"M346.641,-72.411C354.943,-63.6062 365.293,-52.6282 374.448,-42.9189\"/>\r\n",
       "<polygon fill=\"black\" stroke=\"black\" points=\"377.158,-45.1469 381.471,-35.4699 372.064,-40.3448 377.158,-45.1469\"/>\r\n",
       "</g>\r\n",
       "</g>\r\n",
       "</svg>\r\n"
      ],
      "text/plain": [
       "<graphviz.dot.Digraph at 0x9aa6b41048>"
      ]
     },
     "execution_count": 152,
     "metadata": {},
     "output_type": "execute_result"
    }
   ],
   "source": [
    "g = tf.Graph()\n",
    "\n",
    "with g.as_default():\n",
    "    X = tf.placeholder(tf.float32, name=\"X\")\n",
    "    \n",
    "    with tf.name_scope(\"Layer1\"):\n",
    "        W1 = tf.placeholder(tf.float32, name=\"W1\")\n",
    "        b1 = tf.placeholder(tf.float32, name=\"b1\")\n",
    "\n",
    "        a1 = tf.nn.relu(tf.matmul(X, W1) + b1)\n",
    "    \n",
    "    with tf.name_scope(\"Layer2\"):\n",
    "        W2 = tf.placeholder(tf.float32, name=\"W2\")\n",
    "        b2 = tf.placeholder(tf.float32, name=\"b2\")\n",
    "\n",
    "        a2 = tf.nn.relu(tf.matmul(a1, W2) + b2)\n",
    "\n",
    "    with tf.name_scope(\"Layer3\"):\n",
    "        W3 = tf.placeholder(tf.float32, name=\"W3\")\n",
    "        b3 = tf.placeholder(tf.float32, name=\"b3\")\n",
    "\n",
    "        y_hat = tf.matmul(a2, W3) + b3\n",
    "    \n",
    "tf.summary.FileWriter(\"logs\", g).close()\n",
    "tf_to_dot(g)"
   ]
  },
  {
   "cell_type": "markdown",
   "metadata": {},
   "source": [
    "###  TensorBoard on local server"
   ]
  },
  {
   "cell_type": "markdown",
   "metadata": {},
   "source": [
    "**TensorBoard** allows us to easily visualize the computational graph. \n",
    "\n",
    "All we need to do is save it using the `tf.summary.FileWriter`, \n",
    "which takes a directory and a graph, and serializes the graph in a format that **TensorBoard** can read. \n",
    "The directory can be anything you'd like, \n",
    "just make sure you point to the same directory using the \n",
    "`tensorboard --logdir=DIR`\n",
    "command (DIR being the directory you specified to the FileWriter)."
   ]
  },
  {
   "cell_type": "markdown",
   "metadata": {},
   "source": [
    "**TensorBoard** was taken out of the **TensorFlow** repo in tensorflow 1.40.\n",
    "Open a console and run `python -m tensorboard.main --logdir=DIR` as replacement for `tensorboard --logdir=DIR`\n",
    "This will launch an instance of **TensorBoard** which you can access at `http://localhost:6006`. \n",
    "Then navigate to the Graphs section and you should see a graph which was created in `tf.Graph()`.\n",
    "\n",
    "The command `tensorboard --logdir=DIR` will launch **TensorBoard** from **Tensorflow** and causes `ModuleNotFoundError`."
   ]
  },
  {
   "cell_type": "code",
   "execution_count": 143,
   "metadata": {},
   "outputs": [],
   "source": [
    "# We write the graph out to the `logs` directory\n",
    "tf.summary.FileWriter(\"logs\", g).close()   # python -m tensorboard.main --logdir=logs"
   ]
  },
  {
   "cell_type": "markdown",
   "metadata": {},
   "source": [
    "###  TensorBoard on Jupyter notebook"
   ]
  },
  {
   "cell_type": "markdown",
   "metadata": {},
   "source": [
    "[Reference on StackOverflow](https://stackoverflow.com/questions/41388673/visualizing-a-tensorflow-graph-in-jupyter-doesnt-work/41463991#41463991): It basically takes the `tf.GraphDef`, sends it over to the cloud, and embeds an `<iframe>` with the resulting visualization right in the **Jupyter notebook**."
   ]
  },
  {
   "cell_type": "code",
   "execution_count": 106,
   "metadata": {},
   "outputs": [],
   "source": [
    "def strip_consts(graph_def, max_const_size=32):\n",
    "    \"\"\"Strip large constant values from graph_def.\"\"\"\n",
    "    strip_def = tf.GraphDef()\n",
    "    for n0 in graph_def.node:\n",
    "        n = strip_def.node.add() \n",
    "        n.MergeFrom(n0)\n",
    "        if n.op == 'Const':\n",
    "            tensor = n.attr['value'].tensor\n",
    "            size = len(tensor.tensor_content)\n",
    "            if size > max_const_size:\n",
    "                tensor.tensor_content = \"<stripped %d bytes>\"%size\n",
    "    return strip_def\n",
    "\n",
    "def show_graph(graph_def, max_const_size=32):\n",
    "    \"\"\"Visualize TensorFlow graph.\"\"\"\n",
    "    if hasattr(graph_def, 'as_graph_def'):\n",
    "        graph_def = graph_def.as_graph_def()\n",
    "    strip_def = strip_consts(graph_def, max_const_size=max_const_size)\n",
    "    code = \"\"\"\n",
    "        <script src=\"//cdnjs.cloudflare.com/ajax/libs/polymer/0.3.3/platform.js\"></script>\n",
    "        <script>\n",
    "              function load() {{\n",
    "                document.getElementById(\"{id}\").pbtxt = {data};\n",
    "              }}\n",
    "        </script>\n",
    "        \n",
    "        <link rel=\"import\" href=\"https://tensorboard.appspot.com/tf-graph-basic.build.html\" onload=load()>\n",
    "        \n",
    "        <div style=\"height:600px\">\n",
    "              <tf-graph-basic id=\"{id}\"></tf-graph-basic>\n",
    "        </div>\n",
    "    \"\"\".format(data=repr(str(strip_def)), id='graph'+str(np.random.rand()))\n",
    "\n",
    "    iframe = \"\"\"\n",
    "        <iframe seamless style=\"width:1200px;height:620px;border:0\" srcdoc=\"{}\"></iframe>\n",
    "    \"\"\".format(code.replace('\"', '&quot;'))\n",
    "    display(HTML(iframe))"
   ]
  },
  {
   "cell_type": "code",
   "execution_count": 154,
   "metadata": {},
   "outputs": [
    {
     "data": {
      "text/html": [
       "\n",
       "        <iframe seamless style=\"width:1200px;height:620px;border:0\" srcdoc=\"\n",
       "        <script src=&quot;//cdnjs.cloudflare.com/ajax/libs/polymer/0.3.3/platform.js&quot;></script>\n",
       "        <script>\n",
       "              function load() {\n",
       "                document.getElementById(&quot;graph0.7435941902083114&quot;).pbtxt = 'node {\\n  name: &quot;X&quot;\\n  op: &quot;Placeholder&quot;\\n  attr {\\n    key: &quot;dtype&quot;\\n    value {\\n      type: DT_FLOAT\\n    }\\n  }\\n  attr {\\n    key: &quot;shape&quot;\\n    value {\\n      shape {\\n        unknown_rank: true\\n      }\\n    }\\n  }\\n}\\nnode {\\n  name: &quot;Layer1/W1&quot;\\n  op: &quot;Placeholder&quot;\\n  attr {\\n    key: &quot;dtype&quot;\\n    value {\\n      type: DT_FLOAT\\n    }\\n  }\\n  attr {\\n    key: &quot;shape&quot;\\n    value {\\n      shape {\\n        unknown_rank: true\\n      }\\n    }\\n  }\\n}\\nnode {\\n  name: &quot;Layer1/b1&quot;\\n  op: &quot;Placeholder&quot;\\n  attr {\\n    key: &quot;dtype&quot;\\n    value {\\n      type: DT_FLOAT\\n    }\\n  }\\n  attr {\\n    key: &quot;shape&quot;\\n    value {\\n      shape {\\n        unknown_rank: true\\n      }\\n    }\\n  }\\n}\\nnode {\\n  name: &quot;Layer1/MatMul&quot;\\n  op: &quot;BatchMatMul&quot;\\n  input: &quot;X&quot;\\n  input: &quot;Layer1/W1&quot;\\n  attr {\\n    key: &quot;T&quot;\\n    value {\\n      type: DT_FLOAT\\n    }\\n  }\\n  attr {\\n    key: &quot;adj_x&quot;\\n    value {\\n      b: false\\n    }\\n  }\\n  attr {\\n    key: &quot;adj_y&quot;\\n    value {\\n      b: false\\n    }\\n  }\\n}\\nnode {\\n  name: &quot;Layer1/add&quot;\\n  op: &quot;Add&quot;\\n  input: &quot;Layer1/MatMul&quot;\\n  input: &quot;Layer1/b1&quot;\\n  attr {\\n    key: &quot;T&quot;\\n    value {\\n      type: DT_FLOAT\\n    }\\n  }\\n}\\nnode {\\n  name: &quot;Layer1/Relu&quot;\\n  op: &quot;Relu&quot;\\n  input: &quot;Layer1/add&quot;\\n  attr {\\n    key: &quot;T&quot;\\n    value {\\n      type: DT_FLOAT\\n    }\\n  }\\n}\\nnode {\\n  name: &quot;Layer2/W2&quot;\\n  op: &quot;Placeholder&quot;\\n  attr {\\n    key: &quot;dtype&quot;\\n    value {\\n      type: DT_FLOAT\\n    }\\n  }\\n  attr {\\n    key: &quot;shape&quot;\\n    value {\\n      shape {\\n        unknown_rank: true\\n      }\\n    }\\n  }\\n}\\nnode {\\n  name: &quot;Layer2/b2&quot;\\n  op: &quot;Placeholder&quot;\\n  attr {\\n    key: &quot;dtype&quot;\\n    value {\\n      type: DT_FLOAT\\n    }\\n  }\\n  attr {\\n    key: &quot;shape&quot;\\n    value {\\n      shape {\\n        unknown_rank: true\\n      }\\n    }\\n  }\\n}\\nnode {\\n  name: &quot;Layer2/MatMul&quot;\\n  op: &quot;BatchMatMul&quot;\\n  input: &quot;Layer1/Relu&quot;\\n  input: &quot;Layer2/W2&quot;\\n  attr {\\n    key: &quot;T&quot;\\n    value {\\n      type: DT_FLOAT\\n    }\\n  }\\n  attr {\\n    key: &quot;adj_x&quot;\\n    value {\\n      b: false\\n    }\\n  }\\n  attr {\\n    key: &quot;adj_y&quot;\\n    value {\\n      b: false\\n    }\\n  }\\n}\\nnode {\\n  name: &quot;Layer2/add&quot;\\n  op: &quot;Add&quot;\\n  input: &quot;Layer2/MatMul&quot;\\n  input: &quot;Layer2/b2&quot;\\n  attr {\\n    key: &quot;T&quot;\\n    value {\\n      type: DT_FLOAT\\n    }\\n  }\\n}\\nnode {\\n  name: &quot;Layer2/Relu&quot;\\n  op: &quot;Relu&quot;\\n  input: &quot;Layer2/add&quot;\\n  attr {\\n    key: &quot;T&quot;\\n    value {\\n      type: DT_FLOAT\\n    }\\n  }\\n}\\nnode {\\n  name: &quot;Layer3/W3&quot;\\n  op: &quot;Placeholder&quot;\\n  attr {\\n    key: &quot;dtype&quot;\\n    value {\\n      type: DT_FLOAT\\n    }\\n  }\\n  attr {\\n    key: &quot;shape&quot;\\n    value {\\n      shape {\\n        unknown_rank: true\\n      }\\n    }\\n  }\\n}\\nnode {\\n  name: &quot;Layer3/b3&quot;\\n  op: &quot;Placeholder&quot;\\n  attr {\\n    key: &quot;dtype&quot;\\n    value {\\n      type: DT_FLOAT\\n    }\\n  }\\n  attr {\\n    key: &quot;shape&quot;\\n    value {\\n      shape {\\n        unknown_rank: true\\n      }\\n    }\\n  }\\n}\\nnode {\\n  name: &quot;Layer3/MatMul&quot;\\n  op: &quot;BatchMatMul&quot;\\n  input: &quot;Layer2/Relu&quot;\\n  input: &quot;Layer3/W3&quot;\\n  attr {\\n    key: &quot;T&quot;\\n    value {\\n      type: DT_FLOAT\\n    }\\n  }\\n  attr {\\n    key: &quot;adj_x&quot;\\n    value {\\n      b: false\\n    }\\n  }\\n  attr {\\n    key: &quot;adj_y&quot;\\n    value {\\n      b: false\\n    }\\n  }\\n}\\nnode {\\n  name: &quot;Layer3/add&quot;\\n  op: &quot;Add&quot;\\n  input: &quot;Layer3/MatMul&quot;\\n  input: &quot;Layer3/b3&quot;\\n  attr {\\n    key: &quot;T&quot;\\n    value {\\n      type: DT_FLOAT\\n    }\\n  }\\n}\\n';\n",
       "              }\n",
       "        </script>\n",
       "        \n",
       "        <link rel=&quot;import&quot; href=&quot;https://tensorboard.appspot.com/tf-graph-basic.build.html&quot; onload=load()>\n",
       "        \n",
       "        <div style=&quot;height:600px&quot;>\n",
       "              <tf-graph-basic id=&quot;graph0.7435941902083114&quot;></tf-graph-basic>\n",
       "        </div>\n",
       "    \"></iframe>\n",
       "    "
      ],
      "text/plain": [
       "<IPython.core.display.HTML object>"
      ]
     },
     "metadata": {},
     "output_type": "display_data"
    }
   ],
   "source": [
    "show_graph(g)"
   ]
  },
  {
   "cell_type": "code",
   "execution_count": null,
   "metadata": {},
   "outputs": [],
   "source": []
  },
  {
   "cell_type": "markdown",
   "metadata": {},
   "source": [
    "### Train, Validate and Test the Model"
   ]
  },
  {
   "cell_type": "markdown",
   "metadata": {},
   "source": [
    "A validation set can be used to assess how well the model is performing. A low accuracy on the training and validation\n",
    "sets imply underfitting. A high accuracy on the training set but low accuracy on the validation set implies overfitting."
   ]
  },
  {
   "cell_type": "code",
   "execution_count": 1,
   "metadata": {
    "collapsed": true
   },
   "outputs": [],
   "source": [
    "### Train your model here.\n",
    "### Calculate and report the accuracy on the training and validation set.\n",
    "### Once a final model architecture is selected, \n",
    "### the accuracy on the test set should be calculated and reported as well.\n",
    "### Feel free to use as many code cells as needed."
   ]
  },
  {
   "cell_type": "code",
   "execution_count": null,
   "metadata": {},
   "outputs": [],
   "source": []
  },
  {
   "cell_type": "markdown",
   "metadata": {},
   "source": [
    "---\n",
    "\n",
    "## Step 3: Test a Model on New Images\n",
    "\n",
    "To give yourself more insight into how your model is working, download at least five pictures of German traffic signs from the web and use your model to predict the traffic sign type.\n",
    "\n",
    "You may find `signnames.csv` useful as it contains mappings from the class id (integer) to the actual sign name."
   ]
  },
  {
   "cell_type": "markdown",
   "metadata": {},
   "source": [
    "### Load and Output the Images"
   ]
  },
  {
   "cell_type": "code",
   "execution_count": null,
   "metadata": {
    "collapsed": true
   },
   "outputs": [],
   "source": [
    "### Load the images and plot them here.\n",
    "### Feel free to use as many code cells as needed."
   ]
  },
  {
   "cell_type": "markdown",
   "metadata": {},
   "source": [
    "### Predict the Sign Type for Each Image"
   ]
  },
  {
   "cell_type": "code",
   "execution_count": 3,
   "metadata": {
    "collapsed": true
   },
   "outputs": [],
   "source": [
    "### Run the predictions here and use the model to output the prediction for each image.\n",
    "### Make sure to pre-process the images with the same pre-processing pipeline used earlier.\n",
    "### Feel free to use as many code cells as needed."
   ]
  },
  {
   "cell_type": "markdown",
   "metadata": {},
   "source": [
    "### Analyze Performance"
   ]
  },
  {
   "cell_type": "code",
   "execution_count": 4,
   "metadata": {
    "collapsed": true
   },
   "outputs": [],
   "source": [
    "### Calculate the accuracy for these 5 new images. \n",
    "### For example, if the model predicted 1 out of 5 signs correctly, it's 20% accurate on these new images."
   ]
  },
  {
   "cell_type": "markdown",
   "metadata": {},
   "source": [
    "### Output Top 5 Softmax Probabilities For Each Image Found on the Web"
   ]
  },
  {
   "cell_type": "markdown",
   "metadata": {},
   "source": [
    "For each of the new images, print out the model's softmax probabilities to show the **certainty** of the model's predictions (limit the output to the top 5 probabilities for each image). [`tf.nn.top_k`](https://www.tensorflow.org/versions/r0.12/api_docs/python/nn.html#top_k) could prove helpful here. \n",
    "\n",
    "The example below demonstrates how tf.nn.top_k can be used to find the top k predictions for each image.\n",
    "\n",
    "`tf.nn.top_k` will return the values and indices (class ids) of the top k predictions. So if k=3, for each sign, it'll return the 3 largest probabilities (out of a possible 43) and the correspoding class ids.\n",
    "\n",
    "Take this numpy array as an example. The values in the array represent predictions. The array contains softmax probabilities for five candidate images with six possible classes. `tf.nn.top_k` is used to choose the three classes with the highest probability:\n",
    "\n",
    "```\n",
    "# (5, 6) array\n",
    "a = np.array([[ 0.24879643,  0.07032244,  0.12641572,  0.34763842,  0.07893497,\n",
    "         0.12789202],\n",
    "       [ 0.28086119,  0.27569815,  0.08594638,  0.0178669 ,  0.18063401,\n",
    "         0.15899337],\n",
    "       [ 0.26076848,  0.23664738,  0.08020603,  0.07001922,  0.1134371 ,\n",
    "         0.23892179],\n",
    "       [ 0.11943333,  0.29198961,  0.02605103,  0.26234032,  0.1351348 ,\n",
    "         0.16505091],\n",
    "       [ 0.09561176,  0.34396535,  0.0643941 ,  0.16240774,  0.24206137,\n",
    "         0.09155967]])\n",
    "```\n",
    "\n",
    "Running it through `sess.run(tf.nn.top_k(tf.constant(a), k=3))` produces:\n",
    "\n",
    "```\n",
    "TopKV2(values=array([[ 0.34763842,  0.24879643,  0.12789202],\n",
    "       [ 0.28086119,  0.27569815,  0.18063401],\n",
    "       [ 0.26076848,  0.23892179,  0.23664738],\n",
    "       [ 0.29198961,  0.26234032,  0.16505091],\n",
    "       [ 0.34396535,  0.24206137,  0.16240774]]), indices=array([[3, 0, 5],\n",
    "       [0, 1, 4],\n",
    "       [0, 5, 1],\n",
    "       [1, 3, 5],\n",
    "       [1, 4, 3]], dtype=int32))\n",
    "```\n",
    "\n",
    "Looking just at the first row we get `[ 0.34763842,  0.24879643,  0.12789202]`, you can confirm these are the 3 largest probabilities in `a`. You'll also notice `[3, 0, 5]` are the corresponding indices."
   ]
  },
  {
   "cell_type": "code",
   "execution_count": 3,
   "metadata": {
    "collapsed": true
   },
   "outputs": [],
   "source": [
    "### Print out the top five softmax probabilities for the predictions on the German traffic sign images found on the web. \n",
    "### Feel free to use as many code cells as needed."
   ]
  },
  {
   "cell_type": "markdown",
   "metadata": {},
   "source": [
    "### Project Writeup\n",
    "\n",
    "Once you have completed the code implementation, document your results in a project writeup using this [template](https://github.com/udacity/CarND-Traffic-Sign-Classifier-Project/blob/master/writeup_template.md) as a guide. The writeup can be in a markdown or pdf file. "
   ]
  },
  {
   "cell_type": "markdown",
   "metadata": {},
   "source": [
    "> **Note**: Once you have completed all of the code implementations and successfully answered each question above, you may finalize your work by exporting the iPython Notebook as an HTML document. You can do this by using the menu above and navigating to  \\n\",\n",
    "    \"**File -> Download as -> HTML (.html)**. Include the finished document along with this notebook as your submission."
   ]
  },
  {
   "cell_type": "markdown",
   "metadata": {},
   "source": [
    "---\n",
    "\n",
    "## Step 4 (Optional): Visualize the Neural Network's State with Test Images\n",
    "\n",
    " This Section is not required to complete but acts as an additional excersise for understaning the output of a neural network's weights. While neural networks can be a great learning device they are often referred to as a black box. We can understand what the weights of a neural network look like better by plotting their feature maps. After successfully training your neural network you can see what it's feature maps look like by plotting the output of the network's weight layers in response to a test stimuli image. From these plotted feature maps, it's possible to see what characteristics of an image the network finds interesting. For a sign, maybe the inner network feature maps react with high activation to the sign's boundary outline or to the contrast in the sign's painted symbol.\n",
    "\n",
    " Provided for you below is the function code that allows you to get the visualization output of any tensorflow weight layer you want. The inputs to the function should be a stimuli image, one used during training or a new one you provided, and then the tensorflow variable name that represents the layer's state during the training process, for instance if you wanted to see what the [LeNet lab's](https://classroom.udacity.com/nanodegrees/nd013/parts/fbf77062-5703-404e-b60c-95b78b2f3f9e/modules/6df7ae49-c61c-4bb2-a23e-6527e69209ec/lessons/601ae704-1035-4287-8b11-e2c2716217ad/concepts/d4aca031-508f-4e0b-b493-e7b706120f81) feature maps looked like for it's second convolutional layer you could enter conv2 as the tf_activation variable.\n",
    "\n",
    "For an example of what feature map outputs look like, check out NVIDIA's results in their paper [End-to-End Deep Learning for Self-Driving Cars](https://devblogs.nvidia.com/parallelforall/deep-learning-self-driving-cars/) in the section Visualization of internal CNN State. NVIDIA was able to show that their network's inner weights had high activations to road boundary lines by comparing feature maps from an image with a clear path to one without. Try experimenting with a similar test to show that your trained network's weights are looking for interesting features, whether it's looking at differences in feature maps from images with or without a sign, or even what feature maps look like in a trained network vs a completely untrained one on the same sign image.\n",
    "\n",
    "<figure>\n",
    " <img src=\"visualize_cnn.png\" width=\"380\" alt=\"Combined Image\" />\n",
    " <figcaption>\n",
    " <p></p> \n",
    " <p style=\"text-align: center;\"> Your output should look something like this (above)</p> \n",
    " </figcaption>\n",
    "</figure>\n",
    " <p></p> \n"
   ]
  },
  {
   "cell_type": "code",
   "execution_count": null,
   "metadata": {
    "collapsed": true
   },
   "outputs": [],
   "source": [
    "### Visualize your network's feature maps here.\n",
    "### Feel free to use as many code cells as needed.\n",
    "\n",
    "# image_input: the test image being fed into the network to produce the feature maps\n",
    "# tf_activation: should be a tf variable name used during your training procedure that represents the calculated state of a specific weight layer\n",
    "# activation_min/max: can be used to view the activation contrast in more detail, by default matplot sets min and max to the actual min and max values of the output\n",
    "# plt_num: used to plot out multiple different weight feature map sets on the same block, just extend the plt number for each new feature map entry\n",
    "\n",
    "def outputFeatureMap(image_input, tf_activation, activation_min=-1, activation_max=-1 ,plt_num=1):\n",
    "    # Here make sure to preprocess your image_input in a way your network expects\n",
    "    # with size, normalization, ect if needed\n",
    "    # image_input =\n",
    "    # Note: x should be the same name as your network's tensorflow data placeholder variable\n",
    "    # If you get an error tf_activation is not defined it may be having trouble accessing the variable from inside a function\n",
    "    activation = tf_activation.eval(session=sess,feed_dict={x : image_input})\n",
    "    featuremaps = activation.shape[3]\n",
    "    plt.figure(plt_num, figsize=(15,15))\n",
    "    for featuremap in range(featuremaps):\n",
    "        plt.subplot(6,8, featuremap+1) # sets the number of feature maps to show on each row and column\n",
    "        plt.title('FeatureMap ' + str(featuremap)) # displays the feature map number\n",
    "        if activation_min != -1 & activation_max != -1:\n",
    "            plt.imshow(activation[0,:,:, featuremap], interpolation=\"nearest\", vmin =activation_min, vmax=activation_max, cmap=\"gray\")\n",
    "        elif activation_max != -1:\n",
    "            plt.imshow(activation[0,:,:, featuremap], interpolation=\"nearest\", vmax=activation_max, cmap=\"gray\")\n",
    "        elif activation_min !=-1:\n",
    "            plt.imshow(activation[0,:,:, featuremap], interpolation=\"nearest\", vmin=activation_min, cmap=\"gray\")\n",
    "        else:\n",
    "            plt.imshow(activation[0,:,:, featuremap], interpolation=\"nearest\", cmap=\"gray\")"
   ]
  },
  {
   "cell_type": "code",
   "execution_count": null,
   "metadata": {},
   "outputs": [],
   "source": [
    "# To do \n"
   ]
  },
  {
   "cell_type": "markdown",
   "metadata": {},
   "source": [
    "### Test accuracy over steps"
   ]
  },
  {
   "cell_type": "code",
   "execution_count": null,
   "metadata": {},
   "outputs": [],
   "source": []
  },
  {
   "cell_type": "markdown",
   "metadata": {},
   "source": [
    "### cost over steps"
   ]
  },
  {
   "cell_type": "code",
   "execution_count": null,
   "metadata": {},
   "outputs": [],
   "source": []
  },
  {
   "cell_type": "markdown",
   "metadata": {},
   "source": [
    "### feature visualization"
   ]
  },
  {
   "cell_type": "code",
   "execution_count": null,
   "metadata": {},
   "outputs": [],
   "source": []
  },
  {
   "cell_type": "markdown",
   "metadata": {},
   "source": [
    "### Archetecture comparison"
   ]
  },
  {
   "cell_type": "code",
   "execution_count": null,
   "metadata": {},
   "outputs": [],
   "source": []
  },
  {
   "cell_type": "markdown",
   "metadata": {},
   "source": [
    "### Confusion table for misclassified images"
   ]
  },
  {
   "cell_type": "code",
   "execution_count": null,
   "metadata": {},
   "outputs": [],
   "source": []
  },
  {
   "cell_type": "markdown",
   "metadata": {},
   "source": [
    "### photo wall"
   ]
  },
  {
   "cell_type": "markdown",
   "metadata": {},
   "source": [
    "### Import useful features"
   ]
  },
  {
   "cell_type": "markdown",
   "metadata": {},
   "source": [
    "### model graph visualization"
   ]
  },
  {
   "cell_type": "markdown",
   "metadata": {},
   "source": [
    "### GAN"
   ]
  },
  {
   "cell_type": "markdown",
   "metadata": {},
   "source": [
    "### Train, test, evaluation class distribution"
   ]
  },
  {
   "cell_type": "markdown",
   "metadata": {},
   "source": [
    "### other preprocessing technique: sharpening, binarize, compution vision techniques"
   ]
  },
  {
   "cell_type": "code",
   "execution_count": 594,
   "metadata": {},
   "outputs": [
    {
     "data": {
      "text/plain": [
       "(3, 382, 188)"
      ]
     },
     "execution_count": 594,
     "metadata": {},
     "output_type": "execute_result"
    }
   ],
   "source": [
    "tmp = mpimg.imread(\"examples//grayscale.jpg\")\n",
    "\n",
    "tmp.shape[]"
   ]
  },
  {
   "cell_type": "code",
   "execution_count": null,
   "metadata": {},
   "outputs": [],
   "source": []
  }
 ],
 "metadata": {
  "anaconda-cloud": {},
  "kernelspec": {
   "display_name": "Python 3",
   "language": "python",
   "name": "python3"
  },
  "language_info": {
   "codemirror_mode": {
    "name": "ipython",
    "version": 3
   },
   "file_extension": ".py",
   "mimetype": "text/x-python",
   "name": "python",
   "nbconvert_exporter": "python",
   "pygments_lexer": "ipython3",
   "version": "3.6.3"
  },
  "nav_menu": {},
  "toc": {
   "navigate_menu": true,
   "number_sections": true,
   "sideBar": false,
   "threshold": 6,
   "toc_cell": true,
   "toc_section_display": "block",
   "toc_window_display": false
  },
  "toc_position": {
   "height": "544px",
   "left": "3px",
   "right": "20px",
   "top": "134px",
   "width": "118px"
  }
 },
 "nbformat": 4,
 "nbformat_minor": 1
}
