{
 "cells": [
  {
   "cell_type": "code",
   "execution_count": 11,
   "metadata": {},
   "outputs": [],
   "source": [
    "import matplotlib.pyplot as plt\n",
    "import cv2\n",
    "import os\n",
    "from os.path import join, basename\n",
    "from collections import deque\n",
    "from lane_detection import color_frame_pipeline\n",
    "import numpy as np\n",
    "%matplotlib inline"
   ]
  },
  {
   "cell_type": "code",
   "execution_count": 20,
   "metadata": {},
   "outputs": [
    {
     "data": {
      "text/plain": [
       "'2.1.1'"
      ]
     },
     "execution_count": 20,
     "metadata": {},
     "output_type": "execute_result"
    }
   ],
   "source": [
    "import matplotlib as mpl\n",
    "mpl.__version__"
   ]
  },
  {
   "cell_type": "code",
   "execution_count": 70,
   "metadata": {},
   "outputs": [],
   "source": [
    "import seaborn as sns"
   ]
  },
  {
   "cell_type": "code",
   "execution_count": 10,
   "metadata": {},
   "outputs": [],
   "source": [
    "plt.style.use('ggplot')"
   ]
  },
  {
   "cell_type": "code",
   "execution_count": 7,
   "metadata": {},
   "outputs": [
    {
     "name": "stdout",
     "output_type": "stream",
     "text": [
      "['bmh', 'classic', 'dark_background', 'fast', 'fivethirtyeight', 'ggplot', 'grayscale', 'seaborn-bright', 'seaborn-colorblind', 'seaborn-dark-palette', 'seaborn-dark', 'seaborn-darkgrid', 'seaborn-deep', 'seaborn-muted', 'seaborn-notebook', 'seaborn-paper', 'seaborn-pastel', 'seaborn-poster', 'seaborn-talk', 'seaborn-ticks', 'seaborn-white', 'seaborn-whitegrid', 'seaborn', 'Solarize_Light2', '_classic_test']\n"
     ]
    }
   ],
   "source": [
    "print(plt.style.available)"
   ]
  },
  {
   "cell_type": "code",
   "execution_count": null,
   "metadata": {},
   "outputs": [],
   "source": []
  },
  {
   "cell_type": "code",
   "execution_count": 67,
   "metadata": {},
   "outputs": [],
   "source": [
    "data = np.array([ 0.01282051,  0.02941176, -0.03164557,  0.05,       -0.8071066,  -0.03508772\n",
    " ,-0.23076923 , 0.04255319, -0.86363636, -0.75      , -0.        , -0.\n",
    " ,-0.02564103 ,-0.02      , -0.01851852, -0.04411765, -0.        , -0.\n",
    " ,-0.03448276 ,-0.        ,  0.01388889, -0.        , -0.01111111, -0.\n",
    " , 0.01923077 ,-0.02380952, -0.78125   ,  0.02380952, -0.8       ,  0.01851852\n",
    " ,-0.07042254 ,-0.02197802, -0.01315789,  0.13461538, -0.01520913, -0.        , -0.\n",
    " ,-0.01219512 , 0.14285714,  0.1       , -0.        , -0.        , -0.05555556\n",
    " , 0.04347826 ,-0.05263158,  0.13333333, -0.        , -0.        , -0.         ,-0.\n",
    " ,-0.         ,-0.11111111,  0.11111111,  0.175     , -0.        , -0.04081633\n",
    " , 0.175      ,-0.03846154, -0.        , -0.        ,  0.01449275, -0.02272727\n",
    " , 0.06593407 ,-0.        , -0.06779661, -0.02380952,  0.01449275, -0.08163265\n",
    " ,-0.02739726 ,-0.05357143, -0.01333333, -0.04255319, -0.        , -0.\n",
    " , 0.17391304 , 0.12698413, -0.02040816,  0.02173913, -0.        ,  0.01408451\n",
    " ,-0.         ,-0.        , -0.04      , -0.        , -0.        ,  0.08333333\n",
    " ,-0.         ,-0.03571429,  0.15555556, -0.01578947,  0.03333333, -0.\n",
    " , 0.08641975 ,-0.        , -0.        ,  0.01960784,  0.02325581, -0.\n",
    " ,-0.02040816 ,-0.02272727,  0.02985075, -0.        , -0.        ,  0.11904762\n",
    " ,-0.36538462 ,-0.16      , -0.        ,  0.14754098, -0.03636364,  0.05769231\n",
    " , 0.01886792 ,-0.26      , -0.32786885, -0.        , -0.05084746, -0.03846154\n",
    " , 0.09090909 ,-0.        , -0.05      , -0.06666667, -0.02083333,  0.02439024\n",
    " ,-0.         , 0.01941748, -0.01612903, -0.27906977, -0.175     , -0.78\n",
    " ,-0.08695652 ,-0.        ,  0.03921569, -0.03125   , -0.15       , 0.04761905\n",
    " , 0.125      ,-0.03571429, -0.02439024 ,-0.        , -0.         ,-0.\n",
    " ,-0.05769231 ,-0.04761905, -0.04      , -0.        , -0.         ,-0.18\n",
    " ,-0.04255319 ,-0.        ,  0.04545455, -0.01369863, -0.         ,-0.        , -0.        ])"
   ]
  },
  {
   "cell_type": "code",
   "execution_count": 74,
   "metadata": {},
   "outputs": [
    {
     "data": {
      "text/plain": [
       "0.17499999999999999"
      ]
     },
     "execution_count": 74,
     "metadata": {},
     "output_type": "execute_result"
    }
   ],
   "source": [
    "max(data)"
   ]
  },
  {
   "cell_type": "code",
   "execution_count": 73,
   "metadata": {},
   "outputs": [
    {
     "data": {
      "text/plain": [
       "53"
      ]
     },
     "execution_count": 73,
     "metadata": {},
     "output_type": "execute_result"
    }
   ],
   "source": [
    "np.argmax(data)"
   ]
  },
  {
   "cell_type": "code",
   "execution_count": 76,
   "metadata": {},
   "outputs": [
    {
     "data": {
      "text/plain": [
       "0"
      ]
     },
     "execution_count": 76,
     "metadata": {},
     "output_type": "execute_result"
    }
   ],
   "source": [
    "len(np.array([]))"
   ]
  },
  {
   "cell_type": "code",
   "execution_count": 71,
   "metadata": {},
   "outputs": [
    {
     "data": {
      "text/plain": [
       "<matplotlib.axes._subplots.AxesSubplot at 0xe665fde630>"
      ]
     },
     "execution_count": 71,
     "metadata": {},
     "output_type": "execute_result"
    },
    {
     "data": {
      "image/png": "[encoded data removed]",
      "text/plain": [
       "<matplotlib.figure.Figure at 0xe665ebbeb8>"
      ]
     },
     "metadata": {},
     "output_type": "display_data"
    }
   ],
   "source": [
    "sns.distplot(data, kde=False, rug=True)"
   ]
  },
  {
   "cell_type": "code",
   "execution_count": 68,
   "metadata": {},
   "outputs": [
    {
     "data": {
      "text/plain": [
       "[<matplotlib.lines.Line2D at 0xe66e659cc0>]"
      ]
     },
     "execution_count": 68,
     "metadata": {},
     "output_type": "execute_result"
    },
    {
     "data": {
      "image/png": "[encoded data removed]",
      "text/plain": [
       "<matplotlib.figure.Figure at 0xe66f755630>"
      ]
     },
     "metadata": {},
     "output_type": "display_data"
    }
   ],
   "source": [
    "mpl.rcParams['lines.linewidth'] = 4\n",
    "mpl.rcParams['lines.color'] = 'r'\n",
    "plt.plot(data)"
   ]
  },
  {
   "cell_type": "code",
   "execution_count": 57,
   "metadata": {},
   "outputs": [
    {
     "data": {
      "image/png": "[encoded data removed]",
      "text/plain": [
       "<matplotlib.figure.Figure at 0xe66206a6a0>"
      ]
     },
     "metadata": {},
     "output_type": "display_data"
    }
   ],
   "source": [
    "%timeit\n",
    "with plt.style.context(('classic')):\n",
    "    plt.plot(np.sin(np.linspace(0, 2 * np.pi)), 'r-o')\n",
    "plt.show()"
   ]
  },
  {
   "cell_type": "code",
   "execution_count": 63,
   "metadata": {},
   "outputs": [
    {
     "name": "stdout",
     "output_type": "stream",
     "text": [
      "Processing image: data\\test_images\\solidWhiteCurve.jpg\n",
      "Processing image: data\\test_images\\solidWhiteRight.jpg\n",
      "Processing image: data\\test_images\\solidYellowCurve.jpg\n",
      "Processing image: data\\test_images\\solidYellowCurve2.jpg\n",
      "Processing image: data\\test_images\\solidYellowLeft.jpg\n",
      "Processing image: data\\test_images\\whiteCarLaneSwitch.jpg\n",
      "0.25517892837524414\n"
     ]
    }
   ],
   "source": [
    "import time\n",
    "tStart = time.time()\n",
    "\n",
    "# test on images\n",
    "test_images_dir = join('data', 'test_images')\n",
    "test_images = [join(test_images_dir, name) for name in os.listdir(test_images_dir)]\n",
    "\n",
    "for test_img in test_images:\n",
    "\n",
    "    print('Processing image: {}'.format(test_img))\n",
    "\n",
    "    out_path = join('out', 'images', basename(test_img))\n",
    "    in_image = cv2.cvtColor(cv2.imread(test_img, cv2.IMREAD_COLOR), cv2.COLOR_BGR2RGB)\n",
    "    out_image = color_frame_pipeline([in_image], solid_lines=True)\n",
    "    cv2.imwrite(out_path, cv2.cvtColor(out_image, cv2.COLOR_RGB2BGR))\n",
    "plt.close('all')\n",
    "\n",
    "tEnd = time.time()\n",
    "print (tEnd - tStart)"
   ]
  },
  {
   "cell_type": "code",
   "execution_count": null,
   "metadata": {},
   "outputs": [],
   "source": [
    "b = a.region_of_interest(in_image)\n",
    "colorEntry = b[b.any(axis=-1)]/255\n",
    "colorEntry = colorEntry[:1000,:]\n",
    "T = colorEntry\n",
    "\n",
    "f, (ax1, ax2, ax3) = plt.subplots(nrows=3, ncols=1)\n",
    "\n",
    "ax1.scatter(colorEntry[:,0],colorEntry[:,1], s=5, c=T, alpha=1.)\n",
    "ax1.set_title('RGB value distribution')\n",
    "ax1.set_xlabel('R')\n",
    "ax1.set_ylabel('G')\n",
    "ax1.set_xlim(min(colorEntry[:,0]), max(colorEntry[:,0]))\n",
    "ax1.set_ylim(min(colorEntry[:,1]), max(colorEntry[:,1]))\n",
    "\n",
    "ax2.scatter(colorEntry[:,0],colorEntry[:,2], s=5, c=T, alpha=1.)\n",
    "ax2.set_xlabel('R')\n",
    "ax2.set_ylabel('B')\n",
    "ax2.set_xlim(min(colorEntry[:,0]), max(colorEntry[:,0]))\n",
    "ax2.set_ylim(min(colorEntry[:,2]), max(colorEntry[:,2]))\n",
    "\n",
    "ax3.scatter(colorEntry[:,1],colorEntry[:,2], s=5, c=T, alpha=1.)\n",
    "ax3.set_xlabel('G')\n",
    "ax3.set_ylabel('B')\n",
    "ax3.set_xlim(min(colorEntry[:,1]), max(colorEntry[:,1]))\n",
    "ax3.set_ylim(min(colorEntry[:,2]), max(colorEntry[:,2]))\n",
    "\n",
    "f.subplots_adjust(hspace=0.8)\n",
    "# plt.setp([a.get_xticklabels() for a in f.axes[:-1]], visible=False)\n",
    "plt.show()"
   ]
  }
 ],
 "metadata": {
  "kernelspec": {
   "display_name": "Python 3",
   "language": "python",
   "name": "python3"
  },
  "language_info": {
   "codemirror_mode": {
    "name": "ipython",
    "version": 3
   },
   "file_extension": ".py",
   "mimetype": "text/x-python",
   "name": "python",
   "nbconvert_exporter": "python",
   "pygments_lexer": "ipython3",
   "version": "3.6.3"
  },
  "nav_menu": {},
  "toc": {
   "navigate_menu": true,
   "number_sections": true,
   "sideBar": true,
   "threshold": 6,
   "toc_cell": false,
   "toc_section_display": "block",
   "toc_window_display": false
  }
 },
 "nbformat": 4,
 "nbformat_minor": 2
}
