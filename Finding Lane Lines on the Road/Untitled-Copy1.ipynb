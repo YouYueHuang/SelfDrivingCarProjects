{
 "cells": [
  {
   "cell_type": "markdown",
   "metadata": {},
   "source": [
    "# a Region of Interest Mask"
   ]
  },
  {
   "cell_type": "code",
   "execution_count": 1,
   "metadata": {},
   "outputs": [
    {
     "data": {
      "text/plain": [
       "\"\\nAt this point, however, it would still be tricky to extract the exact lines automatically, \\nbecause we still have some other objects detected around the periphery that aren't lane lines.\\n\\nIn this case, I'll assume that the front facing camera that took the image is mounted in a fixed position on the car, \\nsuch that the lane lines will always appear in the same general region of the image. \\nNext, I'll take advantage of this by adding a criterion to only consider \\npixels for color selection in the region where we expect to find the lane lines.\\n\\nCheck out the code below. The variables left_bottom, right_bottom, \\nand apex represent the vertices of a triangular region that I would like to retain for my color selection, \\nwhile masking everything else out. \\nHere I'm using a triangular mask to illustrate the simplest case, but later you'll use a quadrilateral, \\nand in principle, you could use any polygon.\\n\""
      ]
     },
     "execution_count": 1,
     "metadata": {},
     "output_type": "execute_result"
    }
   ],
   "source": [
    "\"\"\"\n",
    "At this point, however, it would still be tricky to extract the exact lines automatically, \n",
    "because we still have some other objects detected around the periphery that aren't lane lines.\n",
    "\n",
    "In this case, I'll assume that the front facing camera that took the image is mounted in a fixed position on the car, \n",
    "such that the lane lines will always appear in the same general region of the image. \n",
    "Next, I'll take advantage of this by adding a criterion to only consider \n",
    "pixels for color selection in the region where we expect to find the lane lines.\n",
    "\n",
    "Check out the code below. The variables left_bottom, right_bottom, \n",
    "and apex represent the vertices of a triangular region that I would like to retain for my color selection, \n",
    "while masking everything else out. \n",
    "Here I'm using a triangular mask to illustrate the simplest case, but later you'll use a quadrilateral, \n",
    "and in principle, you could use any polygon.\n",
    "\"\"\""
   ]
  },
  {
   "cell_type": "code",
   "execution_count": null,
   "metadata": {
    "collapsed": true
   },
   "outputs": [],
   "source": [
    "import matplotlib.pyplot as plt\n",
    "import matplotlib.image as mpimg\n",
    "import numpy as np\n",
    "\n",
    "# Read in the image and print some stats\n",
    "image = mpimg.imread('test.jpg')\n",
    "print('This image is: ', type(image), \n",
    "         'with dimensions:', image.shape)"
   ]
  }
 ],
 "metadata": {
  "kernelspec": {
   "display_name": "Python 3",
   "language": "python",
   "name": "python3"
  },
  "language_info": {
   "codemirror_mode": {
    "name": "ipython",
    "version": 3
   },
   "file_extension": ".py",
   "mimetype": "text/x-python",
   "name": "python",
   "nbconvert_exporter": "python",
   "pygments_lexer": "ipython3",
   "version": "3.6.1"
  }
 },
 "nbformat": 4,
 "nbformat_minor": 2
}
