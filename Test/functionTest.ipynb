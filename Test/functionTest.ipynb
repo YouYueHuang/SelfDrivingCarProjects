{
 "cells": [
  {
   "cell_type": "code",
   "execution_count": 2,
   "metadata": {},
   "outputs": [],
   "source": [
    "import numpy as np"
   ]
  },
  {
   "cell_type": "markdown",
   "metadata": {},
   "source": [
    "### search non-zero entries"
   ]
  },
  {
   "cell_type": "code",
   "execution_count": 3,
   "metadata": {},
   "outputs": [],
   "source": [
    "x = np.array([[1,0,0], [0,2,0], [1,1,0]])"
   ]
  },
  {
   "cell_type": "code",
   "execution_count": 7,
   "metadata": {},
   "outputs": [
    {
     "data": {
      "text/plain": [
       "(array([0, 1, 2, 2], dtype=int64), array([0, 1, 0, 1], dtype=int64))"
      ]
     },
     "execution_count": 7,
     "metadata": {},
     "output_type": "execute_result"
    }
   ],
   "source": [
    "np.nonzero(x)"
   ]
  },
  {
   "cell_type": "code",
   "execution_count": 8,
   "metadata": {},
   "outputs": [
    {
     "data": {
      "text/plain": [
       "array([1, 2, 1, 1])"
      ]
     },
     "execution_count": 8,
     "metadata": {},
     "output_type": "execute_result"
    }
   ],
   "source": [
    "x[np.nonzero(x)]"
   ]
  },
  {
   "cell_type": "code",
   "execution_count": 9,
   "metadata": {},
   "outputs": [
    {
     "data": {
      "text/plain": [
       "array([[0, 0],\n",
       "       [1, 1],\n",
       "       [2, 0],\n",
       "       [2, 1]], dtype=int64)"
      ]
     },
     "execution_count": 9,
     "metadata": {},
     "output_type": "execute_result"
    }
   ],
   "source": [
    "np.transpose(np.nonzero(x))"
   ]
  },
  {
   "cell_type": "markdown",
   "metadata": {},
   "source": [
    "### select entries with threshold "
   ]
  },
  {
   "cell_type": "code",
   "execution_count": 11,
   "metadata": {},
   "outputs": [
    {
     "data": {
      "text/plain": [
       "(array([1], dtype=int64), array([1], dtype=int64))"
      ]
     },
     "execution_count": 11,
     "metadata": {},
     "output_type": "execute_result"
    }
   ],
   "source": [
    "np.nonzero(x > 1)"
   ]
  },
  {
   "cell_type": "code",
   "execution_count": 12,
   "metadata": {},
   "outputs": [],
   "source": [
    "x[x > 10] = 0"
   ]
  },
  {
   "cell_type": "code",
   "execution_count": null,
   "metadata": {},
   "outputs": [],
   "source": [
    "from pandas import DataFrame\n",
    "DataFrame(lane_line_img).to_csv('lane_contour_img.csv', sep=',', encoding='utf-8')"
   ]
  },
  {
   "cell_type": "code",
   "execution_count": null,
   "metadata": {},
   "outputs": [],
   "source": [
    "pts = np.array([[100,50],[200,300],[70,20],[500,100]], np.int32)\n",
    "pts = pts.reshape((-1,1,2))\n",
    "print (pts)\n",
    "cv2.polylines(blurred_img,[pts],True,(255,0,0))\n",
    "plt.imshow(blurred_img)"
   ]
  },
  {
   "cell_type": "markdown",
   "metadata": {},
   "source": [
    "### fit the line "
   ]
  },
  {
   "cell_type": "code",
   "execution_count": 3,
   "metadata": {},
   "outputs": [],
   "source": [
    "from scipy import stats"
   ]
  },
  {
   "cell_type": "code",
   "execution_count": 4,
   "metadata": {},
   "outputs": [],
   "source": [
    "x = [2, 5, 7]\n",
    "y = [15, 33, 45]"
   ]
  },
  {
   "cell_type": "code",
   "execution_count": 5,
   "metadata": {},
   "outputs": [],
   "source": [
    "slope, intercept, _, _, std_err = stats.linregress(x,y)"
   ]
  },
  {
   "cell_type": "code",
   "execution_count": 7,
   "metadata": {},
   "outputs": [
    {
     "name": "stdout",
     "output_type": "stream",
     "text": [
      "6.0 3.0\n",
      "format is y = slope * x + intercept\n"
     ]
    }
   ],
   "source": [
    "print (slope, intercept)\n",
    "print (\"format is y = slope * x + intercept\")"
   ]
  },
  {
   "cell_type": "code",
   "execution_count": null,
   "metadata": {},
   "outputs": [],
   "source": [
    "# collect_img = np.copy(img)\n",
    "# ############\n",
    "# collect_img = np.concatenate((collect_img, np.stack(((masked_image,) * 3), axis=2)), axis=0)\n",
    "# ############        \n",
    "# print (\"OK 3\")\n",
    "\n",
    "# ############\n",
    "# collect_img = np.concatenate((collect_img, line_img), axis=0)\n",
    "# ############     \n",
    "# plt.imshow(collect_img)"
   ]
  },
  {
   "cell_type": "code",
   "execution_count": null,
   "metadata": {},
   "outputs": [],
   "source": [
    "_img = mpimg.imread(\"test_images/\" + os.listdir(\"test_images/\")[])\n",
    "img = np.copy(_img)\n",
    "#################################\n",
    "imshape = img.shape\n",
    "\n",
    "gray_img = grayscale(img) # output an image with only one color channel\n",
    "\n",
    "low_threshold = 50\n",
    "high_threshold = 200\n",
    "canny_img = canny(gray_img, low_threshold, high_threshold)\n",
    "\n",
    "kernel_size = 1\n",
    "blurred_img = gaussian_blur(canny_img, kernel_size)\n",
    "\n",
    "rho = 1\n",
    "theta = np.pi/180\n",
    "threshold = 15\n",
    "min_line_len = 40\n",
    "max_line_gap = 5\n",
    "line_img = hough_lines(blurred_img, rho, theta, threshold, min_line_len, max_line_gap) \n",
    "plt.imshow(line_img)\n",
    "\n",
    "vertices = np.array([[(0,imshape[0]),(450, imshape[0]//2), (490, imshape[0]//2), (imshape[1],imshape[0])]], dtype=np.int32)\n",
    "masked_image = region_of_interest(line_img, vertices)\n",
    "# plt.imshow(masked_image)\n",
    "\n",
    "x,y = np.nonzero(masked_image[:,:,0])\n",
    "apex_y, apex_x = fit_parabola(x, y)\n",
    "\n",
    "# print (apex_y, apex_x)\n",
    "leftLane_img = np.copy(laneline_img_copy[int(apex_y):,:int(apex_x)])\n",
    "RightLane_img = np.copy(laneline_img_copy[int(apex_y):,int(apex_x):])\n",
    "\n",
    "# plt.imshow(leftLane_img)\n",
    "# plt.imshow(RightLane_img)\n",
    "\n",
    "x1_left, x2_left = fit_Lane(leftLane_img)\n",
    "x1_right, x2_right = fit_Lane(RightLane_img)\n",
    "\n",
    "lines = [(x1_left, int(apex_y), x2_left, imshape[0]), (x1_right + int(apex_x), int(apex_y), x2_right + int(apex_x), imshape[0])]\n",
    "withLine_img = np.zeros_like(img)\n",
    "draw_lines(withLine_img, lines, thickness=7)\n",
    "# plt.imshow(withLine_img)\n",
    "plt.imshow(weighted_img(line_img, img))"
   ]
  }
 ],
 "metadata": {
  "kernelspec": {
   "display_name": "Python 3",
   "language": "python",
   "name": "python3"
  },
  "language_info": {
   "codemirror_mode": {
    "name": "ipython",
    "version": 3
   },
   "file_extension": ".py",
   "mimetype": "text/x-python",
   "name": "python",
   "nbconvert_exporter": "python",
   "pygments_lexer": "ipython3",
   "version": "3.6.3"
  },
  "nav_menu": {},
  "toc": {
   "navigate_menu": true,
   "number_sections": true,
   "sideBar": true,
   "threshold": 6,
   "toc_cell": false,
   "toc_section_display": "block",
   "toc_window_display": false
  }
 },
 "nbformat": 4,
 "nbformat_minor": 2
}
